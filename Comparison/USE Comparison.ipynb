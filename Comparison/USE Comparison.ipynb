{
 "cells": [
  {
   "cell_type": "code",
   "execution_count": 1,
   "metadata": {
    "ExecuteTime": {
     "end_time": "2021-04-21T12:21:14.740834Z",
     "start_time": "2021-04-21T12:21:10.994839Z"
    }
   },
   "outputs": [],
   "source": [
    "from rake_nltk import Rake\n",
    "import pandas as pd\n",
    "import numpy as np"
   ]
  },
  {
   "cell_type": "code",
   "execution_count": 2,
   "metadata": {
    "ExecuteTime": {
     "end_time": "2021-04-21T12:21:17.485481Z",
     "start_time": "2021-04-21T12:21:14.744810Z"
    }
   },
   "outputs": [
    {
     "data": {
      "text/plain": [
       "(85027, 5)"
      ]
     },
     "execution_count": 2,
     "metadata": {},
     "output_type": "execute_result"
    }
   ],
   "source": [
    "data = pd.read_csv(\"../Dataset/eclipse_platform.csv\")\n",
    "pd.set_option('display.max_columns', None)\n",
    "pd.set_option('display.max_rows', None)\n",
    "data['Description'].isnull().sum()\n",
    "data['Title'].isnull().sum()\n",
    "data=data.dropna(axis=0,subset=['Description'])\n",
    "\n",
    "dataframe = data[['Issue_id', 'Priority', 'Component', 'Title', 'Description']]\n",
    "# dataframe=df.head(10)\n",
    "# df.head()\n",
    "dataframe.shape"
   ]
  },
  {
   "cell_type": "code",
   "execution_count": 3,
   "metadata": {
    "ExecuteTime": {
     "end_time": "2021-04-21T12:21:17.501437Z",
     "start_time": "2021-04-21T12:21:17.488474Z"
    }
   },
   "outputs": [
    {
     "data": {
      "text/plain": [
       "(85027, 5)"
      ]
     },
     "execution_count": 3,
     "metadata": {},
     "output_type": "execute_result"
    }
   ],
   "source": [
    "selected_data=dataframe\n",
    "\n",
    "selected_data.shape"
   ]
  },
  {
   "cell_type": "code",
   "execution_count": 4,
   "metadata": {
    "ExecuteTime": {
     "end_time": "2021-04-21T12:21:17.532357Z",
     "start_time": "2021-04-21T12:21:17.504430Z"
    }
   },
   "outputs": [
    {
     "data": {
      "text/html": [
       "<div>\n",
       "<style scoped>\n",
       "    .dataframe tbody tr th:only-of-type {\n",
       "        vertical-align: middle;\n",
       "    }\n",
       "\n",
       "    .dataframe tbody tr th {\n",
       "        vertical-align: top;\n",
       "    }\n",
       "\n",
       "    .dataframe thead th {\n",
       "        text-align: right;\n",
       "    }\n",
       "</style>\n",
       "<table border=\"1\" class=\"dataframe\">\n",
       "  <thead>\n",
       "    <tr style=\"text-align: right;\">\n",
       "      <th></th>\n",
       "      <th>Issue_id</th>\n",
       "      <th>Priority</th>\n",
       "      <th>Component</th>\n",
       "      <th>Title</th>\n",
       "      <th>Description</th>\n",
       "    </tr>\n",
       "  </thead>\n",
       "  <tbody>\n",
       "    <tr>\n",
       "      <th>0</th>\n",
       "      <td>1</td>\n",
       "      <td>P3</td>\n",
       "      <td>Team</td>\n",
       "      <td>Usability issue with external editors (1GE6IRL)</td>\n",
       "      <td>- Setup a project that contains a *.gif resour...</td>\n",
       "    </tr>\n",
       "    <tr>\n",
       "      <th>1</th>\n",
       "      <td>2</td>\n",
       "      <td>P5</td>\n",
       "      <td>Team</td>\n",
       "      <td>Opening repository resources doesnt honor type...</td>\n",
       "      <td>Opening repository resource always open the de...</td>\n",
       "    </tr>\n",
       "    <tr>\n",
       "      <th>2</th>\n",
       "      <td>3</td>\n",
       "      <td>P5</td>\n",
       "      <td>Team</td>\n",
       "      <td>Sync does not indicate deletion (1GIEN83)</td>\n",
       "      <td>KM (10/2/2001 5:55:18 PM); \\tThis PR about the...</td>\n",
       "    </tr>\n",
       "    <tr>\n",
       "      <th>3</th>\n",
       "      <td>4</td>\n",
       "      <td>P5</td>\n",
       "      <td>Team</td>\n",
       "      <td>need better error message if catching up over ...</td>\n",
       "      <td>- become synchronized with some project in a r...</td>\n",
       "    </tr>\n",
       "    <tr>\n",
       "      <th>4</th>\n",
       "      <td>5</td>\n",
       "      <td>P3</td>\n",
       "      <td>Team</td>\n",
       "      <td>ISharingManager sharing API inconsistent (1GAU...</td>\n",
       "      <td>For getting/setting the managed state of a res...</td>\n",
       "    </tr>\n",
       "  </tbody>\n",
       "</table>\n",
       "</div>"
      ],
      "text/plain": [
       "   Issue_id Priority Component  \\\n",
       "0         1       P3      Team   \n",
       "1         2       P5      Team   \n",
       "2         3       P5      Team   \n",
       "3         4       P5      Team   \n",
       "4         5       P3      Team   \n",
       "\n",
       "                                               Title  \\\n",
       "0    Usability issue with external editors (1GE6IRL)   \n",
       "1  Opening repository resources doesnt honor type...   \n",
       "2          Sync does not indicate deletion (1GIEN83)   \n",
       "3  need better error message if catching up over ...   \n",
       "4  ISharingManager sharing API inconsistent (1GAU...   \n",
       "\n",
       "                                         Description  \n",
       "0  - Setup a project that contains a *.gif resour...  \n",
       "1  Opening repository resource always open the de...  \n",
       "2  KM (10/2/2001 5:55:18 PM); \\tThis PR about the...  \n",
       "3  - become synchronized with some project in a r...  \n",
       "4  For getting/setting the managed state of a res...  "
      ]
     },
     "execution_count": 4,
     "metadata": {},
     "output_type": "execute_result"
    }
   ],
   "source": [
    "selected_data.head()"
   ]
  },
  {
   "cell_type": "code",
   "execution_count": 5,
   "metadata": {
    "ExecuteTime": {
     "end_time": "2021-04-21T12:21:22.542954Z",
     "start_time": "2021-04-21T12:21:17.538340Z"
    }
   },
   "outputs": [],
   "source": [
    "import tensorflow as tf\n",
    "import tensorflow_hub as hub\n"
   ]
  },
  {
   "cell_type": "code",
   "execution_count": 6,
   "metadata": {
    "ExecuteTime": {
     "end_time": "2021-04-21T12:21:46.306398Z",
     "start_time": "2021-04-21T12:21:22.545947Z"
    }
   },
   "outputs": [
    {
     "name": "stdout",
     "output_type": "stream",
     "text": [
      "module ../../universal-sentence-encoder_4 loaded\n"
     ]
    }
   ],
   "source": [
    "# model = hub.Module(\"universal-sentence-encoder_4\")\n",
    "module_url = \"../../universal-sentence-encoder_4\"\n",
    "model = hub.load(module_url)\n",
    "\n",
    "print (\"module %s loaded\" % module_url)"
   ]
  },
  {
   "cell_type": "code",
   "execution_count": 7,
   "metadata": {
    "ExecuteTime": {
     "end_time": "2021-04-21T12:21:46.340312Z",
     "start_time": "2021-04-21T12:21:46.311387Z"
    }
   },
   "outputs": [],
   "source": [
    "summary = selected_data['Title'].values\n",
    "description=selected_data['Description'].values"
   ]
  },
  {
   "cell_type": "code",
   "execution_count": 8,
   "metadata": {
    "ExecuteTime": {
     "end_time": "2021-04-21T12:21:46.369232Z",
     "start_time": "2021-04-21T12:21:46.350283Z"
    }
   },
   "outputs": [],
   "source": [
    "def cosine(u, v):\n",
    "    return (np.dot(u, v) / (np.linalg.norm(u) * np.linalg.norm(v)))*100"
   ]
  },
  {
   "cell_type": "code",
   "execution_count": null,
   "metadata": {
    "ExecuteTime": {
     "start_time": "2021-04-21T12:21:11.046Z"
    },
    "scrolled": true
   },
   "outputs": [
    {
     "name": "stderr",
     "output_type": "stream",
     "text": [
      "C:\\Users\\abdul\\anaconda3\\lib\\site-packages\\pandas\\core\\indexing.py:1599: SettingWithCopyWarning: \n",
      "A value is trying to be set on a copy of a slice from a DataFrame.\n",
      "Try using .loc[row_indexer,col_indexer] = value instead\n",
      "\n",
      "See the caveats in the documentation: https://pandas.pydata.org/pandas-docs/stable/user_guide/indexing.html#returning-a-view-versus-a-copy\n",
      "  self.obj[key] = infer_fill_value(value)\n",
      "C:\\Users\\abdul\\anaconda3\\lib\\site-packages\\pandas\\core\\indexing.py:1720: SettingWithCopyWarning: \n",
      "A value is trying to be set on a copy of a slice from a DataFrame.\n",
      "Try using .loc[row_indexer,col_indexer] = value instead\n",
      "\n",
      "See the caveats in the documentation: https://pandas.pydata.org/pandas-docs/stable/user_guide/indexing.html#returning-a-view-versus-a-copy\n",
      "  self._setitem_single_column(loc, value, pi)\n"
     ]
    }
   ],
   "source": [
    "for  sent in selected_data.index:\n",
    "    query = selected_data.at[sent,\"Title\"]\n",
    "    query_vec = model([query])[0]\n",
    "    for sent2 in selected_data.index:\n",
    "        sim = cosine(query_vec, model([selected_data.at[sent2,'Title']])[0])\n",
    "        if(sim>50 and sim <100):\n",
    "            selected_data.loc[sent, 'is_Similar'] = 1\n",
    "            break\n",
    "        else:\n",
    "            selected_data.loc[sent, 'is_Similar'] = 0"
   ]
  },
  {
   "cell_type": "code",
   "execution_count": null,
   "metadata": {
    "ExecuteTime": {
     "start_time": "2021-04-21T12:21:11.055Z"
    }
   },
   "outputs": [],
   "source": [
    "selected_data.head(500)"
   ]
  },
  {
   "cell_type": "code",
   "execution_count": null,
   "metadata": {
    "ExecuteTime": {
     "start_time": "2021-04-21T12:21:11.063Z"
    }
   },
   "outputs": [],
   "source": [
    "selected_data.to_csv(\"Similarity/similarity2.csv\")\n"
   ]
  },
  {
   "cell_type": "code",
   "execution_count": null,
   "metadata": {
    "ExecuteTime": {
     "start_time": "2021-04-21T12:21:11.067Z"
    }
   },
   "outputs": [],
   "source": [
    "selected_data.shape"
   ]
  },
  {
   "cell_type": "code",
   "execution_count": null,
   "metadata": {},
   "outputs": [],
   "source": []
  }
 ],
 "metadata": {
  "kernelspec": {
   "display_name": "Python 3",
   "language": "python",
   "name": "python3"
  },
  "language_info": {
   "codemirror_mode": {
    "name": "ipython",
    "version": 3
   },
   "file_extension": ".py",
   "mimetype": "text/x-python",
   "name": "python",
   "nbconvert_exporter": "python",
   "pygments_lexer": "ipython3",
   "version": "3.8.5"
  },
  "toc": {
   "base_numbering": 1,
   "nav_menu": {},
   "number_sections": true,
   "sideBar": true,
   "skip_h1_title": false,
   "title_cell": "Table of Contents",
   "title_sidebar": "Contents",
   "toc_cell": false,
   "toc_position": {},
   "toc_section_display": true,
   "toc_window_display": false
  }
 },
 "nbformat": 4,
 "nbformat_minor": 4
}
