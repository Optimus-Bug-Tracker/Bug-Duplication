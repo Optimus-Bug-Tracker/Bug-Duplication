{
 "cells": [
  {
   "cell_type": "code",
   "execution_count": 1,
   "metadata": {
    "ExecuteTime": {
     "end_time": "2021-04-19T17:47:45.440268Z",
     "start_time": "2021-04-19T17:47:42.550870Z"
    },
    "scrolled": true
   },
   "outputs": [],
   "source": [
    "# pip install rake_nltk\n",
    "from rake_nltk import Rake\n",
    "import pandas as pd\n",
    "import numpy as np"
   ]
  },
  {
   "cell_type": "code",
   "execution_count": 2,
   "metadata": {
    "ExecuteTime": {
     "end_time": "2021-04-19T17:47:47.559164Z",
     "start_time": "2021-04-19T17:47:45.444263Z"
    }
   },
   "outputs": [],
   "source": [
    "data = pd.read_csv(\"../Dataset/eclipse_platform.csv\")\n",
    "pd.set_option('display.max_columns', None)\n",
    "pd.set_option('display.max_rows', None)\n",
    "data['Description'].isnull().sum()\n",
    "data['Title'].isnull().sum()\n",
    "data=data.dropna(axis=0,subset=['Description'])\n",
    "\n",
    "dataframe = data[['Issue_id', 'Priority', 'Component', 'Description', 'Title']]\n",
    "# dataframe=df.head(10)\n",
    "# df.head()"
   ]
  },
  {
   "cell_type": "code",
   "execution_count": 3,
   "metadata": {
    "ExecuteTime": {
     "end_time": "2021-04-19T17:47:47.575089Z",
     "start_time": "2021-04-19T17:47:47.564120Z"
    }
   },
   "outputs": [],
   "source": [
    "# project_name='JDT'\n",
    "# component_name='UI'"
   ]
  },
  {
   "cell_type": "code",
   "execution_count": 4,
   "metadata": {
    "ExecuteTime": {
     "end_time": "2021-04-19T17:47:47.622975Z",
     "start_time": "2021-04-19T17:47:47.586062Z"
    }
   },
   "outputs": [
    {
     "data": {
      "text/plain": [
       "(85027, 5)"
      ]
     },
     "execution_count": 4,
     "metadata": {},
     "output_type": "execute_result"
    }
   ],
   "source": [
    "# selected_data = dataframe.loc[(dataframe['Product'] == project_name) & (dataframe['Component'] == component_name)]\n",
    "# # selected_data=selected_data.head(10)\n",
    "selected_data=dataframe\n",
    "\n",
    "selected_data.shape\n"
   ]
  },
  {
   "cell_type": "code",
   "execution_count": 5,
   "metadata": {
    "ExecuteTime": {
     "end_time": "2021-04-19T17:47:47.951602Z",
     "start_time": "2021-04-19T17:47:47.625956Z"
    }
   },
   "outputs": [
    {
     "name": "stderr",
     "output_type": "stream",
     "text": [
      "C:\\Users\\abdul\\anaconda3\\lib\\site-packages\\gensim\\similarities\\__init__.py:15: UserWarning: The gensim.similarities.levenshtein submodule is disabled, because the optional Levenshtein package <https://pypi.org/project/python-Levenshtein/> is unavailable. Install Levenhstein (e.g. `pip install python-Levenshtein`) to suppress this warning.\n",
      "  warnings.warn(msg)\n"
     ]
    }
   ],
   "source": [
    "#!pip install gensim\n",
    "from gensim.parsing.preprocessing import remove_stopwords"
   ]
  },
  {
   "cell_type": "code",
   "execution_count": 6,
   "metadata": {
    "ExecuteTime": {
     "end_time": "2021-04-19T17:47:47.967555Z",
     "start_time": "2021-04-19T17:47:47.955587Z"
    }
   },
   "outputs": [],
   "source": [
    "# from gensim.parsing.preprocessing import remove_stopwords\n",
    "# my_list = []\n",
    "# summary = selected_data['Title'].values\n",
    "# for  sent in selected_data.index:\n",
    "#     filtered_sentence = remove_stopwords(selected_data.at[sent,'Title'])\n",
    "#     selected_data.loc[sent, 'Keywords'] = filtered_sentence\n",
    "\n",
    " \n",
    "\n"
   ]
  },
  {
   "cell_type": "code",
   "execution_count": 7,
   "metadata": {
    "ExecuteTime": {
     "end_time": "2021-04-19T17:47:48.014429Z",
     "start_time": "2021-04-19T17:47:47.973538Z"
    }
   },
   "outputs": [
    {
     "data": {
      "text/html": [
       "<div>\n",
       "<style scoped>\n",
       "    .dataframe tbody tr th:only-of-type {\n",
       "        vertical-align: middle;\n",
       "    }\n",
       "\n",
       "    .dataframe tbody tr th {\n",
       "        vertical-align: top;\n",
       "    }\n",
       "\n",
       "    .dataframe thead th {\n",
       "        text-align: right;\n",
       "    }\n",
       "</style>\n",
       "<table border=\"1\" class=\"dataframe\">\n",
       "  <thead>\n",
       "    <tr style=\"text-align: right;\">\n",
       "      <th></th>\n",
       "      <th>Issue_id</th>\n",
       "      <th>Priority</th>\n",
       "      <th>Component</th>\n",
       "      <th>Description</th>\n",
       "      <th>Title</th>\n",
       "    </tr>\n",
       "  </thead>\n",
       "  <tbody>\n",
       "    <tr>\n",
       "      <th>0</th>\n",
       "      <td>1</td>\n",
       "      <td>P3</td>\n",
       "      <td>Team</td>\n",
       "      <td>- Setup a project that contains a *.gif resour...</td>\n",
       "      <td>Usability issue with external editors (1GE6IRL)</td>\n",
       "    </tr>\n",
       "    <tr>\n",
       "      <th>1</th>\n",
       "      <td>2</td>\n",
       "      <td>P5</td>\n",
       "      <td>Team</td>\n",
       "      <td>Opening repository resource always open the de...</td>\n",
       "      <td>Opening repository resources doesnt honor type...</td>\n",
       "    </tr>\n",
       "    <tr>\n",
       "      <th>2</th>\n",
       "      <td>3</td>\n",
       "      <td>P5</td>\n",
       "      <td>Team</td>\n",
       "      <td>KM (10/2/2001 5:55:18 PM); \\tThis PR about the...</td>\n",
       "      <td>Sync does not indicate deletion (1GIEN83)</td>\n",
       "    </tr>\n",
       "    <tr>\n",
       "      <th>3</th>\n",
       "      <td>4</td>\n",
       "      <td>P5</td>\n",
       "      <td>Team</td>\n",
       "      <td>- become synchronized with some project in a r...</td>\n",
       "      <td>need better error message if catching up over ...</td>\n",
       "    </tr>\n",
       "    <tr>\n",
       "      <th>4</th>\n",
       "      <td>5</td>\n",
       "      <td>P3</td>\n",
       "      <td>Team</td>\n",
       "      <td>For getting/setting the managed state of a res...</td>\n",
       "      <td>ISharingManager sharing API inconsistent (1GAU...</td>\n",
       "    </tr>\n",
       "  </tbody>\n",
       "</table>\n",
       "</div>"
      ],
      "text/plain": [
       "   Issue_id Priority Component  \\\n",
       "0         1       P3      Team   \n",
       "1         2       P5      Team   \n",
       "2         3       P5      Team   \n",
       "3         4       P5      Team   \n",
       "4         5       P3      Team   \n",
       "\n",
       "                                         Description  \\\n",
       "0  - Setup a project that contains a *.gif resour...   \n",
       "1  Opening repository resource always open the de...   \n",
       "2  KM (10/2/2001 5:55:18 PM); \\tThis PR about the...   \n",
       "3  - become synchronized with some project in a r...   \n",
       "4  For getting/setting the managed state of a res...   \n",
       "\n",
       "                                               Title  \n",
       "0    Usability issue with external editors (1GE6IRL)  \n",
       "1  Opening repository resources doesnt honor type...  \n",
       "2          Sync does not indicate deletion (1GIEN83)  \n",
       "3  need better error message if catching up over ...  \n",
       "4  ISharingManager sharing API inconsistent (1GAU...  "
      ]
     },
     "execution_count": 7,
     "metadata": {},
     "output_type": "execute_result"
    }
   ],
   "source": [
    "selected_data.head()"
   ]
  },
  {
   "cell_type": "code",
   "execution_count": 8,
   "metadata": {
    "ExecuteTime": {
     "end_time": "2021-04-19T17:47:48.030386Z",
     "start_time": "2021-04-19T17:47:48.021411Z"
    }
   },
   "outputs": [],
   "source": [
    "# !pip3 install --upgrade tensorflow-gpu\n",
    "# # Install TF-Hub.\n",
    "# !pip3 install tensorflow-hub\n"
   ]
  },
  {
   "cell_type": "code",
   "execution_count": 9,
   "metadata": {
    "ExecuteTime": {
     "end_time": "2021-04-19T17:47:52.464014Z",
     "start_time": "2021-04-19T17:47:48.033378Z"
    }
   },
   "outputs": [],
   "source": [
    "import tensorflow as tf\n",
    "import tensorflow_hub as hub\n"
   ]
  },
  {
   "cell_type": "code",
   "execution_count": 10,
   "metadata": {
    "ExecuteTime": {
     "end_time": "2021-04-19T17:48:10.122140Z",
     "start_time": "2021-04-19T17:47:52.467005Z"
    }
   },
   "outputs": [
    {
     "name": "stdout",
     "output_type": "stream",
     "text": [
      "module ../../universal-sentence-encoder_4 loaded\n"
     ]
    }
   ],
   "source": [
    "# model = hub.Module(\"universal-sentence-encoder_4\")\n",
    "module_url = \"../../universal-sentence-encoder_4\"\n",
    "model = hub.load(module_url)\n",
    "\n",
    "print (\"module %s loaded\" % module_url)"
   ]
  },
  {
   "cell_type": "code",
   "execution_count": 11,
   "metadata": {
    "ExecuteTime": {
     "end_time": "2021-04-19T17:48:10.154056Z",
     "start_time": "2021-04-19T17:48:10.126131Z"
    }
   },
   "outputs": [],
   "source": [
    "summary = selected_data['Title'].values\n",
    "description=selected_data['Description'].values"
   ]
  },
  {
   "cell_type": "code",
   "execution_count": 12,
   "metadata": {
    "ExecuteTime": {
     "end_time": "2021-04-19T17:48:10.736621Z",
     "start_time": "2021-04-19T17:48:10.158053Z"
    }
   },
   "outputs": [],
   "source": [
    "\n",
    "query = \"[CVS UI] Need VCM Prefs - Default Repo Connection (1GC3746)\"\n",
    "# query_sentence = remove_stopwords(query)\n",
    "# query_vec = model([query_sentence])[0]\n",
    "query_vec = model([query])[0]\n",
    "\n",
    "# query2 = \"It would be helpful if there was a notion of default repository connection so that when you; connected a project you wouldnt have to walk through the list everytime.; ; Not sure how this goes into prefs if its never been created before.  Maybe when you create them you can mark one; as the default.; ; At a minimum having a default repository TYPE (cvs/cc) would be helpful (which then the pulldown in the repo connection; wizard has a default).; ; NOTES:\"\n",
    "\n",
    "# query_vec2 = model([query2])[0]"
   ]
  },
  {
   "cell_type": "code",
   "execution_count": 13,
   "metadata": {
    "ExecuteTime": {
     "end_time": "2021-04-19T17:48:10.752514Z",
     "start_time": "2021-04-19T17:48:10.739549Z"
    }
   },
   "outputs": [],
   "source": [
    "def cosine(u, v):\n",
    "    return (np.dot(u, v) / (np.linalg.norm(u) * np.linalg.norm(v)))*100"
   ]
  },
  {
   "cell_type": "code",
   "execution_count": null,
   "metadata": {
    "ExecuteTime": {
     "start_time": "2021-04-19T17:47:42.604Z"
    }
   },
   "outputs": [
    {
     "name": "stderr",
     "output_type": "stream",
     "text": [
      "C:\\Users\\abdul\\anaconda3\\lib\\site-packages\\pandas\\core\\indexing.py:1596: SettingWithCopyWarning: \n",
      "A value is trying to be set on a copy of a slice from a DataFrame.\n",
      "Try using .loc[row_indexer,col_indexer] = value instead\n",
      "\n",
      "See the caveats in the documentation: https://pandas.pydata.org/pandas-docs/stable/user_guide/indexing.html#returning-a-view-versus-a-copy\n",
      "  self.obj[key] = _infer_fill_value(value)\n",
      "C:\\Users\\abdul\\anaconda3\\lib\\site-packages\\pandas\\core\\indexing.py:1765: SettingWithCopyWarning: \n",
      "A value is trying to be set on a copy of a slice from a DataFrame.\n",
      "Try using .loc[row_indexer,col_indexer] = value instead\n",
      "\n",
      "See the caveats in the documentation: https://pandas.pydata.org/pandas-docs/stable/user_guide/indexing.html#returning-a-view-versus-a-copy\n",
      "  isetter(loc, value)\n"
     ]
    }
   ],
   "source": [
    "for  sent in selected_data.index:\n",
    "  sim = cosine(query_vec, model([selected_data.at[sent,'Title']])[0])\n",
    "  selected_data.loc[sent, 'Similarity'] = sim\n",
    "  sim2 = cosine(query_vec, model([selected_data.at[sent, 'Description']])[0])\n",
    "  selected_data.loc[sent, 'SimilarityDescription'] = sim2\n"
   ]
  },
  {
   "cell_type": "code",
   "execution_count": null,
   "metadata": {
    "ExecuteTime": {
     "start_time": "2021-04-19T17:47:42.611Z"
    }
   },
   "outputs": [],
   "source": [
    "# datanew=selected_data.loc[(selected_data['Similarity'] >= 0)]\n",
    "# datanew\n",
    "selected_data.head()"
   ]
  },
  {
   "cell_type": "code",
   "execution_count": null,
   "metadata": {
    "ExecuteTime": {
     "start_time": "2021-04-19T17:47:42.615Z"
    }
   },
   "outputs": [],
   "source": [
    "tempData=selected_data"
   ]
  },
  {
   "cell_type": "code",
   "execution_count": null,
   "metadata": {
    "ExecuteTime": {
     "start_time": "2021-04-19T17:47:42.618Z"
    },
    "scrolled": true
   },
   "outputs": [],
   "source": [
    "for sent in tempData.index:\n",
    "    avgData = (tempData.at[sent,'Similarity']+tempData.at[sent,'SimilarityDescription'])/2\n",
    "    tempData.loc[sent,'AvgSimilarity'] = avgData"
   ]
  },
  {
   "cell_type": "code",
   "execution_count": null,
   "metadata": {
    "ExecuteTime": {
     "start_time": "2021-04-19T17:47:42.622Z"
    }
   },
   "outputs": [],
   "source": [
    "tempData=tempData.sort_values(by='AvgSimilarity', ascending=False)\n",
    "tempData.head(20)"
   ]
  },
  {
   "cell_type": "code",
   "execution_count": null,
   "metadata": {},
   "outputs": [],
   "source": []
  }
 ],
 "metadata": {
  "hide_input": false,
  "kernelspec": {
   "display_name": "Python 3",
   "language": "python",
   "name": "python3"
  },
  "language_info": {
   "codemirror_mode": {
    "name": "ipython",
    "version": 3
   },
   "file_extension": ".py",
   "mimetype": "text/x-python",
   "name": "python",
   "nbconvert_exporter": "python",
   "pygments_lexer": "ipython3",
   "version": "3.8.5"
  },
  "toc": {
   "base_numbering": 1,
   "nav_menu": {},
   "number_sections": true,
   "sideBar": true,
   "skip_h1_title": false,
   "title_cell": "Table of Contents",
   "title_sidebar": "Contents",
   "toc_cell": false,
   "toc_position": {},
   "toc_section_display": true,
   "toc_window_display": false
  },
  "varInspector": {
   "cols": {
    "lenName": 16,
    "lenType": 16,
    "lenVar": 40
   },
   "kernels_config": {
    "python": {
     "delete_cmd_postfix": "",
     "delete_cmd_prefix": "del ",
     "library": "var_list.py",
     "varRefreshCmd": "print(var_dic_list())"
    },
    "r": {
     "delete_cmd_postfix": ") ",
     "delete_cmd_prefix": "rm(",
     "library": "var_list.r",
     "varRefreshCmd": "cat(var_dic_list()) "
    }
   },
   "types_to_exclude": [
    "module",
    "function",
    "builtin_function_or_method",
    "instance",
    "_Feature"
   ],
   "window_display": false
  }
 },
 "nbformat": 4,
 "nbformat_minor": 4
}
