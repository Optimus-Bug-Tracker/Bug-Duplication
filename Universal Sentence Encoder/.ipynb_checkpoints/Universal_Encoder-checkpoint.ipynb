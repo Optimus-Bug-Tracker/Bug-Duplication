{
 "cells": [
  {
   "cell_type": "code",
   "execution_count": 1,
   "metadata": {
    "ExecuteTime": {
     "end_time": "2021-04-19T15:52:02.466664Z",
     "start_time": "2021-04-19T15:51:58.983132Z"
    },
    "scrolled": true
   },
   "outputs": [],
   "source": [
    "# pip install rake_nltk\n",
    "from rake_nltk import Rake\n",
    "import pandas as pd\n",
    "import numpy as np"
   ]
  },
  {
   "cell_type": "code",
   "execution_count": 2,
   "metadata": {
    "ExecuteTime": {
     "end_time": "2021-04-19T15:52:04.748085Z",
     "start_time": "2021-04-19T15:52:02.471651Z"
    }
   },
   "outputs": [],
   "source": [
    "data = pd.read_csv(\"../Dataset/eclipse_platform.csv\")\n",
    "pd.set_option('display.max_columns', None)\n",
    "pd.set_option('display.max_rows', None)\n",
    "data['Description'].isnull().sum()\n",
    "data['Title'].isnull().sum()\n",
    "data=data.dropna(axis=0,subset=['Description'])\n",
    "\n",
    "dataframe = data[['Issue_id', 'Priority', 'Component', 'Description', 'Title']]\n",
    "# dataframe=df.head(10)\n",
    "# df.head()"
   ]
  },
  {
   "cell_type": "code",
   "execution_count": 3,
   "metadata": {
    "ExecuteTime": {
     "end_time": "2021-04-19T15:52:04.765038Z",
     "start_time": "2021-04-19T15:52:04.751075Z"
    }
   },
   "outputs": [],
   "source": [
    "# project_name='JDT'\n",
    "# component_name='UI'"
   ]
  },
  {
   "cell_type": "code",
   "execution_count": 4,
   "metadata": {
    "ExecuteTime": {
     "end_time": "2021-04-19T15:52:04.795958Z",
     "start_time": "2021-04-19T15:52:04.769027Z"
    }
   },
   "outputs": [
    {
     "data": {
      "text/plain": [
       "(85027, 5)"
      ]
     },
     "execution_count": 4,
     "metadata": {},
     "output_type": "execute_result"
    }
   ],
   "source": [
    "# selected_data = dataframe.loc[(dataframe['Product'] == project_name) & (dataframe['Component'] == component_name)]\n",
    "# # selected_data=selected_data.head(10)\n",
    "selected_data=dataframe\n",
    "\n",
    "selected_data.shape\n"
   ]
  },
  {
   "cell_type": "code",
   "execution_count": 5,
   "metadata": {
    "ExecuteTime": {
     "end_time": "2021-04-19T15:52:05.127073Z",
     "start_time": "2021-04-19T15:52:04.799945Z"
    }
   },
   "outputs": [
    {
     "name": "stderr",
     "output_type": "stream",
     "text": [
      "C:\\Users\\abdul\\anaconda3\\lib\\site-packages\\gensim\\similarities\\__init__.py:15: UserWarning: The gensim.similarities.levenshtein submodule is disabled, because the optional Levenshtein package <https://pypi.org/project/python-Levenshtein/> is unavailable. Install Levenhstein (e.g. `pip install python-Levenshtein`) to suppress this warning.\n",
      "  warnings.warn(msg)\n"
     ]
    }
   ],
   "source": [
    "#!pip install gensim\n",
    "from gensim.parsing.preprocessing import remove_stopwords"
   ]
  },
  {
   "cell_type": "code",
   "execution_count": 6,
   "metadata": {
    "ExecuteTime": {
     "end_time": "2021-04-19T15:52:05.142030Z",
     "start_time": "2021-04-19T15:52:05.133055Z"
    }
   },
   "outputs": [],
   "source": [
    "# from gensim.parsing.preprocessing import remove_stopwords\n",
    "# my_list = []\n",
    "# summary = selected_data['Title'].values\n",
    "# for  sent in selected_data.index:\n",
    "#     filtered_sentence = remove_stopwords(selected_data.at[sent,'Title'])\n",
    "#     selected_data.loc[sent, 'Keywords'] = filtered_sentence\n",
    "\n",
    " \n",
    "\n"
   ]
  },
  {
   "cell_type": "code",
   "execution_count": 7,
   "metadata": {
    "ExecuteTime": {
     "end_time": "2021-04-19T15:52:05.188906Z",
     "start_time": "2021-04-19T15:52:05.150009Z"
    }
   },
   "outputs": [
    {
     "data": {
      "text/html": [
       "<div>\n",
       "<style scoped>\n",
       "    .dataframe tbody tr th:only-of-type {\n",
       "        vertical-align: middle;\n",
       "    }\n",
       "\n",
       "    .dataframe tbody tr th {\n",
       "        vertical-align: top;\n",
       "    }\n",
       "\n",
       "    .dataframe thead th {\n",
       "        text-align: right;\n",
       "    }\n",
       "</style>\n",
       "<table border=\"1\" class=\"dataframe\">\n",
       "  <thead>\n",
       "    <tr style=\"text-align: right;\">\n",
       "      <th></th>\n",
       "      <th>Issue_id</th>\n",
       "      <th>Priority</th>\n",
       "      <th>Component</th>\n",
       "      <th>Description</th>\n",
       "      <th>Title</th>\n",
       "    </tr>\n",
       "  </thead>\n",
       "  <tbody>\n",
       "    <tr>\n",
       "      <th>0</th>\n",
       "      <td>1</td>\n",
       "      <td>P3</td>\n",
       "      <td>Team</td>\n",
       "      <td>- Setup a project that contains a *.gif resour...</td>\n",
       "      <td>Usability issue with external editors (1GE6IRL)</td>\n",
       "    </tr>\n",
       "    <tr>\n",
       "      <th>1</th>\n",
       "      <td>2</td>\n",
       "      <td>P5</td>\n",
       "      <td>Team</td>\n",
       "      <td>Opening repository resource always open the de...</td>\n",
       "      <td>Opening repository resources doesnt honor type...</td>\n",
       "    </tr>\n",
       "    <tr>\n",
       "      <th>2</th>\n",
       "      <td>3</td>\n",
       "      <td>P5</td>\n",
       "      <td>Team</td>\n",
       "      <td>KM (10/2/2001 5:55:18 PM); \\tThis PR about the...</td>\n",
       "      <td>Sync does not indicate deletion (1GIEN83)</td>\n",
       "    </tr>\n",
       "    <tr>\n",
       "      <th>3</th>\n",
       "      <td>4</td>\n",
       "      <td>P5</td>\n",
       "      <td>Team</td>\n",
       "      <td>- become synchronized with some project in a r...</td>\n",
       "      <td>need better error message if catching up over ...</td>\n",
       "    </tr>\n",
       "    <tr>\n",
       "      <th>4</th>\n",
       "      <td>5</td>\n",
       "      <td>P3</td>\n",
       "      <td>Team</td>\n",
       "      <td>For getting/setting the managed state of a res...</td>\n",
       "      <td>ISharingManager sharing API inconsistent (1GAU...</td>\n",
       "    </tr>\n",
       "  </tbody>\n",
       "</table>\n",
       "</div>"
      ],
      "text/plain": [
       "   Issue_id Priority Component  \\\n",
       "0         1       P3      Team   \n",
       "1         2       P5      Team   \n",
       "2         3       P5      Team   \n",
       "3         4       P5      Team   \n",
       "4         5       P3      Team   \n",
       "\n",
       "                                         Description  \\\n",
       "0  - Setup a project that contains a *.gif resour...   \n",
       "1  Opening repository resource always open the de...   \n",
       "2  KM (10/2/2001 5:55:18 PM); \\tThis PR about the...   \n",
       "3  - become synchronized with some project in a r...   \n",
       "4  For getting/setting the managed state of a res...   \n",
       "\n",
       "                                               Title  \n",
       "0    Usability issue with external editors (1GE6IRL)  \n",
       "1  Opening repository resources doesnt honor type...  \n",
       "2          Sync does not indicate deletion (1GIEN83)  \n",
       "3  need better error message if catching up over ...  \n",
       "4  ISharingManager sharing API inconsistent (1GAU...  "
      ]
     },
     "execution_count": 7,
     "metadata": {},
     "output_type": "execute_result"
    }
   ],
   "source": [
    "selected_data.head()"
   ]
  },
  {
   "cell_type": "code",
   "execution_count": 8,
   "metadata": {
    "ExecuteTime": {
     "end_time": "2021-04-19T15:52:05.204863Z",
     "start_time": "2021-04-19T15:52:05.194888Z"
    }
   },
   "outputs": [],
   "source": [
    "# !pip3 install --upgrade tensorflow-gpu\n",
    "# # Install TF-Hub.\n",
    "# !pip3 install tensorflow-hub\n"
   ]
  },
  {
   "cell_type": "code",
   "execution_count": 9,
   "metadata": {
    "ExecuteTime": {
     "end_time": "2021-04-19T15:52:08.905642Z",
     "start_time": "2021-04-19T15:52:05.209849Z"
    }
   },
   "outputs": [],
   "source": [
    "import tensorflow as tf\n",
    "import tensorflow_hub as hub\n"
   ]
  },
  {
   "cell_type": "code",
   "execution_count": 10,
   "metadata": {
    "ExecuteTime": {
     "end_time": "2021-04-19T15:52:25.634867Z",
     "start_time": "2021-04-19T15:52:08.908634Z"
    }
   },
   "outputs": [
    {
     "name": "stdout",
     "output_type": "stream",
     "text": [
      "module ../../universal-sentence-encoder_4 loaded\n"
     ]
    }
   ],
   "source": [
    "# model = hub.Module(\"universal-sentence-encoder_4\")\n",
    "module_url = \"../../universal-sentence-encoder_4\"\n",
    "model = hub.load(module_url)\n",
    "\n",
    "print (\"module %s loaded\" % module_url)"
   ]
  },
  {
   "cell_type": "code",
   "execution_count": 11,
   "metadata": {
    "ExecuteTime": {
     "end_time": "2021-04-19T15:52:25.650828Z",
     "start_time": "2021-04-19T15:52:25.638859Z"
    }
   },
   "outputs": [],
   "source": [
    "summary = selected_data['Title'].values"
   ]
  },
  {
   "cell_type": "code",
   "execution_count": 12,
   "metadata": {
    "ExecuteTime": {
     "end_time": "2021-04-19T15:52:26.257272Z",
     "start_time": "2021-04-19T15:52:25.666783Z"
    }
   },
   "outputs": [],
   "source": [
    "\n",
    "query = \"[CVS UI] Need VCM Prefs - Default Repo Connection (1GC3746)\"\n",
    "# query_sentence = remove_stopwords(query)\n",
    "# query_vec = model([query_sentence])[0]\n",
    "query_vec = model([query])[0]"
   ]
  },
  {
   "cell_type": "code",
   "execution_count": 13,
   "metadata": {
    "ExecuteTime": {
     "end_time": "2021-04-19T15:52:26.273168Z",
     "start_time": "2021-04-19T15:52:26.260202Z"
    }
   },
   "outputs": [],
   "source": [
    "def cosine(u, v):\n",
    "    return (np.dot(u, v) / (np.linalg.norm(u) * np.linalg.norm(v)))*100"
   ]
  },
  {
   "cell_type": "code",
   "execution_count": 14,
   "metadata": {
    "ExecuteTime": {
     "end_time": "2021-04-19T15:58:48.759401Z",
     "start_time": "2021-04-19T15:52:26.276159Z"
    }
   },
   "outputs": [
    {
     "name": "stderr",
     "output_type": "stream",
     "text": [
      "C:\\Users\\abdul\\anaconda3\\lib\\site-packages\\pandas\\core\\indexing.py:1596: SettingWithCopyWarning: \n",
      "A value is trying to be set on a copy of a slice from a DataFrame.\n",
      "Try using .loc[row_indexer,col_indexer] = value instead\n",
      "\n",
      "See the caveats in the documentation: https://pandas.pydata.org/pandas-docs/stable/user_guide/indexing.html#returning-a-view-versus-a-copy\n",
      "  self.obj[key] = _infer_fill_value(value)\n",
      "C:\\Users\\abdul\\anaconda3\\lib\\site-packages\\pandas\\core\\indexing.py:1765: SettingWithCopyWarning: \n",
      "A value is trying to be set on a copy of a slice from a DataFrame.\n",
      "Try using .loc[row_indexer,col_indexer] = value instead\n",
      "\n",
      "See the caveats in the documentation: https://pandas.pydata.org/pandas-docs/stable/user_guide/indexing.html#returning-a-view-versus-a-copy\n",
      "  isetter(loc, value)\n"
     ]
    }
   ],
   "source": [
    "for  sent in selected_data.index:\n",
    "  sim = cosine(query_vec, model([selected_data.at[sent,'Title']])[0])\n",
    "  selected_data.loc[sent, 'Similarity'] = sim      \n"
   ]
  },
  {
   "cell_type": "code",
   "execution_count": 15,
   "metadata": {
    "ExecuteTime": {
     "end_time": "2021-04-19T15:58:48.807278Z",
     "start_time": "2021-04-19T15:58:48.761396Z"
    }
   },
   "outputs": [],
   "source": [
    "datanew=selected_data.loc[(selected_data['Similarity'] >= 0)]\n",
    "# datanew"
   ]
  },
  {
   "cell_type": "code",
   "execution_count": 16,
   "metadata": {
    "ExecuteTime": {
     "end_time": "2021-04-19T15:58:48.823233Z",
     "start_time": "2021-04-19T15:58:48.811264Z"
    }
   },
   "outputs": [],
   "source": [
    "# datanew=datanew.sort_values(by='Similarity', ascending=False)\n"
   ]
  },
  {
   "cell_type": "code",
   "execution_count": 17,
   "metadata": {
    "ExecuteTime": {
     "end_time": "2021-04-19T15:58:48.839191Z",
     "start_time": "2021-04-19T15:58:48.826224Z"
    }
   },
   "outputs": [],
   "source": [
    "# datanew"
   ]
  },
  {
   "cell_type": "code",
   "execution_count": 18,
   "metadata": {
    "ExecuteTime": {
     "end_time": "2021-04-19T15:58:48.855147Z",
     "start_time": "2021-04-19T15:58:48.845175Z"
    }
   },
   "outputs": [],
   "source": [
    "description=datanew['Description'].values"
   ]
  },
  {
   "cell_type": "code",
   "execution_count": 19,
   "metadata": {
    "ExecuteTime": {
     "end_time": "2021-04-19T15:58:48.871104Z",
     "start_time": "2021-04-19T15:58:48.862131Z"
    }
   },
   "outputs": [],
   "source": [
    "# description"
   ]
  },
  {
   "cell_type": "code",
   "execution_count": 20,
   "metadata": {
    "ExecuteTime": {
     "end_time": "2021-04-19T15:58:48.903019Z",
     "start_time": "2021-04-19T15:58:48.878085Z"
    }
   },
   "outputs": [],
   "source": [
    "# sentence_embeddings_description = model(\"description\")\n",
    "\n"
   ]
  },
  {
   "cell_type": "code",
   "execution_count": 21,
   "metadata": {
    "ExecuteTime": {
     "end_time": "2021-04-19T15:58:48.932939Z",
     "start_time": "2021-04-19T15:58:48.910996Z"
    }
   },
   "outputs": [],
   "source": [
    "query2 = \"It would be helpful if there was a notion of default repository connection so that when you; connected a project you wouldnt have to walk through the list everytime.; ; Not sure how this goes into prefs if its never been created before.  Maybe when you create them you can mark one; as the default.; ; At a minimum having a default repository TYPE (cvs/cc) would be helpful (which then the pulldown in the repo connection; wizard has a default).; ; NOTES:\"\n",
    "\n",
    "query_vec2 = model([query2])[0]"
   ]
  },
  {
   "cell_type": "code",
   "execution_count": 22,
   "metadata": {
    "ExecuteTime": {
     "end_time": "2021-04-19T16:05:26.390971Z",
     "start_time": "2021-04-19T15:58:48.939920Z"
    }
   },
   "outputs": [
    {
     "name": "stderr",
     "output_type": "stream",
     "text": [
      "C:\\Users\\abdul\\anaconda3\\lib\\site-packages\\pandas\\core\\indexing.py:1596: SettingWithCopyWarning: \n",
      "A value is trying to be set on a copy of a slice from a DataFrame.\n",
      "Try using .loc[row_indexer,col_indexer] = value instead\n",
      "\n",
      "See the caveats in the documentation: https://pandas.pydata.org/pandas-docs/stable/user_guide/indexing.html#returning-a-view-versus-a-copy\n",
      "  self.obj[key] = _infer_fill_value(value)\n",
      "C:\\Users\\abdul\\anaconda3\\lib\\site-packages\\pandas\\core\\indexing.py:1765: SettingWithCopyWarning: \n",
      "A value is trying to be set on a copy of a slice from a DataFrame.\n",
      "Try using .loc[row_indexer,col_indexer] = value instead\n",
      "\n",
      "See the caveats in the documentation: https://pandas.pydata.org/pandas-docs/stable/user_guide/indexing.html#returning-a-view-versus-a-copy\n",
      "  isetter(loc, value)\n"
     ]
    }
   ],
   "source": [
    "for sent in datanew.index:\n",
    "    sim = cosine(query_vec2, model([datanew.at[sent, 'Description']])[0])\n",
    "    datanew.loc[sent, 'SimilarityDescription'] = sim"
   ]
  },
  {
   "cell_type": "code",
   "execution_count": 23,
   "metadata": {
    "ExecuteTime": {
     "end_time": "2021-04-19T16:05:26.469762Z",
     "start_time": "2021-04-19T16:05:26.394960Z"
    }
   },
   "outputs": [],
   "source": [
    "narrowDownDescription=datanew.loc[(datanew['SimilarityDescription'] >= 0)]\n"
   ]
  },
  {
   "cell_type": "code",
   "execution_count": 25,
   "metadata": {
    "ExecuteTime": {
     "end_time": "2021-04-19T16:05:58.622062Z",
     "start_time": "2021-04-19T16:05:58.594138Z"
    }
   },
   "outputs": [
    {
     "data": {
      "text/html": [
       "<div>\n",
       "<style scoped>\n",
       "    .dataframe tbody tr th:only-of-type {\n",
       "        vertical-align: middle;\n",
       "    }\n",
       "\n",
       "    .dataframe tbody tr th {\n",
       "        vertical-align: top;\n",
       "    }\n",
       "\n",
       "    .dataframe thead th {\n",
       "        text-align: right;\n",
       "    }\n",
       "</style>\n",
       "<table border=\"1\" class=\"dataframe\">\n",
       "  <thead>\n",
       "    <tr style=\"text-align: right;\">\n",
       "      <th></th>\n",
       "      <th>Issue_id</th>\n",
       "      <th>Priority</th>\n",
       "      <th>Component</th>\n",
       "      <th>Description</th>\n",
       "      <th>Title</th>\n",
       "      <th>Similarity</th>\n",
       "      <th>SimilarityDescription</th>\n",
       "    </tr>\n",
       "  </thead>\n",
       "  <tbody>\n",
       "    <tr>\n",
       "      <th>0</th>\n",
       "      <td>1</td>\n",
       "      <td>P3</td>\n",
       "      <td>Team</td>\n",
       "      <td>- Setup a project that contains a *.gif resour...</td>\n",
       "      <td>Usability issue with external editors (1GE6IRL)</td>\n",
       "      <td>18.763900</td>\n",
       "      <td>39.028534</td>\n",
       "    </tr>\n",
       "    <tr>\n",
       "      <th>1</th>\n",
       "      <td>2</td>\n",
       "      <td>P5</td>\n",
       "      <td>Team</td>\n",
       "      <td>Opening repository resource always open the de...</td>\n",
       "      <td>Opening repository resources doesnt honor type...</td>\n",
       "      <td>34.989721</td>\n",
       "      <td>35.697800</td>\n",
       "    </tr>\n",
       "    <tr>\n",
       "      <th>2</th>\n",
       "      <td>3</td>\n",
       "      <td>P5</td>\n",
       "      <td>Team</td>\n",
       "      <td>KM (10/2/2001 5:55:18 PM); \\tThis PR about the...</td>\n",
       "      <td>Sync does not indicate deletion (1GIEN83)</td>\n",
       "      <td>12.727782</td>\n",
       "      <td>33.479184</td>\n",
       "    </tr>\n",
       "    <tr>\n",
       "      <th>3</th>\n",
       "      <td>4</td>\n",
       "      <td>P5</td>\n",
       "      <td>Team</td>\n",
       "      <td>- become synchronized with some project in a r...</td>\n",
       "      <td>need better error message if catching up over ...</td>\n",
       "      <td>6.684190</td>\n",
       "      <td>33.906001</td>\n",
       "    </tr>\n",
       "    <tr>\n",
       "      <th>4</th>\n",
       "      <td>5</td>\n",
       "      <td>P3</td>\n",
       "      <td>Team</td>\n",
       "      <td>For getting/setting the managed state of a res...</td>\n",
       "      <td>ISharingManager sharing API inconsistent (1GAU...</td>\n",
       "      <td>20.882341</td>\n",
       "      <td>28.604478</td>\n",
       "    </tr>\n",
       "  </tbody>\n",
       "</table>\n",
       "</div>"
      ],
      "text/plain": [
       "   Issue_id Priority Component  \\\n",
       "0         1       P3      Team   \n",
       "1         2       P5      Team   \n",
       "2         3       P5      Team   \n",
       "3         4       P5      Team   \n",
       "4         5       P3      Team   \n",
       "\n",
       "                                         Description  \\\n",
       "0  - Setup a project that contains a *.gif resour...   \n",
       "1  Opening repository resource always open the de...   \n",
       "2  KM (10/2/2001 5:55:18 PM); \\tThis PR about the...   \n",
       "3  - become synchronized with some project in a r...   \n",
       "4  For getting/setting the managed state of a res...   \n",
       "\n",
       "                                               Title  Similarity  \\\n",
       "0    Usability issue with external editors (1GE6IRL)   18.763900   \n",
       "1  Opening repository resources doesnt honor type...   34.989721   \n",
       "2          Sync does not indicate deletion (1GIEN83)   12.727782   \n",
       "3  need better error message if catching up over ...    6.684190   \n",
       "4  ISharingManager sharing API inconsistent (1GAU...   20.882341   \n",
       "\n",
       "   SimilarityDescription  \n",
       "0              39.028534  \n",
       "1              35.697800  \n",
       "2              33.479184  \n",
       "3              33.906001  \n",
       "4              28.604478  "
      ]
     },
     "execution_count": 25,
     "metadata": {},
     "output_type": "execute_result"
    }
   ],
   "source": [
    "narrowDownDescription.head()"
   ]
  },
  {
   "cell_type": "code",
   "execution_count": 43,
   "metadata": {
    "ExecuteTime": {
     "end_time": "2021-04-19T16:14:19.053765Z",
     "start_time": "2021-04-19T16:14:18.858297Z"
    }
   },
   "outputs": [
    {
     "name": "stdout",
     "output_type": "stream",
     "text": [
      "28.896217048168182\n",
      "35.3437602519989\n",
      "23.103483021259308\n",
      "20.295095443725586\n",
      "24.74340945482254\n",
      "21.418682485818863\n",
      "21.592359989881516\n",
      "13.888286985456944\n",
      "19.736426323652267\n",
      "30.862323939800262\n",
      "29.423149675130844\n",
      "20.78983411192894\n",
      "31.076867878437042\n",
      "31.734832376241684\n",
      "22.21279814839363\n",
      "28.62749695777893\n",
      "24.14202317595482\n",
      "44.98336315155029\n",
      "33.80155824124813\n",
      "37.14008629322052\n",
      "14.476704597473145\n",
      "19.299711287021637\n",
      "17.52358116209507\n",
      "100.00000596046448\n",
      "54.9149289727211\n",
      "39.560459554195404\n",
      "38.57714235782623\n",
      "21.382087469100952\n",
      "38.10318559408188\n",
      "28.83577197790146\n",
      "20.182041823863983\n",
      "24.561668187379837\n",
      "27.275267243385315\n",
      "32.85544663667679\n",
      "23.96065518260002\n",
      "33.8753268122673\n",
      "19.201546162366867\n",
      "53.45393121242523\n",
      "27.041395753622055\n",
      "34.85712558031082\n",
      "29.288838803768158\n",
      "24.64478611946106\n",
      "20.8883173763752\n",
      "49.411310255527496\n",
      "30.19449934363365\n",
      "18.561415746808052\n",
      "18.728365655988455\n",
      "18.311898410320282\n",
      "39.676956832408905\n",
      "17.263731360435486\n",
      "23.658158630132675\n",
      "27.768006920814514\n",
      "24.7638538479805\n",
      "25.531528890132904\n",
      "19.330085813999176\n",
      "35.81050634384155\n",
      "25.232838839292526\n",
      "47.268205881118774\n",
      "29.34780605137348\n",
      "26.04556903243065\n",
      "27.52678021788597\n",
      "32.923486828804016\n",
      "29.52582538127899\n",
      "31.079892814159393\n",
      "30.670373141765594\n",
      "28.356729447841644\n",
      "19.746263325214386\n",
      "38.42826634645462\n",
      "45.579855144023895\n",
      "26.516377925872803\n",
      "23.045629635453224\n",
      "34.5635823905468\n",
      "25.00186115503311\n",
      "15.429172478616238\n",
      "39.793770015239716\n",
      "24.795591831207275\n",
      "31.925715506076813\n",
      "25.573915988206863\n",
      "39.42940682172775\n",
      "20.848456770181656\n",
      "29.438523203134537\n",
      "20.029598847031593\n",
      "28.27032506465912\n",
      "20.804515480995178\n",
      "14.958606660366058\n",
      "18.31272915005684\n",
      "21.7564694583416\n",
      "15.486308373510838\n",
      "23.62247835844755\n",
      "28.277865797281265\n",
      "37.86097168922424\n",
      "39.222100377082825\n",
      "36.626361310482025\n",
      "22.98486679792404\n",
      "31.499336659908295\n",
      "29.48312759399414\n",
      "23.701131343841553\n",
      "23.877263069152832\n",
      "18.7644824385643\n",
      "18.525266647338867\n",
      "24.844397976994514\n",
      "39.40806686878204\n",
      "16.42593964934349\n",
      "26.872065663337708\n",
      "24.681898579001427\n",
      "23.18466156721115\n",
      "6.60150870680809\n",
      "21.3347677141428\n",
      "22.39838019013405\n",
      "16.823747009038925\n",
      "20.302259922027588\n",
      "19.386809319257736\n",
      "47.64992743730545\n",
      "47.83228188753128\n",
      "33.4499254822731\n",
      "17.716844379901886\n",
      "19.35730203986168\n",
      "33.6837500333786\n",
      "27.777282893657684\n",
      "31.492839753627777\n",
      "35.59727817773819\n",
      "36.73962205648422\n",
      "25.6284199655056\n",
      "25.39903372526169\n",
      "32.28527009487152\n",
      "40.358857810497284\n",
      "16.40552505850792\n",
      "23.153989017009735\n",
      "36.473630368709564\n",
      "12.114724889397621\n",
      "20.7059308886528\n",
      "28.88970337808132\n",
      "13.738209381699562\n",
      "17.968887463212013\n",
      "43.45712214708328\n",
      "40.27611166238785\n",
      "28.64740490913391\n",
      "14.364369958639145\n",
      "26.220524311065674\n",
      "26.629649102687836\n",
      "31.155842542648315\n",
      "31.584076583385468\n",
      "28.836390376091003\n",
      "47.00369834899902\n",
      "25.490017980337143\n",
      "22.349609434604645\n",
      "18.483709543943405\n",
      "15.644586645066738\n",
      "21.841811388731003\n",
      "24.95625615119934\n",
      "25.19824579358101\n",
      "15.590492635965347\n",
      "22.73801565170288\n",
      "12.569470331072807\n",
      "25.367236509919167\n",
      "24.980202317237854\n",
      "34.61880385875702\n",
      "29.305806756019592\n",
      "23.38380590081215\n",
      "17.315293103456497\n",
      "27.656235173344612\n",
      "35.0082203745842\n",
      "22.126182168722153\n",
      "15.67104235291481\n",
      "19.999775104224682\n",
      "31.84390813112259\n",
      "19.51063722372055\n",
      "28.654566407203674\n",
      "22.651124745607376\n",
      "32.93785750865936\n",
      "26.74250453710556\n",
      "37.71986365318298\n",
      "17.50268265604973\n",
      "25.89065134525299\n",
      "18.346089869737625\n",
      "34.79568511247635\n",
      "28.00653502345085\n",
      "28.071705996990204\n",
      "21.307629346847534\n",
      "26.792345941066742\n",
      "36.84422820806503\n",
      "24.229545891284943\n",
      "29.652288556098938\n",
      "32.44257718324661\n",
      "25.066980719566345\n",
      "19.303735718131065\n",
      "28.410742431879044\n",
      "21.286754310131073\n",
      "16.68931357562542\n",
      "27.299098670482635\n",
      "24.106669425964355\n",
      "22.92350083589554\n",
      "12.901552207767963\n",
      "27.636801451444626\n",
      "22.487634047865868\n",
      "26.194126904010773\n",
      "30.194243788719177\n",
      "22.799260914325714\n",
      "41.092006862163544\n",
      "21.647603809833527\n",
      "34.30892005562782\n",
      "22.862287610769272\n",
      "52.52119600772858\n",
      "21.268820762634277\n",
      "36.59769892692566\n",
      "30.520302057266235\n",
      "27.77395397424698\n",
      "32.6034277677536\n",
      "31.296538561582565\n",
      "19.334449619054794\n",
      "23.973239585757256\n",
      "20.11566534638405\n",
      "21.31454162299633\n",
      "29.774273931980133\n",
      "20.232194662094116\n",
      "15.84100928157568\n",
      "18.19051280617714\n",
      "23.27255830168724\n",
      "27.844513952732086\n",
      "49.755024909973145\n",
      "17.214151471853256\n",
      "30.089867115020752\n",
      "23.29126112163067\n",
      "37.82804012298584\n",
      "30.40217012166977\n",
      "35.57893633842468\n",
      "26.61137804389\n",
      "40.80318361520767\n",
      "19.343839213252068\n",
      "23.5018789768219\n",
      "41.06259196996689\n",
      "15.377312153577805\n",
      "33.4840402007103\n",
      "25.572924315929413\n",
      "24.070604145526886\n",
      "27.88407877087593\n",
      "19.8036327958107\n",
      "10.804838687181473\n",
      "12.781723216176033\n",
      "16.30201693624258\n",
      "28.637896478176117\n",
      "17.336268723011017\n",
      "20.333967357873917\n",
      "20.932908356189728\n",
      "40.46865701675415\n",
      "36.387258768081665\n",
      "39.08001929521561\n",
      "21.91201113164425\n",
      "20.018906891345978\n",
      "9.823472052812576\n",
      "37.15705946087837\n",
      "35.67696064710617\n",
      "26.959258317947388\n",
      "15.62313325703144\n",
      "11.94276176393032\n",
      "29.267122596502304\n",
      "22.0426507294178\n",
      "37.938399612903595\n",
      "24.953710287809372\n",
      "32.97968506813049\n",
      "26.72680914402008\n",
      "29.74085509777069\n",
      "28.80694717168808\n",
      "29.30905520915985\n",
      "35.37141531705856\n",
      "35.52839830517769\n",
      "19.479650259017944\n",
      "20.793134346604347\n",
      "18.071143329143524\n",
      "20.97334861755371\n",
      "21.780061721801758\n",
      "24.624016880989075\n",
      "21.729013323783875\n",
      "17.227138951420784\n",
      "26.801320910453796\n",
      "5.151542270323262\n",
      "18.453145772218704\n",
      "13.857244327664375\n",
      "16.447308287024498\n",
      "27.57714092731476\n",
      "4.835232719779015\n",
      "20.720849186182022\n",
      "21.750987321138382\n",
      "23.501022160053253\n",
      "16.537216678261757\n",
      "15.189604088664055\n",
      "11.649953946471214\n",
      "19.788100570440292\n",
      "18.26169043779373\n",
      "12.191705405712128\n",
      "19.116240739822388\n",
      "24.137546122074127\n",
      "18.420326709747314\n",
      "20.16785442829132\n",
      "25.582758337259293\n",
      "24.03649464249611\n",
      "9.92200132459402\n",
      "24.66714009642601\n",
      "22.80036434531212\n",
      "20.84190994501114\n",
      "18.406447395682335\n",
      "26.569118350744247\n",
      "25.015850365161896\n",
      "25.134997069835663\n",
      "17.4448664765805\n",
      "24.263957142829895\n",
      "28.518421947956085\n",
      "11.184634268283844\n",
      "26.36931613087654\n",
      "26.127752661705017\n",
      "18.72447580099106\n",
      "28.683194518089294\n",
      "20.952466130256653\n",
      "19.638316333293915\n",
      "21.077197790145874\n",
      "26.099969446659088\n",
      "23.268484324216843\n",
      "28.918127715587616\n",
      "19.225216284394264\n",
      "20.484449714422226\n",
      "24.398788064718246\n",
      "13.007536716759205\n",
      "26.66962593793869\n",
      "19.09176856279373\n",
      "19.85476091504097\n",
      "28.538814187049866\n",
      "7.270952872931957\n",
      "22.837965190410614\n",
      "20.2068068087101\n",
      "17.46477000415325\n",
      "14.320881851017475\n",
      "34.5222070813179\n",
      "13.533559069037437\n",
      "11.88192293047905\n",
      "24.031223356723785\n",
      "29.81405407190323\n",
      "18.473080545663834\n",
      "40.5874103307724\n",
      "29.00737076997757\n",
      "26.960928738117218\n",
      "26.999835669994354\n",
      "25.843358039855957\n",
      "27.900494635105133\n",
      "28.688665479421616\n",
      "26.065726578235626\n",
      "21.80096209049225\n",
      "26.54135450720787\n",
      "23.13927188515663\n",
      "22.65203595161438\n",
      "16.68623760342598\n",
      "22.22932204604149\n",
      "25.78301429748535\n",
      "24.37392622232437\n",
      "14.971254765987396\n",
      "18.38994026184082\n",
      "23.490332812070847\n",
      "17.6694855093956\n",
      "28.31767052412033\n",
      "21.490859985351562\n",
      "23.33548665046692\n",
      "17.889366671442986\n",
      "23.299647867679596\n",
      "19.78774666786194\n",
      "23.918000608682632\n",
      "26.164191961288452\n",
      "25.209486484527588\n",
      "30.324728041887283\n",
      "13.22278082370758\n",
      "19.690704345703125\n",
      "23.194628953933716\n",
      "27.52649560570717\n",
      "26.278358697891235\n",
      "20.83793580532074\n",
      "22.90192022919655\n",
      "17.40594282746315\n",
      "29.499168694019318\n",
      "26.139964908361435\n",
      "23.84796068072319\n",
      "25.241035223007202\n",
      "18.769685737788677\n",
      "26.905111223459244\n",
      "8.24181237258017\n",
      "25.808891654014587\n",
      "15.343701839447021\n",
      "25.59783011674881\n",
      "18.196818977594376\n",
      "22.387849539518356\n",
      "30.33459261059761\n",
      "27.81011611223221\n",
      "30.458615720272064\n",
      "27.46061235666275\n",
      "9.60926003754139\n",
      "21.780893951654434\n",
      "27.037431299686432\n",
      "12.011341005563736\n",
      "18.26218143105507\n",
      "18.95362213253975\n",
      "21.176789700984955\n",
      "25.567860901355743\n",
      "33.56530964374542\n",
      "21.174077689647675\n",
      "29.702724516391754\n",
      "28.553105145692825\n",
      "7.19407182186842\n",
      "16.33186973631382\n"
     ]
    },
    {
     "ename": "KeyError",
     "evalue": "415",
     "output_type": "error",
     "traceback": [
      "\u001b[1;31m---------------------------------------------------------------------------\u001b[0m",
      "\u001b[1;31mKeyError\u001b[0m                                  Traceback (most recent call last)",
      "\u001b[1;32m~\\anaconda3\\lib\\site-packages\\pandas\\core\\indexes\\base.py\u001b[0m in \u001b[0;36mget_loc\u001b[1;34m(self, key, method, tolerance)\u001b[0m\n\u001b[0;32m   2894\u001b[0m             \u001b[1;32mtry\u001b[0m\u001b[1;33m:\u001b[0m\u001b[1;33m\u001b[0m\u001b[1;33m\u001b[0m\u001b[0m\n\u001b[1;32m-> 2895\u001b[1;33m                 \u001b[1;32mreturn\u001b[0m \u001b[0mself\u001b[0m\u001b[1;33m.\u001b[0m\u001b[0m_engine\u001b[0m\u001b[1;33m.\u001b[0m\u001b[0mget_loc\u001b[0m\u001b[1;33m(\u001b[0m\u001b[0mcasted_key\u001b[0m\u001b[1;33m)\u001b[0m\u001b[1;33m\u001b[0m\u001b[1;33m\u001b[0m\u001b[0m\n\u001b[0m\u001b[0;32m   2896\u001b[0m             \u001b[1;32mexcept\u001b[0m \u001b[0mKeyError\u001b[0m \u001b[1;32mas\u001b[0m \u001b[0merr\u001b[0m\u001b[1;33m:\u001b[0m\u001b[1;33m\u001b[0m\u001b[1;33m\u001b[0m\u001b[0m\n",
      "\u001b[1;32mpandas\\_libs\\index.pyx\u001b[0m in \u001b[0;36mpandas._libs.index.IndexEngine.get_loc\u001b[1;34m()\u001b[0m\n",
      "\u001b[1;32mpandas\\_libs\\index.pyx\u001b[0m in \u001b[0;36mpandas._libs.index.IndexEngine.get_loc\u001b[1;34m()\u001b[0m\n",
      "\u001b[1;32mpandas\\_libs\\hashtable_class_helper.pxi\u001b[0m in \u001b[0;36mpandas._libs.hashtable.Int64HashTable.get_item\u001b[1;34m()\u001b[0m\n",
      "\u001b[1;32mpandas\\_libs\\hashtable_class_helper.pxi\u001b[0m in \u001b[0;36mpandas._libs.hashtable.Int64HashTable.get_item\u001b[1;34m()\u001b[0m\n",
      "\u001b[1;31mKeyError\u001b[0m: 415",
      "\nThe above exception was the direct cause of the following exception:\n",
      "\u001b[1;31mKeyError\u001b[0m                                  Traceback (most recent call last)",
      "\u001b[1;32m<ipython-input-43-3c75570d80ac>\u001b[0m in \u001b[0;36m<module>\u001b[1;34m\u001b[0m\n\u001b[0;32m      1\u001b[0m \u001b[1;32mfor\u001b[0m \u001b[0msent\u001b[0m \u001b[1;32min\u001b[0m \u001b[0mdatanew\u001b[0m\u001b[1;33m.\u001b[0m\u001b[0mindex\u001b[0m\u001b[1;33m:\u001b[0m\u001b[1;33m\u001b[0m\u001b[1;33m\u001b[0m\u001b[0m\n\u001b[1;32m----> 2\u001b[1;33m     \u001b[0mprint\u001b[0m\u001b[1;33m(\u001b[0m\u001b[1;33m(\u001b[0m\u001b[0mnarrowDownDescription\u001b[0m\u001b[1;33m.\u001b[0m\u001b[0mat\u001b[0m\u001b[1;33m[\u001b[0m\u001b[0msent\u001b[0m\u001b[1;33m,\u001b[0m \u001b[1;34m'Similarity'\u001b[0m\u001b[1;33m]\u001b[0m\u001b[1;33m+\u001b[0m\u001b[0mnarrowDownDescription\u001b[0m\u001b[1;33m.\u001b[0m\u001b[0mat\u001b[0m\u001b[1;33m[\u001b[0m\u001b[0msent\u001b[0m\u001b[1;33m,\u001b[0m \u001b[1;34m'SimilarityDescription'\u001b[0m\u001b[1;33m]\u001b[0m\u001b[1;33m)\u001b[0m\u001b[1;33m/\u001b[0m\u001b[1;36m2\u001b[0m\u001b[1;33m)\u001b[0m\u001b[1;33m\u001b[0m\u001b[1;33m\u001b[0m\u001b[0m\n\u001b[0m\u001b[0;32m      3\u001b[0m \u001b[1;31m#     avg = (narrowDownDescription.at[sent, 'Similarity'] + narrowDownDescription.at[sent, 'SimilarityDescription']) / 2\u001b[0m\u001b[1;33m\u001b[0m\u001b[1;33m\u001b[0m\u001b[1;33m\u001b[0m\u001b[0m\n\u001b[0;32m      4\u001b[0m \u001b[1;31m#     datanew.loc[sent, 'AvgSimilarity'] = avg\u001b[0m\u001b[1;33m\u001b[0m\u001b[1;33m\u001b[0m\u001b[1;33m\u001b[0m\u001b[0m\n",
      "\u001b[1;32m~\\anaconda3\\lib\\site-packages\\pandas\\core\\indexing.py\u001b[0m in \u001b[0;36m__getitem__\u001b[1;34m(self, key)\u001b[0m\n\u001b[0;32m   2078\u001b[0m             \u001b[1;32mreturn\u001b[0m \u001b[0mself\u001b[0m\u001b[1;33m.\u001b[0m\u001b[0mobj\u001b[0m\u001b[1;33m.\u001b[0m\u001b[0mloc\u001b[0m\u001b[1;33m[\u001b[0m\u001b[0mkey\u001b[0m\u001b[1;33m]\u001b[0m\u001b[1;33m\u001b[0m\u001b[1;33m\u001b[0m\u001b[0m\n\u001b[0;32m   2079\u001b[0m \u001b[1;33m\u001b[0m\u001b[0m\n\u001b[1;32m-> 2080\u001b[1;33m         \u001b[1;32mreturn\u001b[0m \u001b[0msuper\u001b[0m\u001b[1;33m(\u001b[0m\u001b[1;33m)\u001b[0m\u001b[1;33m.\u001b[0m\u001b[0m__getitem__\u001b[0m\u001b[1;33m(\u001b[0m\u001b[0mkey\u001b[0m\u001b[1;33m)\u001b[0m\u001b[1;33m\u001b[0m\u001b[1;33m\u001b[0m\u001b[0m\n\u001b[0m\u001b[0;32m   2081\u001b[0m \u001b[1;33m\u001b[0m\u001b[0m\n\u001b[0;32m   2082\u001b[0m     \u001b[1;32mdef\u001b[0m \u001b[0m__setitem__\u001b[0m\u001b[1;33m(\u001b[0m\u001b[0mself\u001b[0m\u001b[1;33m,\u001b[0m \u001b[0mkey\u001b[0m\u001b[1;33m,\u001b[0m \u001b[0mvalue\u001b[0m\u001b[1;33m)\u001b[0m\u001b[1;33m:\u001b[0m\u001b[1;33m\u001b[0m\u001b[1;33m\u001b[0m\u001b[0m\n",
      "\u001b[1;32m~\\anaconda3\\lib\\site-packages\\pandas\\core\\indexing.py\u001b[0m in \u001b[0;36m__getitem__\u001b[1;34m(self, key)\u001b[0m\n\u001b[0;32m   2025\u001b[0m \u001b[1;33m\u001b[0m\u001b[0m\n\u001b[0;32m   2026\u001b[0m         \u001b[0mkey\u001b[0m \u001b[1;33m=\u001b[0m \u001b[0mself\u001b[0m\u001b[1;33m.\u001b[0m\u001b[0m_convert_key\u001b[0m\u001b[1;33m(\u001b[0m\u001b[0mkey\u001b[0m\u001b[1;33m)\u001b[0m\u001b[1;33m\u001b[0m\u001b[1;33m\u001b[0m\u001b[0m\n\u001b[1;32m-> 2027\u001b[1;33m         \u001b[1;32mreturn\u001b[0m \u001b[0mself\u001b[0m\u001b[1;33m.\u001b[0m\u001b[0mobj\u001b[0m\u001b[1;33m.\u001b[0m\u001b[0m_get_value\u001b[0m\u001b[1;33m(\u001b[0m\u001b[1;33m*\u001b[0m\u001b[0mkey\u001b[0m\u001b[1;33m,\u001b[0m \u001b[0mtakeable\u001b[0m\u001b[1;33m=\u001b[0m\u001b[0mself\u001b[0m\u001b[1;33m.\u001b[0m\u001b[0m_takeable\u001b[0m\u001b[1;33m)\u001b[0m\u001b[1;33m\u001b[0m\u001b[1;33m\u001b[0m\u001b[0m\n\u001b[0m\u001b[0;32m   2028\u001b[0m \u001b[1;33m\u001b[0m\u001b[0m\n\u001b[0;32m   2029\u001b[0m     \u001b[1;32mdef\u001b[0m \u001b[0m__setitem__\u001b[0m\u001b[1;33m(\u001b[0m\u001b[0mself\u001b[0m\u001b[1;33m,\u001b[0m \u001b[0mkey\u001b[0m\u001b[1;33m,\u001b[0m \u001b[0mvalue\u001b[0m\u001b[1;33m)\u001b[0m\u001b[1;33m:\u001b[0m\u001b[1;33m\u001b[0m\u001b[1;33m\u001b[0m\u001b[0m\n",
      "\u001b[1;32m~\\anaconda3\\lib\\site-packages\\pandas\\core\\frame.py\u001b[0m in \u001b[0;36m_get_value\u001b[1;34m(self, index, col, takeable)\u001b[0m\n\u001b[0;32m   3019\u001b[0m         \u001b[1;31m# use positional\u001b[0m\u001b[1;33m\u001b[0m\u001b[1;33m\u001b[0m\u001b[1;33m\u001b[0m\u001b[0m\n\u001b[0;32m   3020\u001b[0m         \u001b[0mcol\u001b[0m \u001b[1;33m=\u001b[0m \u001b[0mself\u001b[0m\u001b[1;33m.\u001b[0m\u001b[0mcolumns\u001b[0m\u001b[1;33m.\u001b[0m\u001b[0mget_loc\u001b[0m\u001b[1;33m(\u001b[0m\u001b[0mcol\u001b[0m\u001b[1;33m)\u001b[0m\u001b[1;33m\u001b[0m\u001b[1;33m\u001b[0m\u001b[0m\n\u001b[1;32m-> 3021\u001b[1;33m         \u001b[0mindex\u001b[0m \u001b[1;33m=\u001b[0m \u001b[0mself\u001b[0m\u001b[1;33m.\u001b[0m\u001b[0mindex\u001b[0m\u001b[1;33m.\u001b[0m\u001b[0mget_loc\u001b[0m\u001b[1;33m(\u001b[0m\u001b[0mindex\u001b[0m\u001b[1;33m)\u001b[0m\u001b[1;33m\u001b[0m\u001b[1;33m\u001b[0m\u001b[0m\n\u001b[0m\u001b[0;32m   3022\u001b[0m         \u001b[1;32mreturn\u001b[0m \u001b[0mself\u001b[0m\u001b[1;33m.\u001b[0m\u001b[0m_get_value\u001b[0m\u001b[1;33m(\u001b[0m\u001b[0mindex\u001b[0m\u001b[1;33m,\u001b[0m \u001b[0mcol\u001b[0m\u001b[1;33m,\u001b[0m \u001b[0mtakeable\u001b[0m\u001b[1;33m=\u001b[0m\u001b[1;32mTrue\u001b[0m\u001b[1;33m)\u001b[0m\u001b[1;33m\u001b[0m\u001b[1;33m\u001b[0m\u001b[0m\n\u001b[0;32m   3023\u001b[0m \u001b[1;33m\u001b[0m\u001b[0m\n",
      "\u001b[1;32m~\\anaconda3\\lib\\site-packages\\pandas\\core\\indexes\\base.py\u001b[0m in \u001b[0;36mget_loc\u001b[1;34m(self, key, method, tolerance)\u001b[0m\n\u001b[0;32m   2895\u001b[0m                 \u001b[1;32mreturn\u001b[0m \u001b[0mself\u001b[0m\u001b[1;33m.\u001b[0m\u001b[0m_engine\u001b[0m\u001b[1;33m.\u001b[0m\u001b[0mget_loc\u001b[0m\u001b[1;33m(\u001b[0m\u001b[0mcasted_key\u001b[0m\u001b[1;33m)\u001b[0m\u001b[1;33m\u001b[0m\u001b[1;33m\u001b[0m\u001b[0m\n\u001b[0;32m   2896\u001b[0m             \u001b[1;32mexcept\u001b[0m \u001b[0mKeyError\u001b[0m \u001b[1;32mas\u001b[0m \u001b[0merr\u001b[0m\u001b[1;33m:\u001b[0m\u001b[1;33m\u001b[0m\u001b[1;33m\u001b[0m\u001b[0m\n\u001b[1;32m-> 2897\u001b[1;33m                 \u001b[1;32mraise\u001b[0m \u001b[0mKeyError\u001b[0m\u001b[1;33m(\u001b[0m\u001b[0mkey\u001b[0m\u001b[1;33m)\u001b[0m \u001b[1;32mfrom\u001b[0m \u001b[0merr\u001b[0m\u001b[1;33m\u001b[0m\u001b[1;33m\u001b[0m\u001b[0m\n\u001b[0m\u001b[0;32m   2898\u001b[0m \u001b[1;33m\u001b[0m\u001b[0m\n\u001b[0;32m   2899\u001b[0m         \u001b[1;32mif\u001b[0m \u001b[0mtolerance\u001b[0m \u001b[1;32mis\u001b[0m \u001b[1;32mnot\u001b[0m \u001b[1;32mNone\u001b[0m\u001b[1;33m:\u001b[0m\u001b[1;33m\u001b[0m\u001b[1;33m\u001b[0m\u001b[0m\n",
      "\u001b[1;31mKeyError\u001b[0m: 415"
     ]
    }
   ],
   "source": [
    "for sent in datanew.index:\n",
    "    print((narrowDownDescription.at[sent, 'Similarity']+narrowDownDescription.at[sent, 'SimilarityDescription'])/2)\n",
    "#     avg = (narrowDownDescription.at[sent, 'Similarity'] + narrowDownDescription.at[sent, 'SimilarityDescription']) / 2\n",
    "#     datanew.loc[sent, 'AvgSimilarity'] = avg"
   ]
  },
  {
   "cell_type": "code",
   "execution_count": null,
   "metadata": {
    "ExecuteTime": {
     "end_time": "2021-04-19T16:05:28.262433Z",
     "start_time": "2021-04-19T15:52:03.695Z"
    }
   },
   "outputs": [],
   "source": [
    "narrowDownDescription=narrowDownDescription.sort_values(by='SimilarityDescription', ascending=False)\n",
    "# narrowDownDescription"
   ]
  },
  {
   "cell_type": "code",
   "execution_count": null,
   "metadata": {},
   "outputs": [],
   "source": []
  }
 ],
 "metadata": {
  "hide_input": false,
  "kernelspec": {
   "display_name": "Python 3",
   "language": "python",
   "name": "python3"
  },
  "language_info": {
   "codemirror_mode": {
    "name": "ipython",
    "version": 3
   },
   "file_extension": ".py",
   "mimetype": "text/x-python",
   "name": "python",
   "nbconvert_exporter": "python",
   "pygments_lexer": "ipython3",
   "version": "3.8.5"
  },
  "toc": {
   "base_numbering": 1,
   "nav_menu": {},
   "number_sections": true,
   "sideBar": true,
   "skip_h1_title": false,
   "title_cell": "Table of Contents",
   "title_sidebar": "Contents",
   "toc_cell": false,
   "toc_position": {},
   "toc_section_display": true,
   "toc_window_display": false
  },
  "varInspector": {
   "cols": {
    "lenName": 16,
    "lenType": 16,
    "lenVar": 40
   },
   "kernels_config": {
    "python": {
     "delete_cmd_postfix": "",
     "delete_cmd_prefix": "del ",
     "library": "var_list.py",
     "varRefreshCmd": "print(var_dic_list())"
    },
    "r": {
     "delete_cmd_postfix": ") ",
     "delete_cmd_prefix": "rm(",
     "library": "var_list.r",
     "varRefreshCmd": "cat(var_dic_list()) "
    }
   },
   "types_to_exclude": [
    "module",
    "function",
    "builtin_function_or_method",
    "instance",
    "_Feature"
   ],
   "window_display": false
  }
 },
 "nbformat": 4,
 "nbformat_minor": 4
}
