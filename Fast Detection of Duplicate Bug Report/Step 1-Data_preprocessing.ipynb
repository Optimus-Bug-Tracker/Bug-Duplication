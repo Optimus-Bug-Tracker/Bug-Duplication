{
 "cells": [
  {
   "cell_type": "markdown",
   "metadata": {
    "colab_type": "text",
    "id": "y0ZQWJNLvS1v"
   },
   "source": [
    "# **Data Preprocessing**"
   ]
  },
  {
   "cell_type": "code",
   "execution_count": 1,
   "metadata": {
    "ExecuteTime": {
     "end_time": "2021-04-21T07:05:06.107194Z",
     "start_time": "2021-04-21T07:05:02.214544Z"
    },
    "colab": {
     "base_uri": "https://localhost:8080/",
     "height": 100
    },
    "colab_type": "code",
    "id": "pt3LGJWbsJR9",
    "outputId": "ecab7398-609f-4232-fd8c-53d096f883fb"
   },
   "outputs": [
    {
     "name": "stderr",
     "output_type": "stream",
     "text": [
      "[nltk_data] Downloading package stopwords to\n",
      "[nltk_data]     C:\\Users\\abdul\\AppData\\Roaming\\nltk_data...\n",
      "[nltk_data]   Package stopwords is already up-to-date!\n",
      "[nltk_data] Downloading package wordnet to\n",
      "[nltk_data]     C:\\Users\\abdul\\AppData\\Roaming\\nltk_data...\n",
      "[nltk_data]   Package wordnet is already up-to-date!\n"
     ]
    },
    {
     "data": {
      "text/plain": [
       "True"
      ]
     },
     "execution_count": 1,
     "metadata": {},
     "output_type": "execute_result"
    }
   ],
   "source": [
    "import pandas as pd\n",
    "import nltk\n",
    "import gensim\n",
    "from gensim.utils import simple_preprocess\n",
    "from nltk.corpus import stopwords\n",
    "from nltk import word_tokenize\n",
    "from nltk.stem import WordNetLemmatizer, SnowballStemmer\n",
    "from nltk.stem.porter import *\n",
    "from gensim.parsing.preprocessing import STOPWORDS\n",
    "import numpy as np\n",
    "import pickle\n",
    "nltk.download('stopwords')\n",
    "nltk.download('wordnet')"
   ]
  },
  {
   "cell_type": "code",
   "execution_count": 2,
   "metadata": {
    "ExecuteTime": {
     "end_time": "2021-04-21T07:05:06.122154Z",
     "start_time": "2021-04-21T07:05:06.110185Z"
    },
    "colab": {
     "base_uri": "https://localhost:8080/",
     "height": 120
    },
    "colab_type": "code",
    "id": "POGuQL62tSMc",
    "outputId": "c2ef823d-d930-4dd7-b9e9-d6ada483633a"
   },
   "outputs": [],
   "source": [
    "#mounting the google drive\n",
    "# from google.colab import drive\n",
    "# drive.mount('/content/drive')"
   ]
  },
  {
   "cell_type": "code",
   "execution_count": 3,
   "metadata": {
    "ExecuteTime": {
     "end_time": "2021-04-21T07:05:08.176924Z",
     "start_time": "2021-04-21T07:05:06.131130Z"
    },
    "colab": {
     "base_uri": "https://localhost:8080/",
     "height": 1000
    },
    "colab_type": "code",
    "id": "VQe8RAJpsJSQ",
    "outputId": "eba6ebaa-6879-4e5d-9234-1ec51e491333"
   },
   "outputs": [
    {
     "data": {
      "text/html": [
       "<div>\n",
       "<style scoped>\n",
       "    .dataframe tbody tr th:only-of-type {\n",
       "        vertical-align: middle;\n",
       "    }\n",
       "\n",
       "    .dataframe tbody tr th {\n",
       "        vertical-align: top;\n",
       "    }\n",
       "\n",
       "    .dataframe thead th {\n",
       "        text-align: right;\n",
       "    }\n",
       "</style>\n",
       "<table border=\"1\" class=\"dataframe\">\n",
       "  <thead>\n",
       "    <tr style=\"text-align: right;\">\n",
       "      <th></th>\n",
       "      <th>Issue_id</th>\n",
       "      <th>Priority</th>\n",
       "      <th>Component</th>\n",
       "      <th>Duplicated_issue</th>\n",
       "      <th>Title</th>\n",
       "      <th>Description</th>\n",
       "      <th>Status</th>\n",
       "      <th>Resolution</th>\n",
       "      <th>Version</th>\n",
       "      <th>Created_time</th>\n",
       "      <th>Resolved_time</th>\n",
       "    </tr>\n",
       "  </thead>\n",
       "  <tbody>\n",
       "    <tr>\n",
       "      <th>0</th>\n",
       "      <td>1</td>\n",
       "      <td>P3</td>\n",
       "      <td>Team</td>\n",
       "      <td>NaN</td>\n",
       "      <td>Usability issue with external editors (1GE6IRL)</td>\n",
       "      <td>- Setup a project that contains a *.gif resour...</td>\n",
       "      <td>CLOSED</td>\n",
       "      <td>FIXED</td>\n",
       "      <td>2</td>\n",
       "      <td>2001-10-10 21:34</td>\n",
       "      <td>2012-02-09 15:57</td>\n",
       "    </tr>\n",
       "    <tr>\n",
       "      <th>1</th>\n",
       "      <td>2</td>\n",
       "      <td>P5</td>\n",
       "      <td>Team</td>\n",
       "      <td>NaN</td>\n",
       "      <td>Opening repository resources doesnt honor type...</td>\n",
       "      <td>Opening repository resource always open the de...</td>\n",
       "      <td>RESOLVED</td>\n",
       "      <td>FIXED</td>\n",
       "      <td>2</td>\n",
       "      <td>2001-10-10 21:34</td>\n",
       "      <td>2002-05-07 10:33</td>\n",
       "    </tr>\n",
       "    <tr>\n",
       "      <th>2</th>\n",
       "      <td>3</td>\n",
       "      <td>P5</td>\n",
       "      <td>Team</td>\n",
       "      <td>NaN</td>\n",
       "      <td>Sync does not indicate deletion (1GIEN83)</td>\n",
       "      <td>KM (10/2/2001 5:55:18 PM); \\tThis PR about the...</td>\n",
       "      <td>RESOLVED</td>\n",
       "      <td>FIXED</td>\n",
       "      <td>2</td>\n",
       "      <td>2001-10-10 21:34</td>\n",
       "      <td>2010-05-07 10:28</td>\n",
       "    </tr>\n",
       "    <tr>\n",
       "      <th>3</th>\n",
       "      <td>4</td>\n",
       "      <td>P5</td>\n",
       "      <td>Team</td>\n",
       "      <td>NaN</td>\n",
       "      <td>need better error message if catching up over ...</td>\n",
       "      <td>- become synchronized with some project in a r...</td>\n",
       "      <td>RESOLVED</td>\n",
       "      <td>FIXED</td>\n",
       "      <td>2</td>\n",
       "      <td>2001-10-10 21:34</td>\n",
       "      <td>2002-03-01 16:27</td>\n",
       "    </tr>\n",
       "    <tr>\n",
       "      <th>4</th>\n",
       "      <td>5</td>\n",
       "      <td>P3</td>\n",
       "      <td>Team</td>\n",
       "      <td>NaN</td>\n",
       "      <td>ISharingManager sharing API inconsistent (1GAU...</td>\n",
       "      <td>For getting/setting the managed state of a res...</td>\n",
       "      <td>RESOLVED</td>\n",
       "      <td>WONTFIX</td>\n",
       "      <td>2</td>\n",
       "      <td>2001-10-10 21:34</td>\n",
       "      <td>2008-08-15 8:04</td>\n",
       "    </tr>\n",
       "    <tr>\n",
       "      <th>...</th>\n",
       "      <td>...</td>\n",
       "      <td>...</td>\n",
       "      <td>...</td>\n",
       "      <td>...</td>\n",
       "      <td>...</td>\n",
       "      <td>...</td>\n",
       "      <td>...</td>\n",
       "      <td>...</td>\n",
       "      <td>...</td>\n",
       "      <td>...</td>\n",
       "      <td>...</td>\n",
       "    </tr>\n",
       "    <tr>\n",
       "      <th>85151</th>\n",
       "      <td>424679</td>\n",
       "      <td>P3</td>\n",
       "      <td>IDE</td>\n",
       "      <td>390071.0</td>\n",
       "      <td>Crash on bootstarp</td>\n",
       "      <td>NaN</td>\n",
       "      <td>CLOSED</td>\n",
       "      <td>DUPLICATE</td>\n",
       "      <td>4.3</td>\n",
       "      <td>2013-12-26 20:12</td>\n",
       "      <td>2013-12-31 5:32</td>\n",
       "    </tr>\n",
       "    <tr>\n",
       "      <th>85152</th>\n",
       "      <td>424714</td>\n",
       "      <td>P3</td>\n",
       "      <td>UI</td>\n",
       "      <td>NaN</td>\n",
       "      <td>[GTK/Linux] Blank Windows with GTK3</td>\n",
       "      <td>I started testing 4.4 and noticed the editor w...</td>\n",
       "      <td>CLOSED</td>\n",
       "      <td>NDUPLICATE</td>\n",
       "      <td>4.4</td>\n",
       "      <td>2013-12-28 8:57</td>\n",
       "      <td>2014-01-04 13:54</td>\n",
       "    </tr>\n",
       "    <tr>\n",
       "      <th>85153</th>\n",
       "      <td>424722</td>\n",
       "      <td>P3</td>\n",
       "      <td>Website</td>\n",
       "      <td>NaN</td>\n",
       "      <td>software</td>\n",
       "      <td>NaN</td>\n",
       "      <td>RESOLVED</td>\n",
       "      <td>INVALID</td>\n",
       "      <td>4.3.1</td>\n",
       "      <td>2013-12-29 3:57</td>\n",
       "      <td>2014-01-07 8:47</td>\n",
       "    </tr>\n",
       "    <tr>\n",
       "      <th>85154</th>\n",
       "      <td>424764</td>\n",
       "      <td>P3</td>\n",
       "      <td>SWT</td>\n",
       "      <td>NaN</td>\n",
       "      <td>Crash (MacOS) - getIvar</td>\n",
       "      <td>Process:         eclipse [42412]; Path:       ...</td>\n",
       "      <td>CLOSED</td>\n",
       "      <td>NDUPLICATE</td>\n",
       "      <td>4.4</td>\n",
       "      <td>2013-12-30 16:43</td>\n",
       "      <td>2013-12-31 4:35</td>\n",
       "    </tr>\n",
       "    <tr>\n",
       "      <th>85155</th>\n",
       "      <td>424767</td>\n",
       "      <td>P3</td>\n",
       "      <td>IDE</td>\n",
       "      <td>NaN</td>\n",
       "      <td>eclipse</td>\n",
       "      <td>NaN</td>\n",
       "      <td>CLOSED</td>\n",
       "      <td>INVALID</td>\n",
       "      <td>3.2.2</td>\n",
       "      <td>2013-12-30 18:05</td>\n",
       "      <td>2013-12-31 4:21</td>\n",
       "    </tr>\n",
       "  </tbody>\n",
       "</table>\n",
       "<p>85156 rows × 11 columns</p>\n",
       "</div>"
      ],
      "text/plain": [
       "       Issue_id Priority Component  Duplicated_issue  \\\n",
       "0             1       P3      Team               NaN   \n",
       "1             2       P5      Team               NaN   \n",
       "2             3       P5      Team               NaN   \n",
       "3             4       P5      Team               NaN   \n",
       "4             5       P3      Team               NaN   \n",
       "...         ...      ...       ...               ...   \n",
       "85151    424679       P3       IDE          390071.0   \n",
       "85152    424714       P3        UI               NaN   \n",
       "85153    424722       P3   Website               NaN   \n",
       "85154    424764       P3       SWT               NaN   \n",
       "85155    424767       P3       IDE               NaN   \n",
       "\n",
       "                                                   Title  \\\n",
       "0        Usability issue with external editors (1GE6IRL)   \n",
       "1      Opening repository resources doesnt honor type...   \n",
       "2              Sync does not indicate deletion (1GIEN83)   \n",
       "3      need better error message if catching up over ...   \n",
       "4      ISharingManager sharing API inconsistent (1GAU...   \n",
       "...                                                  ...   \n",
       "85151                                 Crash on bootstarp   \n",
       "85152                [GTK/Linux] Blank Windows with GTK3   \n",
       "85153                                           software   \n",
       "85154                            Crash (MacOS) - getIvar   \n",
       "85155                                            eclipse   \n",
       "\n",
       "                                             Description    Status  \\\n",
       "0      - Setup a project that contains a *.gif resour...    CLOSED   \n",
       "1      Opening repository resource always open the de...  RESOLVED   \n",
       "2      KM (10/2/2001 5:55:18 PM); \\tThis PR about the...  RESOLVED   \n",
       "3      - become synchronized with some project in a r...  RESOLVED   \n",
       "4      For getting/setting the managed state of a res...  RESOLVED   \n",
       "...                                                  ...       ...   \n",
       "85151                                                NaN    CLOSED   \n",
       "85152  I started testing 4.4 and noticed the editor w...    CLOSED   \n",
       "85153                                                NaN  RESOLVED   \n",
       "85154  Process:         eclipse [42412]; Path:       ...    CLOSED   \n",
       "85155                                                NaN    CLOSED   \n",
       "\n",
       "       Resolution Version      Created_time     Resolved_time  \n",
       "0           FIXED       2  2001-10-10 21:34  2012-02-09 15:57  \n",
       "1           FIXED       2  2001-10-10 21:34  2002-05-07 10:33  \n",
       "2           FIXED       2  2001-10-10 21:34  2010-05-07 10:28  \n",
       "3           FIXED       2  2001-10-10 21:34  2002-03-01 16:27  \n",
       "4         WONTFIX       2  2001-10-10 21:34   2008-08-15 8:04  \n",
       "...           ...     ...               ...               ...  \n",
       "85151   DUPLICATE     4.3  2013-12-26 20:12   2013-12-31 5:32  \n",
       "85152  NDUPLICATE     4.4   2013-12-28 8:57  2014-01-04 13:54  \n",
       "85153     INVALID   4.3.1   2013-12-29 3:57   2014-01-07 8:47  \n",
       "85154  NDUPLICATE     4.4  2013-12-30 16:43   2013-12-31 4:35  \n",
       "85155     INVALID   3.2.2  2013-12-30 18:05   2013-12-31 4:21  \n",
       "\n",
       "[85156 rows x 11 columns]"
      ]
     },
     "execution_count": 3,
     "metadata": {},
     "output_type": "execute_result"
    }
   ],
   "source": [
    "#importing the CSV file of the dataset from google drive into a dataframe\n",
    "data=pd.read_csv('eclipse_platform.csv')\n",
    "data"
   ]
  },
  {
   "cell_type": "code",
   "execution_count": 4,
   "metadata": {
    "ExecuteTime": {
     "end_time": "2021-04-21T07:05:08.222832Z",
     "start_time": "2021-04-21T07:05:08.180914Z"
    },
    "colab": {
     "base_uri": "https://localhost:8080/",
     "height": 756
    },
    "colab_type": "code",
    "id": "803Wm-1nsJSb",
    "outputId": "bd8e2e59-7560-4770-a6cd-749e9f773c2d"
   },
   "outputs": [
    {
     "data": {
      "text/html": [
       "<div>\n",
       "<style scoped>\n",
       "    .dataframe tbody tr th:only-of-type {\n",
       "        vertical-align: middle;\n",
       "    }\n",
       "\n",
       "    .dataframe tbody tr th {\n",
       "        vertical-align: top;\n",
       "    }\n",
       "\n",
       "    .dataframe thead th {\n",
       "        text-align: right;\n",
       "    }\n",
       "</style>\n",
       "<table border=\"1\" class=\"dataframe\">\n",
       "  <thead>\n",
       "    <tr style=\"text-align: right;\">\n",
       "      <th></th>\n",
       "      <th>Issue_id</th>\n",
       "      <th>Duplicated_issue</th>\n",
       "      <th>Title</th>\n",
       "      <th>Description</th>\n",
       "    </tr>\n",
       "  </thead>\n",
       "  <tbody>\n",
       "    <tr>\n",
       "      <th>0</th>\n",
       "      <td>1</td>\n",
       "      <td>NaN</td>\n",
       "      <td>Usability issue with external editors (1GE6IRL)</td>\n",
       "      <td>- Setup a project that contains a *.gif resour...</td>\n",
       "    </tr>\n",
       "    <tr>\n",
       "      <th>1</th>\n",
       "      <td>2</td>\n",
       "      <td>NaN</td>\n",
       "      <td>Opening repository resources doesnt honor type...</td>\n",
       "      <td>Opening repository resource always open the de...</td>\n",
       "    </tr>\n",
       "    <tr>\n",
       "      <th>2</th>\n",
       "      <td>3</td>\n",
       "      <td>NaN</td>\n",
       "      <td>Sync does not indicate deletion (1GIEN83)</td>\n",
       "      <td>KM (10/2/2001 5:55:18 PM); \\tThis PR about the...</td>\n",
       "    </tr>\n",
       "    <tr>\n",
       "      <th>3</th>\n",
       "      <td>4</td>\n",
       "      <td>NaN</td>\n",
       "      <td>need better error message if catching up over ...</td>\n",
       "      <td>- become synchronized with some project in a r...</td>\n",
       "    </tr>\n",
       "    <tr>\n",
       "      <th>4</th>\n",
       "      <td>5</td>\n",
       "      <td>NaN</td>\n",
       "      <td>ISharingManager sharing API inconsistent (1GAU...</td>\n",
       "      <td>For getting/setting the managed state of a res...</td>\n",
       "    </tr>\n",
       "    <tr>\n",
       "      <th>...</th>\n",
       "      <td>...</td>\n",
       "      <td>...</td>\n",
       "      <td>...</td>\n",
       "      <td>...</td>\n",
       "    </tr>\n",
       "    <tr>\n",
       "      <th>85151</th>\n",
       "      <td>424679</td>\n",
       "      <td>390071.0</td>\n",
       "      <td>Crash on bootstarp</td>\n",
       "      <td>NaN</td>\n",
       "    </tr>\n",
       "    <tr>\n",
       "      <th>85152</th>\n",
       "      <td>424714</td>\n",
       "      <td>NaN</td>\n",
       "      <td>[GTK/Linux] Blank Windows with GTK3</td>\n",
       "      <td>I started testing 4.4 and noticed the editor w...</td>\n",
       "    </tr>\n",
       "    <tr>\n",
       "      <th>85153</th>\n",
       "      <td>424722</td>\n",
       "      <td>NaN</td>\n",
       "      <td>software</td>\n",
       "      <td>NaN</td>\n",
       "    </tr>\n",
       "    <tr>\n",
       "      <th>85154</th>\n",
       "      <td>424764</td>\n",
       "      <td>NaN</td>\n",
       "      <td>Crash (MacOS) - getIvar</td>\n",
       "      <td>Process:         eclipse [42412]; Path:       ...</td>\n",
       "    </tr>\n",
       "    <tr>\n",
       "      <th>85155</th>\n",
       "      <td>424767</td>\n",
       "      <td>NaN</td>\n",
       "      <td>eclipse</td>\n",
       "      <td>NaN</td>\n",
       "    </tr>\n",
       "  </tbody>\n",
       "</table>\n",
       "<p>85156 rows × 4 columns</p>\n",
       "</div>"
      ],
      "text/plain": [
       "       Issue_id  Duplicated_issue  \\\n",
       "0             1               NaN   \n",
       "1             2               NaN   \n",
       "2             3               NaN   \n",
       "3             4               NaN   \n",
       "4             5               NaN   \n",
       "...         ...               ...   \n",
       "85151    424679          390071.0   \n",
       "85152    424714               NaN   \n",
       "85153    424722               NaN   \n",
       "85154    424764               NaN   \n",
       "85155    424767               NaN   \n",
       "\n",
       "                                                   Title  \\\n",
       "0        Usability issue with external editors (1GE6IRL)   \n",
       "1      Opening repository resources doesnt honor type...   \n",
       "2              Sync does not indicate deletion (1GIEN83)   \n",
       "3      need better error message if catching up over ...   \n",
       "4      ISharingManager sharing API inconsistent (1GAU...   \n",
       "...                                                  ...   \n",
       "85151                                 Crash on bootstarp   \n",
       "85152                [GTK/Linux] Blank Windows with GTK3   \n",
       "85153                                           software   \n",
       "85154                            Crash (MacOS) - getIvar   \n",
       "85155                                            eclipse   \n",
       "\n",
       "                                             Description  \n",
       "0      - Setup a project that contains a *.gif resour...  \n",
       "1      Opening repository resource always open the de...  \n",
       "2      KM (10/2/2001 5:55:18 PM); \\tThis PR about the...  \n",
       "3      - become synchronized with some project in a r...  \n",
       "4      For getting/setting the managed state of a res...  \n",
       "...                                                  ...  \n",
       "85151                                                NaN  \n",
       "85152  I started testing 4.4 and noticed the editor w...  \n",
       "85153                                                NaN  \n",
       "85154  Process:         eclipse [42412]; Path:       ...  \n",
       "85155                                                NaN  \n",
       "\n",
       "[85156 rows x 4 columns]"
      ]
     },
     "execution_count": 4,
     "metadata": {},
     "output_type": "execute_result"
    }
   ],
   "source": [
    "#Removing the unuseful coloumns from the dataset\n",
    "data = data.drop(columns=['Priority', 'Component', 'Status', 'Resolution', 'Version', 'Created_time', 'Resolved_time'], axis=1)\n",
    "data"
   ]
  },
  {
   "cell_type": "code",
   "execution_count": 5,
   "metadata": {
    "ExecuteTime": {
     "end_time": "2021-04-21T07:05:08.255711Z",
     "start_time": "2021-04-21T07:05:08.234769Z"
    },
    "colab": {
     "base_uri": "https://localhost:8080/",
     "height": 33
    },
    "colab_type": "code",
    "id": "XzYpjWP-sJSl",
    "outputId": "71ec96c8-6550-4f52-939e-81136f149bf5"
   },
   "outputs": [
    {
     "data": {
      "text/plain": [
       "Index(['Issue_id', 'Duplicated_issue', 'Title', 'Description'], dtype='object')"
      ]
     },
     "execution_count": 5,
     "metadata": {},
     "output_type": "execute_result"
    }
   ],
   "source": [
    "#Printing the Coloumn names\n",
    "data.keys()"
   ]
  },
  {
   "cell_type": "code",
   "execution_count": 6,
   "metadata": {
    "ExecuteTime": {
     "end_time": "2021-04-21T07:05:08.285631Z",
     "start_time": "2021-04-21T07:05:08.261696Z"
    },
    "colab": {
     "base_uri": "https://localhost:8080/",
     "height": 33
    },
    "colab_type": "code",
    "id": "YYPZOGe7sJSw",
    "outputId": "37d7f937-9fe1-484d-bc6e-ccaad5ba3e85"
   },
   "outputs": [
    {
     "data": {
      "text/plain": [
       "(85156, 4)"
      ]
     },
     "execution_count": 6,
     "metadata": {},
     "output_type": "execute_result"
    }
   ],
   "source": [
    "#Checking the shape of the data\n",
    "data.shape"
   ]
  },
  {
   "cell_type": "markdown",
   "metadata": {
    "colab_type": "text",
    "id": "uGcxxpIswWt2"
   },
   "source": [
    "\n",
    "## **1. Text Cleaning**\n",
    "\n",
    "  *   Removing Invalid Reports\n",
    "  *   Removing Punctuations\n",
    "\n",
    "\n",
    "\n",
    "\n"
   ]
  },
  {
   "cell_type": "code",
   "execution_count": 7,
   "metadata": {
    "ExecuteTime": {
     "end_time": "2021-04-21T07:05:08.316549Z",
     "start_time": "2021-04-21T07:05:08.291617Z"
    },
    "colab": {
     "base_uri": "https://localhost:8080/",
     "height": 33
    },
    "colab_type": "code",
    "id": "R_215ZlBsJTC",
    "outputId": "a6a14a75-f6ac-40a3-cdab-d2b49833d963"
   },
   "outputs": [
    {
     "data": {
      "text/plain": [
       "129"
      ]
     },
     "execution_count": 7,
     "metadata": {},
     "output_type": "execute_result"
    }
   ],
   "source": [
    "#Number of empty Description reports\n",
    "data['Description'].isnull().sum()"
   ]
  },
  {
   "cell_type": "code",
   "execution_count": 8,
   "metadata": {
    "ExecuteTime": {
     "end_time": "2021-04-21T07:05:08.346469Z",
     "start_time": "2021-04-21T07:05:08.320539Z"
    },
    "colab": {
     "base_uri": "https://localhost:8080/",
     "height": 33
    },
    "colab_type": "code",
    "id": "Zd8ECNy9sJTX",
    "outputId": "6a705251-88e4-46ed-9daa-a9aab82b9e18"
   },
   "outputs": [
    {
     "data": {
      "text/plain": [
       "0"
      ]
     },
     "execution_count": 8,
     "metadata": {},
     "output_type": "execute_result"
    }
   ],
   "source": [
    "#Number of empty Title reports\n",
    "data['Title'].isnull().sum()"
   ]
  },
  {
   "cell_type": "code",
   "execution_count": 9,
   "metadata": {
    "ExecuteTime": {
     "end_time": "2021-04-21T07:05:08.439769Z",
     "start_time": "2021-04-21T07:05:08.350460Z"
    },
    "colab": {},
    "colab_type": "code",
    "id": "hJYYLLR2sJTg"
   },
   "outputs": [],
   "source": [
    "#removing the rows with empty Description\n",
    "data = data.dropna(axis=0, subset=['Description'])"
   ]
  },
  {
   "cell_type": "code",
   "execution_count": 10,
   "metadata": {
    "ExecuteTime": {
     "end_time": "2021-04-21T07:05:08.455728Z",
     "start_time": "2021-04-21T07:05:08.444755Z"
    },
    "colab": {},
    "colab_type": "code",
    "id": "Ykwl8aH0sJUH"
   },
   "outputs": [],
   "source": [
    "pd.options.display.max_colwidth = 500"
   ]
  },
  {
   "cell_type": "code",
   "execution_count": 11,
   "metadata": {
    "ExecuteTime": {
     "end_time": "2021-04-21T07:05:08.487641Z",
     "start_time": "2021-04-21T07:05:08.462707Z"
    },
    "colab": {
     "base_uri": "https://localhost:8080/",
     "height": 127
    },
    "colab_type": "code",
    "id": "iZJCdlETsJUN",
    "outputId": "aa558453-7203-48a5-bfd0-9215b1ad1557"
   },
   "outputs": [
    {
     "data": {
      "text/html": [
       "<div>\n",
       "<style scoped>\n",
       "    .dataframe tbody tr th:only-of-type {\n",
       "        vertical-align: middle;\n",
       "    }\n",
       "\n",
       "    .dataframe tbody tr th {\n",
       "        vertical-align: top;\n",
       "    }\n",
       "\n",
       "    .dataframe thead th {\n",
       "        text-align: right;\n",
       "    }\n",
       "</style>\n",
       "<table border=\"1\" class=\"dataframe\">\n",
       "  <thead>\n",
       "    <tr style=\"text-align: right;\">\n",
       "      <th></th>\n",
       "      <th>Issue_id</th>\n",
       "      <th>Duplicated_issue</th>\n",
       "      <th>Title</th>\n",
       "      <th>Description</th>\n",
       "    </tr>\n",
       "  </thead>\n",
       "  <tbody>\n",
       "    <tr>\n",
       "      <th>4</th>\n",
       "      <td>5</td>\n",
       "      <td>NaN</td>\n",
       "      <td>ISharingManager sharing API inconsistent (1GAUL8H)</td>\n",
       "      <td>For getting/setting the managed state of a resource; the methods are:; ; isManaged(resource) and; manage(resource); ; for getting/setting the ignore state; the methods are:; ; getIgnored(resource); setIgnored(resource); ; These should be made more consistent.  I suggest renaming ignore methods:; ; isIgnored(resource) and; ignore(resource).; ; I think its good practice to not use get and set in method names unless its really; just a field accessor.; ; NOTES:</td>\n",
       "    </tr>\n",
       "  </tbody>\n",
       "</table>\n",
       "</div>"
      ],
      "text/plain": [
       "   Issue_id  Duplicated_issue  \\\n",
       "4         5               NaN   \n",
       "\n",
       "                                                Title  \\\n",
       "4  ISharingManager sharing API inconsistent (1GAUL8H)   \n",
       "\n",
       "                                                                                                                                                                                                                                                                                                                                                                                                                                                                     Description  \n",
       "4  For getting/setting the managed state of a resource; the methods are:; ; isManaged(resource) and; manage(resource); ; for getting/setting the ignore state; the methods are:; ; getIgnored(resource); setIgnored(resource); ; These should be made more consistent.  I suggest renaming ignore methods:; ; isIgnored(resource) and; ignore(resource).; ; I think its good practice to not use get and set in method names unless its really; just a field accessor.; ; NOTES:  "
      ]
     },
     "execution_count": 11,
     "metadata": {},
     "output_type": "execute_result"
    }
   ],
   "source": [
    "#Showing the fixed pattern used in many reports which doesn't have to do anything with the bug itself\n",
    "# Eg: fixed in head, has been marked as read only\n",
    "data.loc[[4]]"
   ]
  },
  {
   "cell_type": "code",
   "execution_count": 12,
   "metadata": {
    "ExecuteTime": {
     "end_time": "2021-04-21T07:05:11.843807Z",
     "start_time": "2021-04-21T07:05:08.491630Z"
    },
    "colab": {},
    "colab_type": "code",
    "id": "mRdThicxsJUX"
   },
   "outputs": [
    {
     "name": "stderr",
     "output_type": "stream",
     "text": [
      "<ipython-input-12-67fdc74805e6>:2: SettingWithCopyWarning: \n",
      "A value is trying to be set on a copy of a slice from a DataFrame.\n",
      "Try using .loc[row_indexer,col_indexer] = value instead\n",
      "\n",
      "See the caveats in the documentation: https://pandas.pydata.org/pandas-docs/stable/user_guide/indexing.html#returning-a-view-versus-a-copy\n",
      "  data[\"Description\"]= data[\"Description\"].str.replace(\"fixed in HEAD\", \"\", case = False)\n",
      "<ipython-input-12-67fdc74805e6>:3: SettingWithCopyWarning: \n",
      "A value is trying to be set on a copy of a slice from a DataFrame.\n",
      "Try using .loc[row_indexer,col_indexer] = value instead\n",
      "\n",
      "See the caveats in the documentation: https://pandas.pydata.org/pandas-docs/stable/user_guide/indexing.html#returning-a-view-versus-a-copy\n",
      "  data[\"Description\"]= data[\"Description\"].str.replace(\"has been marked as readonly\", \" \", case = False)\n"
     ]
    }
   ],
   "source": [
    "#Removing the fixed patterns by replacing them with \" \"\n",
    "data[\"Description\"]= data[\"Description\"].str.replace(\"fixed in HEAD\", \"\", case = False)\n",
    "data[\"Description\"]= data[\"Description\"].str.replace(\"has been marked as readonly\", \" \", case = False)"
   ]
  },
  {
   "cell_type": "code",
   "execution_count": 13,
   "metadata": {
    "ExecuteTime": {
     "end_time": "2021-04-21T07:05:11.876725Z",
     "start_time": "2021-04-21T07:05:11.846799Z"
    },
    "colab": {
     "base_uri": "https://localhost:8080/",
     "height": 127
    },
    "colab_type": "code",
    "id": "D8Jqn-nrsJUe",
    "outputId": "4b49ba2e-c098-4393-a851-0b500e165d64"
   },
   "outputs": [
    {
     "data": {
      "text/html": [
       "<div>\n",
       "<style scoped>\n",
       "    .dataframe tbody tr th:only-of-type {\n",
       "        vertical-align: middle;\n",
       "    }\n",
       "\n",
       "    .dataframe tbody tr th {\n",
       "        vertical-align: top;\n",
       "    }\n",
       "\n",
       "    .dataframe thead th {\n",
       "        text-align: right;\n",
       "    }\n",
       "</style>\n",
       "<table border=\"1\" class=\"dataframe\">\n",
       "  <thead>\n",
       "    <tr style=\"text-align: right;\">\n",
       "      <th></th>\n",
       "      <th>Issue_id</th>\n",
       "      <th>Duplicated_issue</th>\n",
       "      <th>Title</th>\n",
       "      <th>Description</th>\n",
       "    </tr>\n",
       "  </thead>\n",
       "  <tbody>\n",
       "    <tr>\n",
       "      <th>4</th>\n",
       "      <td>5</td>\n",
       "      <td>NaN</td>\n",
       "      <td>ISharingManager sharing API inconsistent (1GAUL8H)</td>\n",
       "      <td>For getting/setting the managed state of a resource; the methods are:; ; isManaged(resource) and; manage(resource); ; for getting/setting the ignore state; the methods are:; ; getIgnored(resource); setIgnored(resource); ; These should be made more consistent.  I suggest renaming ignore methods:; ; isIgnored(resource) and; ignore(resource).; ; I think its good practice to not use get and set in method names unless its really; just a field accessor.; ; NOTES:</td>\n",
       "    </tr>\n",
       "  </tbody>\n",
       "</table>\n",
       "</div>"
      ],
      "text/plain": [
       "   Issue_id  Duplicated_issue  \\\n",
       "4         5               NaN   \n",
       "\n",
       "                                                Title  \\\n",
       "4  ISharingManager sharing API inconsistent (1GAUL8H)   \n",
       "\n",
       "                                                                                                                                                                                                                                                                                                                                                                                                                                                                     Description  \n",
       "4  For getting/setting the managed state of a resource; the methods are:; ; isManaged(resource) and; manage(resource); ; for getting/setting the ignore state; the methods are:; ; getIgnored(resource); setIgnored(resource); ; These should be made more consistent.  I suggest renaming ignore methods:; ; isIgnored(resource) and; ignore(resource).; ; I think its good practice to not use get and set in method names unless its really; just a field accessor.; ; NOTES:  "
      ]
     },
     "execution_count": 13,
     "metadata": {},
     "output_type": "execute_result"
    }
   ],
   "source": [
    "#Checking if it is been removed\n",
    "data.loc[[4]]"
   ]
  },
  {
   "cell_type": "code",
   "execution_count": 14,
   "metadata": {
    "ExecuteTime": {
     "end_time": "2021-04-21T07:05:11.892676Z",
     "start_time": "2021-04-21T07:05:11.884699Z"
    },
    "colab": {},
    "colab_type": "code",
    "id": "7HFyT1x3sJU8"
   },
   "outputs": [],
   "source": [
    "pd.options.display.max_colwidth = 50"
   ]
  },
  {
   "cell_type": "code",
   "execution_count": 15,
   "metadata": {
    "ExecuteTime": {
     "end_time": "2021-04-21T07:05:11.922596Z",
     "start_time": "2021-04-21T07:05:11.898662Z"
    },
    "colab": {},
    "colab_type": "code",
    "id": "Z-vXj9fxsJTx"
   },
   "outputs": [],
   "source": [
    "#Text Cleaning round 1 (removing punctutions)\n",
    "import re\n",
    "import string\n",
    "\n",
    "def clean_text_round1(text):\n",
    "    '''Make text lowercase, remove text in square brackets, remove punctuation and remove words containing numbers.'''\n",
    "    text = re.sub('\\w*\\d\\w*', '', text)\n",
    "    text = re.sub('\\w*\\f\\w*', '', text)\n",
    "    text = re.sub('\\(.*?\\)', '', text)\n",
    "    text = re.sub('\\[.*]\\)', '', text)\n",
    "    text = text.lower()\n",
    "    text = re.sub('[%s]' % re.escape(string.punctuation), '', text)\n",
    "    return text\n",
    "\n",
    "round1 = lambda x: clean_text_round1(x)"
   ]
  },
  {
   "cell_type": "code",
   "execution_count": 16,
   "metadata": {
    "ExecuteTime": {
     "end_time": "2021-04-21T07:05:43.058162Z",
     "start_time": "2021-04-21T07:05:11.926585Z"
    },
    "colab": {},
    "colab_type": "code",
    "id": "4tbSDTdssJT5"
   },
   "outputs": [
    {
     "name": "stderr",
     "output_type": "stream",
     "text": [
      "<ipython-input-16-18cb8d411fc8>:1: SettingWithCopyWarning: \n",
      "A value is trying to be set on a copy of a slice from a DataFrame.\n",
      "Try using .loc[row_indexer,col_indexer] = value instead\n",
      "\n",
      "See the caveats in the documentation: https://pandas.pydata.org/pandas-docs/stable/user_guide/indexing.html#returning-a-view-versus-a-copy\n",
      "  data['Description'] = data['Description'].apply(clean_text_round1)\n"
     ]
    }
   ],
   "source": [
    "data['Description'] = data['Description'].apply(clean_text_round1)\n"
   ]
  },
  {
   "cell_type": "code",
   "execution_count": 17,
   "metadata": {
    "ExecuteTime": {
     "end_time": "2021-04-21T07:05:43.073117Z",
     "start_time": "2021-04-21T07:05:43.062148Z"
    },
    "colab": {},
    "colab_type": "code",
    "id": "NZBWtQDrsJUo"
   },
   "outputs": [],
   "source": [
    "# Apply a second round of cleaning (removing punctuations)\n",
    "def clean_text_round2(text):\n",
    "    '''Get rid of some additional punctuation and non-sensical text that was missed the first time around.'''\n",
    "    text = re.sub('[‘’“”…]', '', text)\n",
    "    text = re.sub('\\n', '', text)\n",
    "    text = re.sub('\\t', '', text)\n",
    "    return text\n",
    "\n",
    "round2 = lambda x: clean_text_round2(x)"
   ]
  },
  {
   "cell_type": "code",
   "execution_count": 18,
   "metadata": {
    "ExecuteTime": {
     "end_time": "2021-04-21T07:05:44.790163Z",
     "start_time": "2021-04-21T07:05:43.080099Z"
    },
    "colab": {},
    "colab_type": "code",
    "id": "RgcRhy89sJUu"
   },
   "outputs": [
    {
     "name": "stderr",
     "output_type": "stream",
     "text": [
      "<ipython-input-18-6add28d453c9>:1: SettingWithCopyWarning: \n",
      "A value is trying to be set on a copy of a slice from a DataFrame.\n",
      "Try using .loc[row_indexer,col_indexer] = value instead\n",
      "\n",
      "See the caveats in the documentation: https://pandas.pydata.org/pandas-docs/stable/user_guide/indexing.html#returning-a-view-versus-a-copy\n",
      "  data['Title'] = data['Title'].apply(clean_text_round2)\n",
      "<ipython-input-18-6add28d453c9>:2: SettingWithCopyWarning: \n",
      "A value is trying to be set on a copy of a slice from a DataFrame.\n",
      "Try using .loc[row_indexer,col_indexer] = value instead\n",
      "\n",
      "See the caveats in the documentation: https://pandas.pydata.org/pandas-docs/stable/user_guide/indexing.html#returning-a-view-versus-a-copy\n",
      "  data['Description'] = data['Description'].apply(clean_text_round2)\n"
     ]
    }
   ],
   "source": [
    "data['Title'] = data['Title'].apply(clean_text_round2)\n",
    "data['Description'] = data['Description'].apply(clean_text_round2)"
   ]
  },
  {
   "cell_type": "markdown",
   "metadata": {
    "colab_type": "text",
    "id": "USiMQbfkzamT"
   },
   "source": [
    "## **2. Stop Word Removal, Tokenization and Lemmatization**"
   ]
  },
  {
   "cell_type": "code",
   "execution_count": 19,
   "metadata": {
    "ExecuteTime": {
     "end_time": "2021-04-21T07:05:44.807116Z",
     "start_time": "2021-04-21T07:05:44.795153Z"
    },
    "colab": {},
    "colab_type": "code",
    "id": "hBURqTvQsJVQ"
   },
   "outputs": [],
   "source": [
    "\n",
    "def lemmatize(text):\n",
    "    return WordNetLemmatizer().lemmatize(text, pos='v')\n",
    "\n",
    "def preprocess(text):\n",
    "    result = []\n",
    "    for token in gensim.utils.simple_preprocess(text):\n",
    "        if token not in gensim.parsing.preprocessing.STOPWORDS and len(token) > 5:\n",
    "            result.append(lemmatize(token))\n",
    "    return result"
   ]
  },
  {
   "cell_type": "code",
   "execution_count": 20,
   "metadata": {
    "ExecuteTime": {
     "end_time": "2021-04-21T07:06:28.485921Z",
     "start_time": "2021-04-21T07:05:44.814097Z"
    },
    "colab": {},
    "colab_type": "code",
    "id": "GqEYgHa9sJVU"
   },
   "outputs": [
    {
     "name": "stderr",
     "output_type": "stream",
     "text": [
      "<ipython-input-20-5cf414487d71>:1: SettingWithCopyWarning: \n",
      "A value is trying to be set on a copy of a slice from a DataFrame.\n",
      "Try using .loc[row_indexer,col_indexer] = value instead\n",
      "\n",
      "See the caveats in the documentation: https://pandas.pydata.org/pandas-docs/stable/user_guide/indexing.html#returning-a-view-versus-a-copy\n",
      "  data['Title'] = data['Title'].map(preprocess)\n",
      "<ipython-input-20-5cf414487d71>:2: SettingWithCopyWarning: \n",
      "A value is trying to be set on a copy of a slice from a DataFrame.\n",
      "Try using .loc[row_indexer,col_indexer] = value instead\n",
      "\n",
      "See the caveats in the documentation: https://pandas.pydata.org/pandas-docs/stable/user_guide/indexing.html#returning-a-view-versus-a-copy\n",
      "  data['Description'] = data['Description'].map(preprocess)\n"
     ]
    }
   ],
   "source": [
    "data['Title'] = data['Title'].map(preprocess)\n",
    "data['Description'] = data['Description'].map(preprocess)"
   ]
  },
  {
   "cell_type": "code",
   "execution_count": 21,
   "metadata": {
    "ExecuteTime": {
     "end_time": "2021-04-21T07:06:30.170469Z",
     "start_time": "2021-04-21T07:06:28.494889Z"
    },
    "colab": {},
    "colab_type": "code",
    "id": "n7kChz6UsJVZ"
   },
   "outputs": [],
   "source": [
    "data.to_csv(\"CSV/preprocessed_data.csv\")"
   ]
  },
  {
   "cell_type": "markdown",
   "metadata": {
    "colab_type": "text",
    "id": "4A0SfiKI_bOB"
   },
   "source": [
    "## **Seperation of Master Reports and Duplicate Reports**"
   ]
  },
  {
   "cell_type": "code",
   "execution_count": 22,
   "metadata": {
    "ExecuteTime": {
     "end_time": "2021-04-21T07:06:30.203382Z",
     "start_time": "2021-04-21T07:06:30.175459Z"
    },
    "colab": {
     "base_uri": "https://localhost:8080/",
     "height": 33
    },
    "colab_type": "code",
    "id": "Mol4vTQs_aam",
    "outputId": "e3a4372b-3ad2-4ac1-acf5-70d406f794c0"
   },
   "outputs": [
    {
     "data": {
      "text/plain": [
       "70629"
      ]
     },
     "execution_count": 22,
     "metadata": {},
     "output_type": "execute_result"
    }
   ],
   "source": [
    "#Number of master_reports\n",
    "data['Duplicated_issue'].isnull().sum()"
   ]
  },
  {
   "cell_type": "code",
   "execution_count": 23,
   "metadata": {
    "ExecuteTime": {
     "end_time": "2021-04-21T07:06:30.681102Z",
     "start_time": "2021-04-21T07:06:30.211361Z"
    },
    "colab": {},
    "colab_type": "code",
    "id": "DItsOj4P_ofY"
   },
   "outputs": [],
   "source": [
    "#Saving all the duplicate reports into a csv file as a testing set\n",
    "duplicate_reports = data.dropna(axis=0, subset=['Duplicated_issue'])\n",
    "duplicate_reports.reset_index(drop=True)\n",
    "duplicate_reports.to_csv('CSV/duplicate_reports.csv')"
   ]
  },
  {
   "cell_type": "code",
   "execution_count": 24,
   "metadata": {
    "ExecuteTime": {
     "end_time": "2021-04-21T07:06:30.772860Z",
     "start_time": "2021-04-21T07:06:30.684096Z"
    },
    "colab": {
     "base_uri": "https://localhost:8080/",
     "height": 406
    },
    "colab_type": "code",
    "id": "sTPKJWYr_sOP",
    "outputId": "249bda8c-46d4-4c6a-9efa-56714b6f7157"
   },
   "outputs": [
    {
     "data": {
      "text/html": [
       "<div>\n",
       "<style scoped>\n",
       "    .dataframe tbody tr th:only-of-type {\n",
       "        vertical-align: middle;\n",
       "    }\n",
       "\n",
       "    .dataframe tbody tr th {\n",
       "        vertical-align: top;\n",
       "    }\n",
       "\n",
       "    .dataframe thead th {\n",
       "        text-align: right;\n",
       "    }\n",
       "</style>\n",
       "<table border=\"1\" class=\"dataframe\">\n",
       "  <thead>\n",
       "    <tr style=\"text-align: right;\">\n",
       "      <th></th>\n",
       "      <th>Issue_id</th>\n",
       "      <th>Duplicated_issue</th>\n",
       "      <th>Title</th>\n",
       "      <th>Description</th>\n",
       "    </tr>\n",
       "  </thead>\n",
       "  <tbody>\n",
       "    <tr>\n",
       "      <th>0</th>\n",
       "      <td>1</td>\n",
       "      <td>NaN</td>\n",
       "      <td>[usability, external, editors]</td>\n",
       "      <td>[project, contain, resource, release, project,...</td>\n",
       "    </tr>\n",
       "    <tr>\n",
       "      <th>1</th>\n",
       "      <td>2</td>\n",
       "      <td>NaN</td>\n",
       "      <td>[open, repository, resources, doesnt]</td>\n",
       "      <td>[open, repository, resource, default, editor, ...</td>\n",
       "    </tr>\n",
       "    <tr>\n",
       "      <th>2</th>\n",
       "      <td>3</td>\n",
       "      <td>NaN</td>\n",
       "      <td>[indicate, deletion]</td>\n",
       "      <td>[deletion, indicator, viewer, subtle, vision, ...</td>\n",
       "    </tr>\n",
       "    <tr>\n",
       "      <th>3</th>\n",
       "      <td>4</td>\n",
       "      <td>NaN</td>\n",
       "      <td>[better, message, catch, resource]</td>\n",
       "      <td>[synchronize, project, repository, different, ...</td>\n",
       "    </tr>\n",
       "    <tr>\n",
       "      <th>4</th>\n",
       "      <td>5</td>\n",
       "      <td>NaN</td>\n",
       "      <td>[isharingmanager, share, inconsistent]</td>\n",
       "      <td>[gettingsetting, manage, resource, methods, is...</td>\n",
       "    </tr>\n",
       "    <tr>\n",
       "      <th>...</th>\n",
       "      <td>...</td>\n",
       "      <td>...</td>\n",
       "      <td>...</td>\n",
       "      <td>...</td>\n",
       "    </tr>\n",
       "    <tr>\n",
       "      <th>70624</th>\n",
       "      <td>424656</td>\n",
       "      <td>NaN</td>\n",
       "      <td>[fail, relate, config]</td>\n",
       "      <td>[feel, relate, need, change, relate, copy, bel...</td>\n",
       "    </tr>\n",
       "    <tr>\n",
       "      <th>70625</th>\n",
       "      <td>424658</td>\n",
       "      <td>NaN</td>\n",
       "      <td>[eclipse, kepler, ubuntu, jrockit]</td>\n",
       "      <td>[eclipse, kepler, ubuntu, oracle, jrockit, att...</td>\n",
       "    </tr>\n",
       "    <tr>\n",
       "      <th>70626</th>\n",
       "      <td>424672</td>\n",
       "      <td>NaN</td>\n",
       "      <td>[display]</td>\n",
       "      <td>[button, dropdown, doesnt, button, result, but...</td>\n",
       "    </tr>\n",
       "    <tr>\n",
       "      <th>70627</th>\n",
       "      <td>424714</td>\n",
       "      <td>NaN</td>\n",
       "      <td>[windows]</td>\n",
       "      <td>[start, test, notice, editor, windows, package...</td>\n",
       "    </tr>\n",
       "    <tr>\n",
       "      <th>70628</th>\n",
       "      <td>424764</td>\n",
       "      <td>NaN</td>\n",
       "      <td>[getivar]</td>\n",
       "      <td>[process, eclipse, identifier, version, parent...</td>\n",
       "    </tr>\n",
       "  </tbody>\n",
       "</table>\n",
       "<p>70629 rows × 4 columns</p>\n",
       "</div>"
      ],
      "text/plain": [
       "       Issue_id  Duplicated_issue                                   Title  \\\n",
       "0             1               NaN          [usability, external, editors]   \n",
       "1             2               NaN   [open, repository, resources, doesnt]   \n",
       "2             3               NaN                    [indicate, deletion]   \n",
       "3             4               NaN      [better, message, catch, resource]   \n",
       "4             5               NaN  [isharingmanager, share, inconsistent]   \n",
       "...         ...               ...                                     ...   \n",
       "70624    424656               NaN                  [fail, relate, config]   \n",
       "70625    424658               NaN      [eclipse, kepler, ubuntu, jrockit]   \n",
       "70626    424672               NaN                               [display]   \n",
       "70627    424714               NaN                               [windows]   \n",
       "70628    424764               NaN                               [getivar]   \n",
       "\n",
       "                                             Description  \n",
       "0      [project, contain, resource, release, project,...  \n",
       "1      [open, repository, resource, default, editor, ...  \n",
       "2      [deletion, indicator, viewer, subtle, vision, ...  \n",
       "3      [synchronize, project, repository, different, ...  \n",
       "4      [gettingsetting, manage, resource, methods, is...  \n",
       "...                                                  ...  \n",
       "70624  [feel, relate, need, change, relate, copy, bel...  \n",
       "70625  [eclipse, kepler, ubuntu, oracle, jrockit, att...  \n",
       "70626  [button, dropdown, doesnt, button, result, but...  \n",
       "70627  [start, test, notice, editor, windows, package...  \n",
       "70628  [process, eclipse, identifier, version, parent...  \n",
       "\n",
       "[70629 rows x 4 columns]"
      ]
     },
     "execution_count": 24,
     "metadata": {},
     "output_type": "execute_result"
    }
   ],
   "source": [
    "#Seperating all the master reports into a dataframe\n",
    "master_reports = data[data.isnull().any(axis=1)]\n",
    "master_reports.reset_index(drop=True)"
   ]
  },
  {
   "cell_type": "code",
   "execution_count": 25,
   "metadata": {
    "ExecuteTime": {
     "end_time": "2021-04-21T07:06:30.788815Z",
     "start_time": "2021-04-21T07:06:30.775852Z"
    },
    "colab": {},
    "colab_type": "code",
    "id": "0N1w_5iN_vVc"
   },
   "outputs": [],
   "source": [
    "#Removing empty master_reports after data cleaning process\n",
    "# mr = pd.DataFrame()\n",
    "# count = 0\n",
    "# for i in range(len(master_reports)):\n",
    "#     if(len(master_reports.Description[i])>2):\n",
    "#         mr= mr.append(master_reports.loc[[i]])\n",
    "#         count=+1"
   ]
  },
  {
   "cell_type": "code",
   "execution_count": 26,
   "metadata": {
    "ExecuteTime": {
     "end_time": "2021-04-21T07:06:32.371389Z",
     "start_time": "2021-04-21T07:06:30.791807Z"
    },
    "colab": {},
    "colab_type": "code",
    "id": "p7kUWR34_xFQ"
   },
   "outputs": [],
   "source": [
    "#Saving all the master reports into a seperate csv file\n",
    "master_reports.to_csv('CSV/master_reports.csv')"
   ]
  },
  {
   "cell_type": "code",
   "execution_count": null,
   "metadata": {},
   "outputs": [],
   "source": []
  }
 ],
 "metadata": {
  "colab": {
   "name": "data_preprocessing.ipynb",
   "provenance": []
  },
  "kernelspec": {
   "display_name": "Python 3",
   "language": "python",
   "name": "python3"
  },
  "language_info": {
   "codemirror_mode": {
    "name": "ipython",
    "version": 3
   },
   "file_extension": ".py",
   "mimetype": "text/x-python",
   "name": "python",
   "nbconvert_exporter": "python",
   "pygments_lexer": "ipython3",
   "version": "3.8.5"
  },
  "toc": {
   "base_numbering": 1,
   "nav_menu": {},
   "number_sections": true,
   "sideBar": true,
   "skip_h1_title": false,
   "title_cell": "Table of Contents",
   "title_sidebar": "Contents",
   "toc_cell": false,
   "toc_position": {},
   "toc_section_display": true,
   "toc_window_display": true
  }
 },
 "nbformat": 4,
 "nbformat_minor": 1
}
