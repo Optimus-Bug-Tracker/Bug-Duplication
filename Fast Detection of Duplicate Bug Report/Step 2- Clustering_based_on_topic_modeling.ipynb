{
 "cells": [
  {
   "cell_type": "markdown",
   "metadata": {
    "colab_type": "text",
    "id": "tRDcPbBT2QVU"
   },
   "source": [
    "# **Latent Dirichlet Allocation (LDA)-based Topic Modeling and Clustering**"
   ]
  },
  {
   "cell_type": "code",
   "execution_count": 1,
   "metadata": {
    "ExecuteTime": {
     "end_time": "2021-04-21T07:07:38.369503Z",
     "start_time": "2021-04-21T07:07:34.129165Z"
    },
    "colab": {
     "base_uri": "https://localhost:8080/",
     "height": 83
    },
    "colab_type": "code",
    "id": "k46Q291Ey2wk",
    "outputId": "2154cd13-b45c-4d4c-dd82-27e96903b252"
   },
   "outputs": [
    {
     "name": "stderr",
     "output_type": "stream",
     "text": [
      "[nltk_data] Downloading package stopwords to\n",
      "[nltk_data]     C:\\Users\\abdul\\AppData\\Roaming\\nltk_data...\n",
      "[nltk_data]   Package stopwords is already up-to-date!\n",
      "[nltk_data] Downloading package wordnet to\n",
      "[nltk_data]     C:\\Users\\abdul\\AppData\\Roaming\\nltk_data...\n",
      "[nltk_data]   Package wordnet is already up-to-date!\n"
     ]
    }
   ],
   "source": [
    "import pandas as pd\n",
    "import nltk\n",
    "import gensim\n",
    "from nltk.corpus import stopwords\n",
    "from nltk import word_tokenize\n",
    "from nltk.stem import WordNetLemmatizer, SnowballStemmer\n",
    "from nltk.stem.porter import *\n",
    "from gensim.parsing.preprocessing import STOPWORDS\n",
    "import numpy as np\n",
    "from gensim import corpora,models\n",
    "import time\n",
    "import pickle\n",
    "nltk.download('stopwords')\n",
    "nltk.download('wordnet')\n",
    "import warnings\n",
    "warnings.filterwarnings(\"ignore\", category=DeprecationWarning)"
   ]
  },
  {
   "cell_type": "code",
   "execution_count": 2,
   "metadata": {
    "ExecuteTime": {
     "end_time": "2021-04-21T07:07:38.384466Z",
     "start_time": "2021-04-21T07:07:38.373493Z"
    },
    "colab": {
     "base_uri": "https://localhost:8080/",
     "height": 33
    },
    "colab_type": "code",
    "id": "hxvDYG0TCPK3",
    "outputId": "c286c722-c359-4ffe-fdbf-436c5207bd77"
   },
   "outputs": [],
   "source": [
    "#Mounting google drive\n",
    "# from google.colab import drive\n",
    "# drive.mount('/content/drive')"
   ]
  },
  {
   "cell_type": "code",
   "execution_count": 3,
   "metadata": {
    "ExecuteTime": {
     "end_time": "2021-04-21T07:07:38.928389Z",
     "start_time": "2021-04-21T07:07:38.409401Z"
    },
    "colab": {},
    "colab_type": "code",
    "id": "H5uv5Lw48fRY"
   },
   "outputs": [],
   "source": [
    "#importing the CSV file of the master reports from google drive into a dataframe\n",
    "master_reports = pd.read_csv('CSV/master_reports.csv')\n",
    "master_reports = master_reports.drop(columns=['Unnamed: 0'])"
   ]
  },
  {
   "cell_type": "code",
   "execution_count": 4,
   "metadata": {
    "ExecuteTime": {
     "end_time": "2021-04-21T07:07:38.943348Z",
     "start_time": "2021-04-21T07:07:38.931385Z"
    },
    "colab": {},
    "colab_type": "code",
    "id": "KD3R6nhdy2xJ"
   },
   "outputs": [],
   "source": [
    "def lemmatize(text):\n",
    "    return WordNetLemmatizer().lemmatize(text, pos='v')\n",
    "\n",
    "def preprocess(text):\n",
    "    result = []\n",
    "    for token in gensim.utils.simple_preprocess(text):\n",
    "        if token not in gensim.parsing.preprocessing.STOPWORDS and len(token) > 5:\n",
    "            result.append(lemmatize(token))\n",
    "    return result"
   ]
  },
  {
   "cell_type": "code",
   "execution_count": 5,
   "metadata": {
    "ExecuteTime": {
     "end_time": "2021-04-21T07:07:56.641274Z",
     "start_time": "2021-04-21T07:07:38.949331Z"
    },
    "colab": {},
    "colab_type": "code",
    "id": "vM0lSTepy2xP"
   },
   "outputs": [],
   "source": [
    "master_reports['Description'] = master_reports['Description'].map(preprocess)"
   ]
  },
  {
   "cell_type": "markdown",
   "metadata": {
    "colab_type": "text",
    "id": "w6ZdemZnBROW"
   },
   "source": [
    "### **Creating Bag of Words (BoW)**"
   ]
  },
  {
   "cell_type": "code",
   "execution_count": 6,
   "metadata": {
    "ExecuteTime": {
     "end_time": "2021-04-21T07:07:59.521388Z",
     "start_time": "2021-04-21T07:07:56.644271Z"
    },
    "colab": {},
    "colab_type": "code",
    "id": "COgREELwy2xW"
   },
   "outputs": [],
   "source": [
    "#Creating a dictionary using gensim library\n",
    "dictionary = gensim.corpora.Dictionary(master_reports['Description'])\n",
    "dictionary.filter_extremes(no_below=15, no_above=0.5, keep_n=100000)"
   ]
  },
  {
   "cell_type": "code",
   "execution_count": 7,
   "metadata": {
    "ExecuteTime": {
     "end_time": "2021-04-21T07:07:59.537351Z",
     "start_time": "2021-04-21T07:07:59.526380Z"
    },
    "colab": {
     "base_uri": "https://localhost:8080/",
     "height": 366
    },
    "colab_type": "code",
    "id": "aO1zCf-Ry2xa",
    "outputId": "27a05880-a5b4-4d47-bd24-c8ceac43ed84"
   },
   "outputs": [
    {
     "name": "stdout",
     "output_type": "stream",
     "text": [
      "0 actually\n",
      "1 builders\n",
      "2 change\n",
      "3 comment\n",
      "4 compare\n",
      "5 complete\n",
      "6 consider\n",
      "7 consistency\n",
      "8 contain\n",
      "9 default\n",
      "10 derive\n",
      "11 document\n",
      "12 editor\n",
      "13 effect\n",
      "14 ensure\n",
      "15 external\n",
      "16 extremely\n",
      "17 inconsistent\n",
      "18 internal\n",
      "19 maintain\n",
      "20 mandatory\n"
     ]
    }
   ],
   "source": [
    "#Print top 20 words from the dictionary\n",
    "count = 0\n",
    "for k, v in dictionary.iteritems():\n",
    "    print(k, v)\n",
    "    count += 1\n",
    "    if count > 20:\n",
    "        break"
   ]
  },
  {
   "cell_type": "code",
   "execution_count": 8,
   "metadata": {
    "ExecuteTime": {
     "end_time": "2021-04-21T07:08:00.908890Z",
     "start_time": "2021-04-21T07:07:59.545328Z"
    },
    "colab": {},
    "colab_type": "code",
    "id": "bztEZCEIy2xk"
   },
   "outputs": [],
   "source": [
    "#Creating BoW using the the dictionary\n",
    "bow_corpus = [dictionary.doc2bow(doc) for doc in master_reports['Description']]"
   ]
  },
  {
   "cell_type": "code",
   "execution_count": 9,
   "metadata": {
    "ExecuteTime": {
     "end_time": "2021-04-21T07:08:00.923850Z",
     "start_time": "2021-04-21T07:08:00.911882Z"
    },
    "colab": {
     "base_uri": "https://localhost:8080/",
     "height": 133
    },
    "colab_type": "code",
    "id": "Ii98uln5y2xp",
    "outputId": "cdf7902f-816f-47ef-a4fe-6f42deb9f19b"
   },
   "outputs": [
    {
     "name": "stdout",
     "output_type": "stream",
     "text": [
      "Word 2 (\"change\") appears 1 time.\n",
      "Word 30 (\"resource\") appears 1 time.\n",
      "Word 48 (\"expect\") appears 1 time.\n",
      "Word 114 (\"future\") appears 1 time.\n",
      "Word 181 (\"implementation\") appears 1 time.\n",
      "Word 182 (\"iresource\") appears 1 time.\n",
      "Word 183 (\"obsolete\") appears 1 time.\n"
     ]
    }
   ],
   "source": [
    "#Printing the BoW for single document\n",
    "bow_doc_8 = bow_corpus[8]\n",
    "for i in range(len(bow_doc_8)):\n",
    "    print(\"Word {} (\\\"{}\\\") appears {} time.\".format(bow_doc_8[i][0], \n",
    "                                               dictionary[bow_doc_8[i][0]], \n",
    "bow_doc_8[i][1]))"
   ]
  },
  {
   "cell_type": "code",
   "execution_count": 10,
   "metadata": {
    "ExecuteTime": {
     "end_time": "2021-04-21T07:08:01.332050Z",
     "start_time": "2021-04-21T07:08:00.926842Z"
    },
    "colab": {},
    "colab_type": "code",
    "id": "Kz0q-TegNkYy"
   },
   "outputs": [],
   "source": [
    "# open a file, where you stored the pickled data\n",
    "f= open('CSV/bow_corpus.pickle', 'wb')\n",
    "\n",
    "# dump information to that file\n",
    "pickle.dump(bow_corpus, f)"
   ]
  },
  {
   "cell_type": "code",
   "execution_count": 11,
   "metadata": {
    "ExecuteTime": {
     "end_time": "2021-04-21T07:08:01.347924Z",
     "start_time": "2021-04-21T07:08:01.334962Z"
    },
    "colab": {},
    "colab_type": "code",
    "id": "P91x5vDJNqGk"
   },
   "outputs": [],
   "source": [
    "# open a file, where you stored the pickled data\n",
    "file = open('CSV/dictionary.pickle', 'wb')\n",
    "\n",
    "# dump information to that file\n",
    "pickle.dump(dictionary, file)"
   ]
  },
  {
   "cell_type": "markdown",
   "metadata": {
    "colab_type": "text",
    "id": "MwCsT_g2NXBv"
   },
   "source": [
    "### **LDA-based Topic Modeling**"
   ]
  },
  {
   "cell_type": "code",
   "execution_count": 12,
   "metadata": {
    "ExecuteTime": {
     "end_time": "2021-04-21T07:26:10.972709Z",
     "start_time": "2021-04-21T07:08:01.350917Z"
    },
    "colab": {},
    "colab_type": "code",
    "id": "LNtcr3zPy2xu"
   },
   "outputs": [],
   "source": [
    "#Preparing the parameters for LDA model\n",
    "corpus = bow_corpus\n",
    "no_of_topics = 10\n",
    "dictionary = dictionary\n",
    "p = 20\n",
    "k = 2\n",
    "epochs = 100\n",
    "\n",
    "#Training the LDA model on the BoW corpus\n",
    "lda_model = gensim.models.LdaMulticore(corpus, num_topics=no_of_topics, id2word=dictionary, passes=p, workers=k, iterations=epochs)"
   ]
  },
  {
   "cell_type": "code",
   "execution_count": 13,
   "metadata": {
    "ExecuteTime": {
     "end_time": "2021-04-21T07:26:11.003627Z",
     "start_time": "2021-04-21T07:26:10.976701Z"
    },
    "colab": {
     "base_uri": "https://localhost:8080/",
     "height": 70
    },
    "colab_type": "code",
    "id": "8oiblQ2DNz0X",
    "outputId": "b88f908d-871f-4c81-bd0e-75c1d1690a49"
   },
   "outputs": [],
   "source": [
    "# save model to disk (no need to use pickle module)\n",
    "lda_model.save('CSV/lda_model.model')"
   ]
  },
  {
   "cell_type": "code",
   "execution_count": 14,
   "metadata": {
    "ExecuteTime": {
     "end_time": "2021-04-21T07:26:11.034547Z",
     "start_time": "2021-04-21T07:26:11.006621Z"
    },
    "colab": {
     "base_uri": "https://localhost:8080/",
     "height": 370
    },
    "colab_type": "code",
    "id": "RIA_pgtRy2x1",
    "outputId": "c8c656b3-4786-47f9-ef27-ebf0fa8676b8"
   },
   "outputs": [
    {
     "name": "stdout",
     "output_type": "stream",
     "text": [
      "Topic: 0 \n",
      "Words: 0.088*\"thread\" + 0.056*\"javathread\" + 0.055*\"daemon\" + 0.047*\"threadblocked\" + 0.026*\"cwindowsdll\" + 0.025*\"worker\" + 0.022*\"native\" + 0.020*\"symbol\" + 0.020*\"monitor\" + 0.019*\"runnable\"\n",
      "Topic: 1 \n",
      "Words: 0.059*\"dialog\" + 0.052*\"button\" + 0.044*\"action\" + 0.035*\"select\" + 0.027*\"context\" + 0.023*\"filter\" + 0.022*\"disable\" + 0.022*\"enable\" + 0.021*\"toolbar\" + 0.020*\"command\"\n",
      "Topic: 2 \n",
      "Words: 0.064*\"editor\" + 0.027*\"window\" + 0.021*\"select\" + 0.021*\"change\" + 0.015*\"windows\" + 0.015*\"character\" + 0.015*\"reproduce\" + 0.013*\"editors\" + 0.013*\"eclipse\" + 0.013*\"problem\"\n",
      "Topic: 3 \n",
      "Words: 0.092*\"public\" + 0.088*\"import\" + 0.065*\"display\" + 0.031*\"static\" + 0.023*\"snippet\" + 0.021*\"libclientdylib\" + 0.018*\"button\" + 0.017*\"composite\" + 0.017*\"column\" + 0.016*\"private\"\n",
      "Topic: 4 \n",
      "Words: 0.041*\"return\" + 0.041*\"method\" + 0.022*\"change\" + 0.021*\"create\" + 0.017*\"object\" + 0.016*\"target\" + 0.015*\"property\" + 0.013*\"remove\" + 0.012*\"string\" + 0.012*\"implement\"\n",
      "Topic: 5 \n",
      "Words: 0.092*\"perspective\" + 0.070*\"libjvmdylib\" + 0.056*\"available\" + 0.044*\"libsystembdylib\" + 0.040*\"thread\" + 0.035*\"breakpoint\" + 0.029*\"variable\" + 0.029*\"memory\" + 0.027*\"variables\" + 0.021*\"switch\"\n",
      "Topic: 6 \n",
      "Words: 0.096*\"eclipse\" + 0.034*\"reproduce\" + 0.029*\"create\" + 0.025*\"launch\" + 0.024*\"search\" + 0.023*\"update\" + 0.023*\"attachment\" + 0.020*\"problem\" + 0.020*\"reproducible\" + 0.019*\"identifier\"\n",
      "Topic: 7 \n",
      "Words: 0.118*\"project\" + 0.033*\"create\" + 0.033*\"change\" + 0.031*\"workspace\" + 0.026*\"select\" + 0.021*\"package\" + 0.021*\"delete\" + 0.020*\"resource\" + 0.020*\"folder\" + 0.017*\"explorer\"\n",
      "Topic: 8 \n",
      "Words: 0.034*\"plugin\" + 0.032*\"feature\" + 0.026*\"version\" + 0.021*\"eclipse\" + 0.017*\"support\" + 0.017*\"platform\" + 0.015*\"require\" + 0.014*\"plugins\" + 0.013*\"update\" + 0.012*\"include\"\n",
      "Topic: 9 \n",
      "Words: 0.144*\"message\" + 0.070*\"bundle\" + 0.057*\"exception\" + 0.034*\"resolve\" + 0.030*\"orgeclipseosgi\" + 0.028*\"arguments\" + 0.025*\"subentry\" + 0.023*\"orgeclipseui\" + 0.021*\"follow\" + 0.020*\"plugin\"\n"
     ]
    }
   ],
   "source": [
    "# Printing the topics and the propability distributions of words in those topics\n",
    "for idx, topic in lda_model.print_topics(-1):\n",
    "    print('Topic: {} \\nWords: {}'.format(idx, topic))"
   ]
  },
  {
   "cell_type": "code",
   "execution_count": 15,
   "metadata": {
    "ExecuteTime": {
     "end_time": "2021-04-21T07:28:55.801101Z",
     "start_time": "2021-04-21T07:26:11.038534Z"
    },
    "colab": {
     "base_uri": "https://localhost:8080/",
     "height": 183
    },
    "colab_type": "code",
    "id": "8thK3YFVy2x7",
    "outputId": "ecfc7752-0cea-4369-c13f-5fc1033d9b3f"
   },
   "outputs": [
    {
     "name": "stdout",
     "output_type": "stream",
     "text": [
      "\n",
      "Perplexity:  -6.395842296219169\n",
      "\n",
      "Coherence Score:  0.6235623994694964\n"
     ]
    }
   ],
   "source": [
    "#Let's evaluate the model using Perplexity and Coherence Bag of words- Title\n",
    "from gensim.utils import simple_preprocess\n",
    "from gensim.models import CoherenceModel\n",
    "# Compute Perplexity\n",
    "print('\\nPerplexity: ', lda_model.log_perplexity(bow_corpus))  # a measure of how good the model is. lower the better.\n",
    "\n",
    "# Compute Coherence Score\n",
    "coherence_model_lda = CoherenceModel(model=lda_model, texts=master_reports['Description'], dictionary=dictionary, coherence='c_v')\n",
    "coherence_lda = coherence_model_lda.get_coherence()\n",
    "print('\\nCoherence Score: ', coherence_lda)"
   ]
  },
  {
   "cell_type": "code",
   "execution_count": 16,
   "metadata": {
    "ExecuteTime": {
     "end_time": "2021-04-21T07:28:55.817058Z",
     "start_time": "2021-04-21T07:28:55.804094Z"
    },
    "colab": {},
    "colab_type": "code",
    "id": "KOMm2evz8aKz"
   },
   "outputs": [],
   "source": [
    "# pip install pyldavis"
   ]
  },
  {
   "cell_type": "code",
   "execution_count": 17,
   "metadata": {
    "ExecuteTime": {
     "end_time": "2021-04-21T07:28:57.506183Z",
     "start_time": "2021-04-21T07:28:55.820051Z"
    },
    "colab": {},
    "colab_type": "code",
    "id": "d5NDfA31HmoL"
   },
   "outputs": [
    {
     "name": "stderr",
     "output_type": "stream",
     "text": [
      "C:\\Users\\abdul\\anaconda3\\lib\\site-packages\\sklearn\\decomposition\\_lda.py:28: DeprecationWarning: `np.float` is a deprecated alias for the builtin `float`. To silence this warning, use `float` by itself. Doing this will not modify any behavior and is safe. If you specifically wanted the numpy scalar type, use `np.float64` here.\n",
      "Deprecated in NumPy 1.20; for more details and guidance: https://numpy.org/devdocs/release/1.20.0-notes.html#deprecations\n",
      "  EPS = np.finfo(np.float).eps\n"
     ]
    }
   ],
   "source": [
    "import pyLDAvis\n",
    "import pyLDAvis.gensim  # don't skip this\n",
    "import matplotlib.pyplot as plt\n",
    "%matplotlib inline"
   ]
  },
  {
   "cell_type": "code",
   "execution_count": 18,
   "metadata": {
    "ExecuteTime": {
     "end_time": "2021-04-21T07:30:26.223899Z",
     "start_time": "2021-04-21T07:28:57.509174Z"
    },
    "colab": {
     "base_uri": "https://localhost:8080/",
     "height": 860
    },
    "colab_type": "code",
    "id": "XpoueqtKUGTs",
    "outputId": "731b4d2e-a339-4978-e3c0-eb3cac2c1b6b",
    "scrolled": true
   },
   "outputs": [
    {
     "name": "stderr",
     "output_type": "stream",
     "text": [
      "C:\\Users\\abdul\\anaconda3\\lib\\site-packages\\ipykernel\\ipkernel.py:287: DeprecationWarning: `should_run_async` will not call `transform_cell` automatically in the future. Please pass the result to `transformed_cell` argument and any exception that happen during thetransform in `preprocessing_exc_tuple` in IPython 7.17 and above.\n",
      "  and should_run_async(code)\n"
     ]
    },
    {
     "data": {
      "text/html": [
       "\n",
       "<link rel=\"stylesheet\" type=\"text/css\" href=\"https://cdn.rawgit.com/bmabey/pyLDAvis/files/ldavis.v1.0.0.css\">\n",
       "\n",
       "\n",
       "<div id=\"ldavis_el1421613710945057281637772354\"></div>\n",
       "<script type=\"text/javascript\">\n",
       "\n",
       "var ldavis_el1421613710945057281637772354_data = {\"mdsDat\": {\"x\": [0.1710644657298882, 0.09184188587120573, 0.15928264775554615, 0.09432670030055632, 0.12826578402790018, 0.15594819193419185, 0.022380670453310783, -0.18931543360962358, -0.319357092684053, -0.3144378197789226], \"y\": [-0.07270640385100062, 0.08970538250106343, 0.034549737447610855, 0.1586722089459813, 0.014705087303370334, -0.07577257934658554, -0.25568337317036544, 0.26469930767720146, 0.04907092794159411, -0.20724029544886974], \"topics\": [1, 2, 3, 4, 5, 6, 7, 8, 9, 10], \"cluster\": [1, 1, 1, 1, 1, 1, 1, 1, 1, 1], \"Freq\": [14.508000311690633, 14.103855605446054, 14.003381758616495, 12.987576969880706, 12.287866046638428, 9.007590750285342, 7.5711852544162515, 6.809113941859312, 4.801345322078686, 3.9200840390880933]}, \"tinfo\": {\"Term\": [\"project\", \"message\", \"editor\", \"public\", \"import\", \"eclipse\", \"thread\", \"bundle\", \"display\", \"dialog\", \"perspective\", \"button\", \"exception\", \"return\", \"action\", \"method\", \"libjvmdylib\", \"select\", \"available\", \"plugin\", \"javathread\", \"daemon\", \"feature\", \"change\", \"workspace\", \"threadblocked\", \"search\", \"launch\", \"window\", \"attachment\", \"editor\", \"character\", \"editors\", \"cursor\", \"keyboard\", \"minimize\", \"highlight\", \"outline\", \"maximize\", \"assist\", \"colour\", \"arabic\", \"appearance\", \"hyperlink\", \"scheme\", \"whitespace\", \"contrast\", \"findreplace\", \"escape\", \"orientation\", \"newline\", \"hebrew\", \"keybindings\", \"underline\", \"margin\", \"ctrlspace\", \"proposals\", \"breadcrumb\", \"arrows\", \"unicode\", \"encode\", \"scroll\", \"detach\", \"direction\", \"position\", \"accessibility\", \"resize\", \"window\", \"vertical\", \"background\", \"middle\", \"visible\", \"double\", \"border\", \"windows\", \"control\", \"screen\", \"scrollbar\", \"selection\", \"layout\", \"restore\", \"active\", \"behavior\", \"select\", \"activate\", \"screenshot\", \"switch\", \"change\", \"expect\", \"appear\", \"reproduce\", \"happen\", \"problem\", \"content\", \"default\", \"eclipse\", \"widget\", \"example\", \"display\", \"create\", \"workbench\", \"attach\", \"doesnt\", \"search\", \"mozilla\", \"firefox\", \"mirror\", \"ubuntu\", \"splash\", \"attachment\", \"indigo\", \"vmargs\", \"xulrunner\", \"helios\", \"infocenter\", \"standalone\", \"maintenance\", \"compact\", \"android\", \"internet\", \"filedialog\", \"safari\", \"europa\", \"galileo\", \"ganymede\", \"google\", \"textlayout\", \"callisto\", \"launch\", \"tutorial\", \"online\", \"statemask\", \"uninstall\", \"browser\", \"configuration\", \"security\", \"authentication\", \"javascript\", \"console\", \"install\", \"network\", \"reproducible\", \"config\", \"instal\", \"identifier\", \"eclipse\", \"restart\", \"output\", \"program\", \"application\", \"installation\", \"reproduce\", \"update\", \"server\", \"information\", \"manager\", \"download\", \"result\", \"create\", \"problem\", \"attach\", \"windows\", \"version\", \"happen\", \"report\", \"command\", \"follow\", \"workspace\", \"window\", \"project\", \"delete\", \"folder\", \"repository\", \"synchronize\", \"commit\", \"branch\", \"history\", \"folders\", \"checkout\", \"repositories\", \"jvmdll\", \"workspaces\", \"builders\", \"autobuild\", \"activities\", \"destination\", \"deletion\", \"configs\", \"revisions\", \"unsaved\", \"cvsignore\", \"extssh\", \"pserver\", \"production\", \"relaunch\", \"entity\", \"favorites\", \"subversive\", \"dialogue\", \"incoming\", \"explorer\", \"resource\", \"synchronization\", \"builder\", \"revision\", \"rename\", \"refresh\", \"navigator\", \"workspace\", \"package\", \"resources\", \"export\", \"prompt\", \"module\", \"compare\", \"directory\", \"password\", \"location\", \"change\", \"create\", \"select\", \"operation\", \"source\", \"wizard\", \"choose\", \"dialog\", \"import\", \"eclipse\", \"update\", \"reproduce\", \"problem\", \"contain\", \"version\", \"dependency\", \"fragment\", \"equinox\", \"developer\", \"releng\", \"kepler\", \"cwinntdll\", \"baseline\", \"optional\", \"schema\", \"keyring\", \"backport\", \"featurexml\", \"corporation\", \"qualifier\", \"automate\", \"products\", \"manifestmf\", \"abouthtml\", \"artifacts\", \"hudson\", \"lucene\", \"capabilities\", \"orgeclipsejdt\", \"encodingutf\", \"migration\", \"promote\", \"community\", \"mainrun\", \"apache\", \"manifest\", \"failures\", \"feature\", \"plugins\", \"compile\", \"license\", \"support\", \"plugin\", \"script\", \"platform\", \"format\", \"stream\", \"development\", \"require\", \"include\", \"release\", \"version\", \"attribute\", \"library\", \"people\", \"classpath\", \"components\", \"provide\", \"source\", \"extension\", \"reference\", \"define\", \"update\", \"different\", \"eclipse\", \"current\", \"currently\", \"request\", \"change\", \"number\", \"available\", \"follow\", \"download\", \"remove\", \"contain\", \"property\", \"javadoc\", \"viewer\", \"methods\", \"clients\", \"toolitem\", \"subclass\", \"providers\", \"viewers\", \"comparator\", \"fileset\", \"iresource\", \"evaluate\", \"subclasses\", \"derive\", \"abstract\", \"observable\", \"databinding\", \"partition\", \"optimize\", \"adapter\", \"instanceof\", \"tostring\", \"workbenchaccess\", \"commitpatch\", \"concrete\", \"iadaptable\", \"messagebox\", \"adapters\", \"contract\", \"delegate\", \"object\", \"method\", \"interface\", \"schedule\", \"return\", \"implement\", \"implementation\", \"constructor\", \"override\", \"listen\", \"provider\", \"target\", \"listeners\", \"elements\", \"inherit\", \"parameter\", \"instance\", \"deprecate\", \"factory\", \"element\", \"listener\", \"handle\", \"events\", \"string\", \"document\", \"remove\", \"register\", \"change\", \"dispose\", \"create\", \"provide\", \"parent\", \"result\", \"currently\", \"follow\", \"problem\", \"instead\", \"content\", \"action\", \"disable\", \"toolbar\", \"breakpoints\", \"responseby\", \"category\", \"enablement\", \"translate\", \"contributions\", \"tester\", \"mnemonic\", \"bookmark\", \"sentence\", \"wizards\", \"tooltips\", \"contexts\", \"keybinding\", \"translation\", \"submenu\", \"artifact\", \"assistance\", \"categories\", \"iterate\", \"anchor\", \"tabitem\", \"mnemonics\", \"cheatsheet\", \"bookmarks\", \"visiblewhen\", \"externalize\", \"filter\", \"tooltip\", \"contribution\", \"enable\", \"preference\", \"context\", \"button\", \"dialog\", \"description\", \"progress\", \"annotation\", \"command\", \"dialogs\", \"extension\", \"status\", \"preferences\", \"wizard\", \"cancel\", \"select\", \"toggle\", \"section\", \"contribute\", \"appear\", \"default\", \"workbench\", \"screenshot\", \"selection\", \"create\", \"string\", \"problem\", \"display\", \"content\", \"static\", \"snippet\", \"libclientdylib\", \"composite\", \"shellopen\", \"displaysleep\", \"displaydispose\", \"shellsetlayout\", \"treeitem\", \"columns\", \"canvas\", \"libjvmso\", \"handleevent\", \"settext\", \"tableitem\", \"tablecolumn\", \"jvmmonitorwait\", \"rectangle\", \"griddata\", \"shellsetsize\", \"menuitem\", \"itemsettext\", \"gridlayout\", \"ccombo\", \"widgetselected\", \"shellpack\", \"pthreadcondwait\", \"datetime\", \"sigsegv\", \"shellsettext\", \"public\", \"import\", \"column\", \"private\", \"display\", \"widget\", \"button\", \"string\", \"control\", \"return\", \"create\", \"follow\", \"reproduce\", \"dispose\", \"listener\", \"example\", \"message\", \"bundle\", \"resolve\", \"orgeclipseosgi\", \"subentry\", \"orgeclipseui\", \"constants\", \"commandline\", \"bootloader\", \"eclipsebuildid\", \"javaversion\", \"microsystems\", \"javavendorsun\", \"unhandled\", \"nlenus\", \"assertion\", \"carbon\", \"useragent\", \"orgeclipsejface\", \"showlocation\", \"oslinux\", \"unused\", \"orgeclipseuiide\", \"orgeclipsejdtui\", \"gtkcritical\", \"orgeclipsepdeui\", \"javafullversion\", \"osmacosx\", \"javavendorapple\", \"prerequisite\", \"javalangclass\", \"arguments\", \"consolelog\", \"exception\", \"session\", \"invalid\", \"satisfy\", \"unable\", \"invoke\", \"execute\", \"problems\", \"follow\", \"plugin\", \"framework\", \"require\", \"dispose\", \"application\", \"javathread\", \"daemon\", \"threadblocked\", \"cwindowsdll\", \"worker\", \"symbol\", \"monitor\", \"objectwait\", \"hotspot\", \"cprogram\", \"dynamic\", \"dispatcher\", \"unexpected\", \"usrlibso\", \"signal\", \"threadinnative\", \"libgobjectso\", \"libgtkso\", \"screenshots\", \"finalizer\", \"xxmaxpermsize\", \"milestone\", \"family\", \"timedwaiting\", \"liblibpthreadso\", \"tenure\", \"official\", \"detector\", \"elapse\", \"vmthread\", \"virtual\", \"thread\", \"native\", \"runnable\", \"condition\", \"detect\", \"problematic\", \"client\", \"unknown\", \"handler\", \"exception\", \"reference\", \"report\", \"memory\", \"current\", \"perspective\", \"libjvmdylib\", \"libsystembdylib\", \"breakpoint\", \"variable\", \"perspectives\", \"expression\", \"pthreadbody\", \"marker\", \"machmsgtrap\", \"generation\", \"machmsg\", \"markers\", \"jvmraisesignal\", \"expressions\", \"activity\", \"jvmstartthread\", \"decoration\", \"decorator\", \"reassign\", \"comappleappkit\", \"decorations\", \"methodinvoke\", \"resume\", \"mainmain\", \"mainbasicrun\", \"saferunnerrun\", \"workbenchrun\", \"workbenchrunui\", \"decorators\", \"variables\", \"collapse\", \"profile\", \"snapshot\", \"available\", \"memory\", \"debugger\", \"thread\", \"suspend\", \"expand\", \"switch\", \"render\", \"native\", \"method\"], \"Freq\": [22056.0, 13101.0, 12484.0, 9836.0, 10649.0, 27442.0, 7700.0, 6323.0, 10093.0, 10739.0, 4802.0, 9234.0, 6334.0, 7850.0, 5324.0, 7241.0, 3681.0, 14237.0, 4106.0, 8354.0, 3582.0, 3510.0, 6417.0, 15931.0, 7670.0, 3013.0, 4525.0, 4713.0, 6603.0, 4385.0, 12483.27539454233, 2890.2622014798612, 2556.5199677034852, 1838.6115993035926, 1268.4855622980797, 890.5726598332253, 877.6031633919497, 791.0412142102239, 751.3739543161397, 701.5396374913382, 325.40668657596353, 308.56838863417573, 303.97461781831754, 302.30467808649047, 285.26463172121976, 276.849651571765, 260.6226380579701, 259.4397518752505, 245.02175899015938, 234.47955319826224, 227.71686852557062, 217.6650738741022, 200.91188749218205, 186.22632387320996, 182.84095918752965, 176.10834636462448, 176.00719047575876, 174.22223634055217, 162.59924668993872, 162.22374854912476, 965.7340316216566, 2430.089573558441, 396.4211626726391, 306.74152094287865, 1116.4129953569486, 429.6470300890523, 1186.1892413495293, 5271.774955032895, 596.8004099899227, 1718.5371029954624, 308.6652630307526, 1561.70360676585, 814.7909674146546, 456.78069452520214, 2978.1238314471116, 2132.9967335009537, 1572.2762787555075, 535.0186565356955, 1986.3622025866953, 889.7218597129281, 903.4432763367992, 1228.559700269751, 1221.802153387806, 4135.459330100545, 986.0342540914996, 1063.684660154948, 1603.6395167529272, 4012.9030104517788, 1811.6796607567558, 2030.011430582736, 2839.438274047925, 1859.8894442021615, 2549.3362545996138, 1710.57677225874, 1593.0562086350574, 2553.783418105835, 1271.3405514929407, 1417.957595891325, 1547.228917909187, 1659.1107111201616, 1314.0562338966604, 1376.5530416314596, 1273.2709186267773, 4524.109104437826, 823.6378231897061, 789.0269579448906, 698.8332258748626, 572.4327003888131, 439.5752946989718, 4375.402913133431, 357.8590054912675, 350.7272535039921, 335.00710252158734, 325.49179811850667, 322.33645981624994, 285.19586046279363, 261.6097849689577, 228.31538740448912, 221.09246080226066, 220.35614144670998, 213.10892059941114, 188.6082949313657, 156.20469000388493, 149.02174265977501, 140.01652977740113, 138.67539544245625, 138.01716160228284, 133.81535252724686, 4676.715343567623, 113.74458200383403, 109.34340239283273, 108.92010419851803, 107.10517731859366, 2710.865165075479, 2711.8630473581175, 170.57380493919706, 131.49478113450502, 206.6210646854935, 2006.3620260481398, 2682.8513812684055, 380.2930868773341, 3683.340180097552, 587.539470972687, 2353.7682409165004, 3494.281620140779, 17979.35156325506, 1387.8976678969516, 960.5801670822203, 1152.8446911305716, 3350.4036088305343, 496.1812362160482, 6328.030362748675, 4376.166308852288, 1419.3023937986463, 2823.048584432838, 890.5073274767423, 1223.830766523691, 2645.902572821704, 5484.880120449761, 3742.549264213108, 2243.0869025293723, 2184.39288269704, 2674.620342074749, 1740.9425135174642, 1307.4080518605379, 1344.1935258696876, 1646.0502875946897, 1486.6854727307955, 1222.9114845578356, 22055.74313773139, 3946.217142545864, 3716.0973791115257, 2635.8636656636863, 1958.6431735927838, 1905.2637280954225, 1809.382465365971, 1974.013909275047, 793.6007091253863, 651.6325567966386, 542.1524752040735, 541.3987373815364, 321.11706433833194, 285.3487746233164, 224.58429059323208, 202.79225416259413, 196.59746191782358, 189.21150986895398, 176.00031548221685, 157.2845881762453, 141.68372255136788, 121.57512237595967, 110.59589806494853, 110.57447393627076, 108.76754987335778, 105.43360744494714, 103.54605470689866, 98.97862622626012, 97.41878653063583, 89.46710154477057, 336.92900656905033, 3134.8376691756034, 3766.0571421649965, 343.73287482941817, 985.7456063428223, 602.8923812997357, 1026.7347278375714, 1875.9339436828773, 1398.444447915938, 5752.182535514078, 3971.502225467124, 1666.798081145144, 1257.766441390896, 904.8086847589854, 410.22725838715786, 2146.051098082837, 2135.315108321068, 588.6947743528672, 1953.068637061215, 6103.891472072727, 6173.974342808031, 4868.30050463984, 987.6094402866341, 1513.4592628365388, 1089.978059682018, 1019.629747254955, 1888.7838968095691, 1781.764871216891, 2348.81618601526, 1405.164968703115, 1437.3066428166358, 1308.7651768085084, 1133.4850056800542, 1145.221513126267, 888.5332128604949, 791.7796349083659, 756.1914349256504, 578.7284855800352, 540.4218243542347, 523.9499180681067, 503.01151298651695, 461.30621037371367, 360.85220875351524, 323.79009684792936, 313.6766786715178, 305.202325595456, 263.76293835892426, 261.98924124361184, 254.36310617251627, 250.47550083425847, 249.162465495045, 224.43049979407, 220.3437705991003, 209.28542691401708, 205.1374940131145, 201.2327016091168, 193.18651223062463, 192.81446874067052, 185.061024312903, 184.8098147710498, 181.40411296971732, 173.79740412433478, 172.95344254057886, 163.03139185142257, 604.254344440862, 405.47269592524333, 5478.144977478409, 2381.904605909087, 982.4413228020526, 450.90141898421865, 2994.1498465979325, 5836.460278500176, 1129.5533261338765, 2964.052308940743, 664.5667033235651, 944.5532836281702, 834.2011862960057, 2515.54219177218, 2114.257289829884, 2003.9437625325725, 4508.04598513884, 1181.1727818580928, 602.4656389019458, 534.6915113937441, 628.4448570531931, 555.0104155494275, 1658.957394099118, 1753.7202579720497, 1616.3413787282238, 1376.5120951083136, 1161.4388027707123, 2269.421957948771, 1432.6697430923575, 3719.991102069062, 1334.398942618598, 1339.8041537581214, 884.8466276045119, 2100.4760065817695, 958.0724036059142, 1034.5583158377817, 1203.3453070193016, 909.8280680026762, 1006.4766676800277, 905.9129673937571, 2436.3622226074845, 1561.552756310093, 1423.7627123518698, 1419.8844768204108, 792.061814521935, 341.30873671081304, 303.1836965128731, 281.66702820616365, 213.7033553287457, 209.84808002043792, 205.69958949328267, 202.78114091264058, 194.12536581425582, 189.05205353064198, 186.66783571161938, 183.7129714154555, 170.63860348065757, 143.54569284855538, 139.9267188892387, 120.75685068127912, 357.71214614450247, 118.68683292346046, 108.71920457636959, 108.79333384213822, 106.0082664082068, 105.54204791192373, 102.38825227252958, 100.90171619556722, 100.19203917350023, 99.29207667776866, 421.4672463813152, 2854.8617026886036, 6713.697200676967, 1009.6557157262234, 516.9622689982599, 6734.856487289156, 1991.5701378603312, 1518.7829946606969, 564.9523799713011, 1184.3321311521124, 362.91047044943053, 1084.5908605159252, 2656.845714655586, 558.8508390409263, 1044.533726128415, 288.9089078005818, 582.8838752789607, 1460.529606681608, 566.3259853413754, 282.0894924949867, 1461.895844931037, 1160.8795705806813, 1217.3456111136577, 936.0719222582217, 2026.3191282222047, 1129.887888091176, 2057.069718825719, 801.3133911881621, 3599.346728425831, 1213.9048222277747, 3386.9409597067174, 1261.502147338427, 891.9222569231736, 1552.1936883913404, 1239.2056521341785, 1666.7895935748645, 1616.8171545740702, 1160.1634711853055, 1180.8018680134169, 5323.76978159208, 2689.1924767374153, 2557.0075896509056, 999.5271741511367, 824.8104124843624, 799.7044753361561, 459.24386984662686, 438.32353338316955, 308.6863436222139, 300.82116163168035, 298.49032175950884, 289.6000615822368, 282.8401810453899, 297.0733052050888, 272.84800518886465, 269.7345757352469, 264.02151509369054, 262.8085963799123, 258.0589144819062, 253.14111908971645, 250.01479011532328, 243.09991945792325, 222.4406373959284, 184.41101735476204, 179.28082757548822, 174.99533255414877, 164.29883167064324, 162.84269682979362, 153.9652802100832, 141.88223474205876, 2707.020565823669, 984.7519903028016, 546.0616180533292, 2634.6274478942078, 2296.4990533755877, 3186.1825269382357, 6233.706566073187, 7057.844132838318, 1598.3577376647402, 1421.9916841247677, 422.15732789321345, 2373.9483357433005, 659.6176384276616, 2091.4214087870228, 944.2741335577648, 1630.1621916858876, 1254.253143473388, 870.2867355942474, 4153.830144435337, 495.08243213283123, 792.6623443306289, 638.8101797663909, 1473.6223378168343, 1274.2126475195219, 1089.6231354944207, 753.6604613857254, 926.3373079471437, 1399.6316939869178, 911.6171359379507, 949.2417641918222, 883.9187588747761, 814.6126837436371, 3167.6340994160073, 2360.181826669984, 2154.1556208158686, 1710.192719372672, 1404.6802990489928, 1379.6794588018513, 1146.4099705636263, 926.0627479994906, 925.8859755219204, 824.3822593059522, 677.7027324177775, 662.8485759363944, 653.0654564279912, 634.1375363363121, 603.4303036466481, 549.0279386482129, 549.0150499683688, 541.5517517149765, 512.0005489371715, 464.59927719888606, 422.8725525153331, 393.6787283693376, 374.27517365633025, 368.37027672861706, 362.95477332316057, 337.52971205713493, 292.1963208101919, 248.504778035072, 245.00620704205352, 235.27508912331345, 9277.751925687959, 8867.337975645169, 1671.5772937801055, 1634.885574212742, 6547.518602193339, 1229.9799825170599, 1863.6270904736093, 1212.6681335375156, 922.149010990763, 1115.1360122726408, 1001.6697196022179, 857.1984375143451, 683.0547802425415, 596.7402321059487, 571.6169964392657, 583.5863935454627, 13100.691352687249, 6322.831073899643, 3106.991213108575, 2688.461488841654, 2234.0052535098407, 2101.7540315078904, 1709.0103063089023, 1467.0765340926519, 1454.3436140625593, 1262.8555300690841, 1242.4679838260201, 1061.6186719766047, 977.3088077348758, 944.3234614234983, 820.0356024789355, 701.7557168380489, 684.3783759801923, 654.565725903488, 560.7040987280666, 538.2799384587131, 403.306688021975, 312.87596142897826, 282.64974443106155, 221.0482831084023, 176.0148600672644, 160.66304950683502, 156.19609525379332, 155.0846024248036, 132.44940711182616, 124.0392470987941, 493.92573224485886, 2504.648590955147, 393.9143700275265, 5179.805882382906, 1712.7709901292885, 1207.5293629763635, 628.631957885495, 1442.056243011007, 1043.2113904207288, 1113.043958770124, 1595.2215306812877, 1940.0859162365136, 1789.8590858439957, 895.4663845985716, 1057.901476985495, 799.0424277534578, 756.3517961723527, 3581.91636088903, 3509.6872944241277, 3012.5424958260664, 1690.5562294513554, 1597.0406521178434, 1304.9877947729342, 1294.5708316409791, 1150.3027770858878, 1042.5366910945054, 942.0111235312249, 900.3963091939634, 825.1858878824937, 698.8025020974118, 566.9039797413224, 564.5969676032867, 509.7166395756732, 406.3588386026098, 346.8492728696872, 314.7434782414141, 304.1565423255426, 268.04719955718446, 258.00278646003665, 255.74920030585403, 254.17983067408113, 242.11367215223444, 237.14360888661702, 222.82134355417477, 198.17470819635457, 167.8673795460246, 167.68887530963363, 728.4719704391274, 5615.587204974203, 1417.7485390738686, 1212.2289513078656, 671.063588095728, 837.9690463752451, 475.1690000639622, 856.1865611127762, 458.7643294865167, 596.2636310711468, 950.6683403541599, 622.5990913105105, 640.2029977354476, 531.4582407902692, 481.69905134665584, 4801.284413236153, 3680.7189542931546, 2283.9311535997585, 1832.1428559715087, 1531.8585820799324, 803.1012649725586, 782.6356511424012, 780.1948834712508, 772.1710570284089, 739.3445146425422, 728.3792290044069, 648.6412177088745, 613.4492135275578, 570.7171720091281, 466.361981692009, 420.3411776834966, 356.47821489425326, 289.43608742885095, 277.9588095142036, 246.95979849797962, 245.3866558319887, 224.0435775484885, 223.61607300897683, 208.00654347322032, 191.01736012318773, 184.8707859249052, 182.66053898904093, 169.30638633341547, 153.36969514556188, 139.74052504219722, 1407.8446126836925, 482.30398228507045, 441.94008161976444, 369.25157220129245, 2914.257115297798, 1511.1728471292768, 484.2719206318843, 2083.6989675898203, 313.45997695106416, 801.4453150693809, 1112.1809826271392, 544.9246660310237, 550.987958068259, 394.50215352214894], \"Total\": [22056.0, 13101.0, 12484.0, 9836.0, 10649.0, 27442.0, 7700.0, 6323.0, 10093.0, 10739.0, 4802.0, 9234.0, 6334.0, 7850.0, 5324.0, 7241.0, 3681.0, 14237.0, 4106.0, 8354.0, 3582.0, 3510.0, 6417.0, 15931.0, 7670.0, 3013.0, 4525.0, 4713.0, 6603.0, 4385.0, 12484.187099974744, 2891.1738558751326, 2557.431626116652, 1839.5232383792331, 1269.3973183694418, 891.4843258043286, 878.5148173521384, 791.952902862896, 752.2855695961285, 702.4513450745276, 326.31830192443874, 309.4800427891447, 304.8862795476927, 303.21635722802847, 286.1764576812407, 277.76142776074454, 261.53430390025704, 260.35140577759444, 245.9334982266277, 235.39118175258145, 228.62858374984555, 218.57679303274864, 201.8236043788375, 187.13796822771883, 183.75259513311994, 177.0201698393495, 176.91885650588685, 175.13432342038493, 163.51089490498708, 163.13552166205878, 978.3479645738013, 2568.9427374887023, 404.2024186457293, 312.40085295557066, 1192.2105846270053, 447.9194738296078, 1326.6677533237346, 6603.913619463809, 659.654629950496, 2143.5588481138366, 322.6011369199462, 2200.6965037469927, 1033.721584002202, 517.7906888818053, 5884.183500501199, 3916.2776702668225, 2648.436889440241, 655.0724125742973, 3896.147393978952, 1351.6957979574483, 1388.9404842148774, 2153.605998065539, 2207.978759758201, 14237.451150675673, 1633.5449533339126, 1842.2454336525757, 3547.564445414092, 15931.107104504104, 4643.117206169683, 6046.865754216237, 11824.48742725821, 5499.314654018235, 11220.723968510223, 5775.651411191128, 5014.4295881580965, 27442.297937871943, 3026.967668513497, 4652.841544694872, 10093.504114427973, 19400.052739501945, 3860.4449723900934, 5546.0288824767385, 4398.862971777742, 4525.039177685888, 824.567935858098, 789.9570922498782, 699.7633043041064, 573.3706074111, 440.5053453653553, 4385.986660286633, 358.7897993114834, 351.65766391752, 335.93725239529266, 326.4224567502255, 323.2664897002476, 286.1259295724467, 262.5402653382171, 229.25026741706577, 222.02289218822625, 221.2861835033878, 214.03907378018695, 189.53836719644502, 157.13676619131834, 149.95266644143223, 140.9470782151675, 139.6054853206702, 138.94748259724238, 134.74564939972888, 4713.547023154531, 114.6746795972155, 110.27348713338374, 109.85026682128986, 108.0352533025659, 2738.076811318271, 2787.504877351229, 172.5428140726038, 132.74744460997852, 209.8196279452593, 2222.3261142348783, 3036.990235144558, 406.27231343440457, 4554.572366333232, 655.3964258119983, 2916.1141936989125, 4485.537489039778, 27442.297937871943, 1786.659437172974, 1195.396836196763, 1483.7747301209074, 5154.192424004883, 567.8468783062906, 11824.48742725821, 8815.254510397019, 2237.8461442787, 6675.766005871016, 1340.6838525420362, 2134.4925875159906, 6560.38274474602, 19400.052739501945, 11220.723968510223, 5546.0288824767385, 5884.183500501199, 9039.652951872753, 5499.314654018235, 3308.7948248053694, 4101.778626488403, 9542.085736695271, 7670.35344195338, 6603.913619463809, 22056.642119211112, 3947.121441385682, 3716.9963433080848, 2636.7639157728786, 1959.5421486737464, 1906.1626824880104, 1810.2814123654332, 1975.5242732514828, 794.4996527980205, 652.5314814658732, 543.0514862183841, 542.299296925195, 322.0160858145418, 286.2477262870808, 225.48324195012478, 203.6914393681729, 197.4965969973331, 190.11043596354511, 176.8994209651775, 158.1835331211384, 142.58276426125647, 122.4740036034575, 111.4948220823332, 111.47339754755562, 109.66710278156769, 106.33271048178739, 104.44512584163549, 99.87763024611226, 98.31806823011866, 90.36615896126801, 344.05858740746936, 3282.1574574464253, 4053.6111505683048, 358.6354764143965, 1074.3707403075546, 645.6182439184125, 1135.7605696670867, 2180.524617130323, 1613.223052679829, 7670.35344195338, 5280.656822132324, 2062.1852031459675, 1540.639259398062, 1096.5051068083433, 452.8916600098216, 3103.8920750562697, 3221.0013079808014, 703.1182100677329, 3228.1264769346258, 15931.107104504104, 19400.052739501945, 14237.451150675673, 1594.9596673671026, 4128.706054684378, 2345.02289339768, 2029.8604544388072, 10739.724865074159, 10649.89879561248, 27442.297937871943, 8815.254510397019, 11824.48742725821, 11220.723968510223, 4449.763115297193, 9039.652951872753, 889.4502077454597, 792.6965409002771, 757.1084363641753, 579.6454397406774, 541.3387300063422, 524.867938812907, 503.92842628084753, 462.2231366100461, 361.7691513763405, 324.70700627639536, 314.59424289273903, 306.11973218413306, 264.6798042435217, 262.9072159251962, 255.280013078121, 251.39248123911796, 250.07939233741232, 225.347413501169, 221.26061073795407, 210.2024677585939, 206.05463197985694, 202.14958475148475, 194.10346940189987, 193.7323797701503, 185.97800558377347, 185.72673988218568, 182.32112219013104, 174.71434078539903, 173.87288634386357, 163.94829051792166, 613.4453306138413, 411.7127439786779, 6417.053779145296, 2799.4187771655265, 1099.188205546804, 482.79456227055715, 3874.4708799517907, 8354.461625728049, 1368.356925738946, 4234.871400976945, 790.6736316694385, 1191.9161711826873, 1037.580843060731, 3930.351208539625, 3268.183131620767, 3126.977397423225, 9039.652951872753, 1699.5839173401932, 740.5341979062566, 637.8156304307245, 795.5534243012554, 676.7551416819974, 3436.222588106708, 4128.706054684378, 3788.7927888131917, 2953.40041183177, 2358.520014556541, 8815.254510397019, 3991.415058983071, 27442.297937871943, 3817.776767464923, 3941.565907917772, 1635.5497501724153, 15931.107104504104, 2493.1070637297307, 4106.271164435057, 9542.085736695271, 2134.4925875159906, 5113.293488439448, 4449.763115297193, 2437.279333363281, 1562.469826046307, 1424.6798259002242, 1420.8015288682784, 792.9788686900109, 342.2258799391224, 304.1007218811669, 282.58406526007883, 214.6204161894464, 210.76542664624648, 206.61658839713039, 203.69816431627137, 195.04263521876746, 189.96906402196012, 187.5849026595085, 184.63002262240033, 171.5556587040758, 144.4627786477199, 140.84374654297537, 121.67393051662265, 360.4715834359547, 119.6039559275227, 109.63625094808842, 109.71107005928046, 106.92549068140218, 106.45919862418232, 103.30524731610718, 101.81895269561521, 101.11032728410403, 100.20918120670784, 426.41459389276224, 2989.3694121024914, 7241.446415323795, 1075.9333061926163, 543.231460246565, 7850.806561201927, 2209.823838885616, 1671.462695091949, 602.4286762578815, 1322.0675176422383, 383.8362067522967, 1230.412869536193, 3290.3055603190837, 620.3309920086399, 1243.4820391240244, 304.5722097715941, 673.8404923723461, 1926.8281096216435, 667.9181202621238, 297.76903205809, 2082.182473105236, 1784.6811407951998, 1921.922974527907, 1422.3569600847627, 4151.334934102226, 1851.8121097456858, 5113.293488439448, 1235.8326580774974, 15931.107104504104, 2610.395317686202, 19400.052739501945, 3436.222588106708, 1757.0345299236417, 6560.38274474602, 3941.565907917772, 9542.085736695271, 11220.723968510223, 3999.2246109948514, 5775.651411191128, 5324.675829354182, 2690.138733250166, 2557.913548927775, 1000.4331761244362, 825.7163336147265, 800.610439564892, 460.14981648411725, 439.22948760481756, 309.59229680998385, 301.72709845794, 299.39621914035644, 290.5060279539467, 283.7461372758379, 298.0271890732789, 273.75396469788734, 270.64052531551846, 264.9274688047095, 263.71454427177025, 258.96488382768166, 254.0478619545885, 250.92104490065952, 244.00585976133704, 223.34674948852248, 185.317207965436, 180.18698146478425, 175.90123101081923, 165.20475717209905, 163.74860134478297, 154.87129981158185, 142.78814104810195, 2729.9666849643695, 1011.129855864935, 576.0951096442146, 3127.4314985906717, 2845.0645469436326, 4063.7277563076236, 9234.667109415339, 10739.724865074159, 2048.2359709058082, 1998.631444805927, 475.6953113456836, 4101.778626488403, 827.8802538001728, 3788.7927888131917, 1477.0943449288295, 3121.4937702632583, 2345.02289339768, 1423.1771643129064, 14237.451150675673, 642.0752268553475, 1325.6369637967375, 1027.5650631251854, 6046.865754216237, 5014.4295881580965, 3860.4449723900934, 1842.2454336525757, 3896.147393978952, 19400.052739501945, 4151.334934102226, 11220.723968510223, 10093.504114427973, 5775.651411191128, 3168.5442868000187, 2361.092072963896, 2155.0659195936237, 1711.1029117768712, 1405.590438240797, 1380.5896096526233, 1147.3201104265088, 926.9728859269625, 926.796134306895, 825.2925821151335, 678.6129034614744, 663.7590757897193, 653.9756105647627, 635.0476917365272, 604.3404477183309, 549.9380787393951, 549.9265295575487, 542.461929253521, 512.9106967769743, 465.5094141253209, 423.7827228520537, 394.58886527647405, 375.18531739887203, 369.28044335095285, 363.8649420059252, 338.43984873284876, 293.107783409593, 249.41631047511154, 245.91766473270764, 236.18522899577593, 9836.382406021, 10649.89879561248, 1939.0136237368401, 1932.7726408108288, 10093.504114427973, 3026.967668513497, 9234.667109415339, 4151.334934102226, 3916.2776702668225, 7850.806561201927, 19400.052739501945, 9542.085736695271, 11824.48742725821, 2610.395317686202, 1784.6811407951998, 4652.841544694872, 13101.598357913297, 6323.738184200005, 3107.898240383554, 2689.3684159419167, 2234.9121817057603, 2102.660978219714, 1709.9172735421107, 1467.9835066435776, 1455.250543756204, 1263.7624733023365, 1243.3749167137441, 1062.5256273572513, 978.2157365232252, 945.2304115750051, 820.9425313606791, 702.6627173657878, 685.2860239131044, 655.4755612994452, 561.6110704615744, 539.18691718659, 404.21365931135483, 313.78305878690963, 283.55676185021804, 221.955257252863, 176.921794264688, 161.57002247043343, 157.10302433623454, 155.99155502162318, 133.35633936723607, 124.94622901372118, 503.6445928166113, 2637.0874041682646, 405.5538246236623, 6334.985890483267, 1977.8726730916121, 1485.9284774458208, 736.3581410112669, 1998.0768652286843, 2032.0696441287641, 2323.305064981085, 4423.431994536448, 9542.085736695271, 8354.461625728049, 1818.1276302542408, 3930.351208539625, 2610.395317686202, 5154.192424004883, 3582.828469040682, 3510.59939148925, 3013.4546039896104, 1691.468310377562, 1597.952761710399, 1305.899968821421, 1295.5010896367276, 1151.2148629176022, 1043.4488428533468, 942.9232392073893, 901.3086227931906, 826.0979860152562, 699.7146757230415, 567.8160625703765, 565.5090838456794, 510.62874926265647, 407.27092259776725, 347.76135979951135, 315.65590421209976, 305.0686376058583, 268.9595718223814, 258.9151760698782, 256.6613634658952, 255.09191916880724, 243.02577580399446, 238.05570597949105, 223.7337745282042, 199.0868299180936, 168.77950232131477, 168.60098453113466, 783.6913854770057, 7700.094244071588, 2002.854768842752, 1690.0446152852767, 845.6814914643915, 1158.8401676407223, 589.4672342976013, 1612.1016624120764, 695.2752092693676, 1431.3134955493763, 6334.985890483267, 2953.40041183177, 3308.7948248053694, 2043.4392138366834, 3817.776767464923, 4802.193542404048, 3681.6280252431507, 2284.840234250939, 1833.0519878449754, 1532.7677477436293, 804.0103784007905, 783.5448478336676, 781.1039554953811, 773.0801809028352, 740.2535876642391, 729.2889136895521, 649.5502921035555, 614.3583495548714, 571.6263047556391, 467.2711329694738, 421.25035581326216, 357.3872885336275, 290.3452269249708, 278.8679103194377, 247.869189656072, 246.29581899129985, 224.9527002174637, 224.52515206186146, 208.91570477793087, 191.92644093248987, 185.77985897438026, 183.5696762482073, 170.21546573143982, 154.27877080617625, 140.64961576358382, 1457.2333448863321, 507.8897225460866, 464.0441406349331, 394.8972121269574, 4106.271164435057, 2043.4392138366834, 575.1284441639909, 7700.094244071588, 393.46728601160936, 1956.8222040026626, 3547.564445414092, 1248.0780146064835, 2002.854768842752, 7241.446415323795], \"Category\": [\"Default\", \"Default\", \"Default\", \"Default\", \"Default\", \"Default\", \"Default\", \"Default\", \"Default\", \"Default\", \"Default\", \"Default\", \"Default\", \"Default\", \"Default\", \"Default\", \"Default\", \"Default\", \"Default\", \"Default\", \"Default\", \"Default\", \"Default\", \"Default\", \"Default\", \"Default\", \"Default\", \"Default\", \"Default\", \"Default\", \"Topic1\", \"Topic1\", \"Topic1\", \"Topic1\", \"Topic1\", \"Topic1\", \"Topic1\", \"Topic1\", \"Topic1\", \"Topic1\", \"Topic1\", \"Topic1\", \"Topic1\", \"Topic1\", \"Topic1\", \"Topic1\", \"Topic1\", \"Topic1\", \"Topic1\", \"Topic1\", \"Topic1\", \"Topic1\", \"Topic1\", \"Topic1\", \"Topic1\", \"Topic1\", \"Topic1\", \"Topic1\", \"Topic1\", \"Topic1\", \"Topic1\", \"Topic1\", \"Topic1\", \"Topic1\", \"Topic1\", \"Topic1\", \"Topic1\", \"Topic1\", \"Topic1\", \"Topic1\", \"Topic1\", \"Topic1\", \"Topic1\", \"Topic1\", \"Topic1\", \"Topic1\", \"Topic1\", \"Topic1\", \"Topic1\", \"Topic1\", \"Topic1\", \"Topic1\", \"Topic1\", \"Topic1\", \"Topic1\", \"Topic1\", \"Topic1\", \"Topic1\", \"Topic1\", \"Topic1\", \"Topic1\", \"Topic1\", \"Topic1\", \"Topic1\", \"Topic1\", \"Topic1\", \"Topic1\", \"Topic1\", \"Topic1\", \"Topic1\", \"Topic1\", \"Topic1\", \"Topic1\", \"Topic2\", \"Topic2\", \"Topic2\", \"Topic2\", \"Topic2\", \"Topic2\", \"Topic2\", \"Topic2\", \"Topic2\", \"Topic2\", \"Topic2\", \"Topic2\", \"Topic2\", \"Topic2\", \"Topic2\", \"Topic2\", \"Topic2\", \"Topic2\", \"Topic2\", \"Topic2\", \"Topic2\", \"Topic2\", \"Topic2\", \"Topic2\", \"Topic2\", \"Topic2\", \"Topic2\", \"Topic2\", \"Topic2\", \"Topic2\", \"Topic2\", \"Topic2\", \"Topic2\", \"Topic2\", \"Topic2\", \"Topic2\", \"Topic2\", \"Topic2\", \"Topic2\", \"Topic2\", \"Topic2\", \"Topic2\", \"Topic2\", \"Topic2\", \"Topic2\", \"Topic2\", \"Topic2\", \"Topic2\", \"Topic2\", \"Topic2\", \"Topic2\", \"Topic2\", \"Topic2\", \"Topic2\", \"Topic2\", \"Topic2\", \"Topic2\", \"Topic2\", \"Topic2\", \"Topic2\", \"Topic2\", \"Topic2\", \"Topic2\", \"Topic2\", \"Topic2\", \"Topic2\", \"Topic3\", \"Topic3\", \"Topic3\", \"Topic3\", \"Topic3\", \"Topic3\", \"Topic3\", \"Topic3\", \"Topic3\", \"Topic3\", \"Topic3\", \"Topic3\", \"Topic3\", \"Topic3\", \"Topic3\", \"Topic3\", \"Topic3\", \"Topic3\", \"Topic3\", \"Topic3\", \"Topic3\", \"Topic3\", \"Topic3\", \"Topic3\", \"Topic3\", \"Topic3\", \"Topic3\", \"Topic3\", \"Topic3\", \"Topic3\", \"Topic3\", \"Topic3\", \"Topic3\", \"Topic3\", \"Topic3\", \"Topic3\", \"Topic3\", \"Topic3\", \"Topic3\", \"Topic3\", \"Topic3\", \"Topic3\", \"Topic3\", \"Topic3\", \"Topic3\", \"Topic3\", \"Topic3\", \"Topic3\", \"Topic3\", \"Topic3\", \"Topic3\", \"Topic3\", \"Topic3\", \"Topic3\", \"Topic3\", \"Topic3\", \"Topic3\", \"Topic3\", \"Topic3\", \"Topic3\", \"Topic3\", \"Topic3\", \"Topic3\", \"Topic3\", \"Topic4\", \"Topic4\", \"Topic4\", \"Topic4\", \"Topic4\", \"Topic4\", \"Topic4\", \"Topic4\", \"Topic4\", \"Topic4\", \"Topic4\", \"Topic4\", \"Topic4\", \"Topic4\", \"Topic4\", \"Topic4\", \"Topic4\", \"Topic4\", \"Topic4\", \"Topic4\", \"Topic4\", \"Topic4\", \"Topic4\", \"Topic4\", \"Topic4\", \"Topic4\", \"Topic4\", \"Topic4\", \"Topic4\", \"Topic4\", \"Topic4\", \"Topic4\", \"Topic4\", \"Topic4\", \"Topic4\", \"Topic4\", \"Topic4\", \"Topic4\", \"Topic4\", \"Topic4\", \"Topic4\", \"Topic4\", \"Topic4\", \"Topic4\", \"Topic4\", \"Topic4\", \"Topic4\", \"Topic4\", \"Topic4\", \"Topic4\", \"Topic4\", \"Topic4\", \"Topic4\", \"Topic4\", \"Topic4\", \"Topic4\", \"Topic4\", \"Topic4\", \"Topic4\", \"Topic4\", \"Topic4\", \"Topic4\", \"Topic4\", \"Topic4\", \"Topic4\", \"Topic4\", \"Topic4\", \"Topic4\", \"Topic4\", \"Topic4\", \"Topic5\", \"Topic5\", \"Topic5\", \"Topic5\", \"Topic5\", \"Topic5\", \"Topic5\", \"Topic5\", \"Topic5\", \"Topic5\", \"Topic5\", \"Topic5\", \"Topic5\", \"Topic5\", \"Topic5\", \"Topic5\", \"Topic5\", \"Topic5\", \"Topic5\", \"Topic5\", \"Topic5\", \"Topic5\", \"Topic5\", \"Topic5\", \"Topic5\", \"Topic5\", \"Topic5\", \"Topic5\", \"Topic5\", \"Topic5\", \"Topic5\", \"Topic5\", \"Topic5\", \"Topic5\", \"Topic5\", \"Topic5\", \"Topic5\", \"Topic5\", \"Topic5\", \"Topic5\", \"Topic5\", \"Topic5\", \"Topic5\", \"Topic5\", \"Topic5\", \"Topic5\", \"Topic5\", \"Topic5\", \"Topic5\", \"Topic5\", \"Topic5\", \"Topic5\", \"Topic5\", \"Topic5\", \"Topic5\", \"Topic5\", \"Topic5\", \"Topic5\", \"Topic5\", \"Topic5\", \"Topic5\", \"Topic5\", \"Topic5\", \"Topic5\", \"Topic5\", \"Topic5\", \"Topic5\", \"Topic5\", \"Topic5\", \"Topic6\", \"Topic6\", \"Topic6\", \"Topic6\", \"Topic6\", \"Topic6\", \"Topic6\", \"Topic6\", \"Topic6\", \"Topic6\", \"Topic6\", \"Topic6\", \"Topic6\", \"Topic6\", \"Topic6\", \"Topic6\", \"Topic6\", \"Topic6\", \"Topic6\", \"Topic6\", \"Topic6\", \"Topic6\", \"Topic6\", \"Topic6\", \"Topic6\", \"Topic6\", \"Topic6\", \"Topic6\", \"Topic6\", \"Topic6\", \"Topic6\", \"Topic6\", \"Topic6\", \"Topic6\", \"Topic6\", \"Topic6\", \"Topic6\", \"Topic6\", \"Topic6\", \"Topic6\", \"Topic6\", \"Topic6\", \"Topic6\", \"Topic6\", \"Topic6\", \"Topic6\", \"Topic6\", \"Topic6\", \"Topic6\", \"Topic6\", \"Topic6\", \"Topic6\", \"Topic6\", \"Topic6\", \"Topic6\", \"Topic6\", \"Topic6\", \"Topic6\", \"Topic6\", \"Topic6\", \"Topic6\", \"Topic6\", \"Topic7\", \"Topic7\", \"Topic7\", \"Topic7\", \"Topic7\", \"Topic7\", \"Topic7\", \"Topic7\", \"Topic7\", \"Topic7\", \"Topic7\", \"Topic7\", \"Topic7\", \"Topic7\", \"Topic7\", \"Topic7\", \"Topic7\", \"Topic7\", \"Topic7\", \"Topic7\", \"Topic7\", \"Topic7\", \"Topic7\", \"Topic7\", \"Topic7\", \"Topic7\", \"Topic7\", \"Topic7\", \"Topic7\", \"Topic7\", \"Topic7\", \"Topic7\", \"Topic7\", \"Topic7\", \"Topic7\", \"Topic7\", \"Topic7\", \"Topic7\", \"Topic7\", \"Topic7\", \"Topic7\", \"Topic7\", \"Topic7\", \"Topic7\", \"Topic7\", \"Topic7\", \"Topic8\", \"Topic8\", \"Topic8\", \"Topic8\", \"Topic8\", \"Topic8\", \"Topic8\", \"Topic8\", \"Topic8\", \"Topic8\", \"Topic8\", \"Topic8\", \"Topic8\", \"Topic8\", \"Topic8\", \"Topic8\", \"Topic8\", \"Topic8\", \"Topic8\", \"Topic8\", \"Topic8\", \"Topic8\", \"Topic8\", \"Topic8\", \"Topic8\", \"Topic8\", \"Topic8\", \"Topic8\", \"Topic8\", \"Topic8\", \"Topic8\", \"Topic8\", \"Topic8\", \"Topic8\", \"Topic8\", \"Topic8\", \"Topic8\", \"Topic8\", \"Topic8\", \"Topic8\", \"Topic8\", \"Topic8\", \"Topic8\", \"Topic8\", \"Topic8\", \"Topic8\", \"Topic8\", \"Topic9\", \"Topic9\", \"Topic9\", \"Topic9\", \"Topic9\", \"Topic9\", \"Topic9\", \"Topic9\", \"Topic9\", \"Topic9\", \"Topic9\", \"Topic9\", \"Topic9\", \"Topic9\", \"Topic9\", \"Topic9\", \"Topic9\", \"Topic9\", \"Topic9\", \"Topic9\", \"Topic9\", \"Topic9\", \"Topic9\", \"Topic9\", \"Topic9\", \"Topic9\", \"Topic9\", \"Topic9\", \"Topic9\", \"Topic9\", \"Topic9\", \"Topic9\", \"Topic9\", \"Topic9\", \"Topic9\", \"Topic9\", \"Topic9\", \"Topic9\", \"Topic9\", \"Topic9\", \"Topic9\", \"Topic9\", \"Topic9\", \"Topic9\", \"Topic9\", \"Topic10\", \"Topic10\", \"Topic10\", \"Topic10\", \"Topic10\", \"Topic10\", \"Topic10\", \"Topic10\", \"Topic10\", \"Topic10\", \"Topic10\", \"Topic10\", \"Topic10\", \"Topic10\", \"Topic10\", \"Topic10\", \"Topic10\", \"Topic10\", \"Topic10\", \"Topic10\", \"Topic10\", \"Topic10\", \"Topic10\", \"Topic10\", \"Topic10\", \"Topic10\", \"Topic10\", \"Topic10\", \"Topic10\", \"Topic10\", \"Topic10\", \"Topic10\", \"Topic10\", \"Topic10\", \"Topic10\", \"Topic10\", \"Topic10\", \"Topic10\", \"Topic10\", \"Topic10\", \"Topic10\", \"Topic10\", \"Topic10\", \"Topic10\"], \"logprob\": [30.0, 29.0, 28.0, 27.0, 26.0, 25.0, 24.0, 23.0, 22.0, 21.0, 20.0, 19.0, 18.0, 17.0, 16.0, 15.0, 14.0, 13.0, 12.0, 11.0, 10.0, 9.0, 8.0, 7.0, 6.0, 5.0, 4.0, 3.0, 2.0, 1.0, -2.7411999702453613, -4.2042999267578125, -4.327000141143799, -4.656599998474121, -5.0278000831604, -5.381499767303467, -5.396200180053711, -5.5, -5.551499843597412, -5.620100021362305, -6.388299942016602, -6.441400051116943, -6.456399917602539, -6.461900234222412, -6.519999980926514, -6.549900054931641, -6.610300064086914, -6.6149001121521, -6.671999931335449, -6.716000080108643, -6.745299816131592, -6.79040002822876, -6.870500087738037, -6.946400165557861, -6.964799880981445, -7.002299785614014, -7.002900123596191, -7.013000011444092, -7.082099914550781, -7.084400177001953, -5.30049991607666, -4.377699851989746, -6.190899848937988, -6.447400093078613, -5.1554999351501465, -6.110400199890137, -5.094900131225586, -3.603300094604492, -5.781799793243408, -4.7241997718811035, -6.441100120544434, -4.819799900054932, -5.470399856567383, -6.049200057983398, -4.174300193786621, -4.5081000328063965, -4.8130998611450195, -5.89109992980957, -4.5792999267578125, -5.382500171661377, -5.367199897766113, -5.059800148010254, -5.065299987792969, -3.8459999561309814, -5.279699802398682, -5.20389986038208, -4.793300151824951, -3.8761000633239746, -4.67140007019043, -4.557600021362305, -4.2220001220703125, -4.645100116729736, -4.329800128936768, -4.728799819946289, -4.800000190734863, -4.328000068664551, -5.025599956512451, -4.916399955749512, -4.82919979095459, -4.759300231933594, -4.992499828338623, -4.946000099182129, -5.02400016784668, -3.7279999256134033, -5.431399822235107, -5.474299907684326, -5.595699787139893, -5.795199871063232, -6.059299945831299, -3.761399984359741, -6.264999866485596, -6.285099983215332, -6.330999851226807, -6.359799861907959, -6.369500160217285, -6.492000102996826, -6.5782999992370605, -6.714399814605713, -6.746500015258789, -6.749899864196777, -6.783299922943115, -6.9054999351501465, -7.093999862670898, -7.140999794006348, -7.203400135040283, -7.2129998207092285, -7.217700004577637, -7.248700141906738, -3.6947999000549316, -7.411200046539307, -7.4506001472473145, -7.454500198364258, -7.47130012512207, -4.240099906921387, -4.239699840545654, -7.00600004196167, -7.266200065612793, -6.814199924468994, -4.540999889373779, -4.250500202178955, -6.20419979095459, -3.9335999488830566, -5.769199848175049, -4.381400108337402, -3.9862000942230225, -2.348099946975708, -4.909599781036377, -5.277599811553955, -5.095099925994873, -4.028299808502197, -5.938199996948242, -3.392400026321411, -3.761199951171875, -4.887199878692627, -4.1996002197265625, -5.353300094604492, -5.035399913787842, -4.264400005340576, -3.535399913787842, -3.91759991645813, -4.429500102996826, -4.455999851226807, -4.253600120544434, -4.6828999519348145, -4.969299793243408, -4.9415998458862305, -4.738999843597412, -4.840799808502197, -5.036099910736084, -2.1366000175476074, -3.8575000762939453, -3.9175000190734863, -4.261000156402588, -4.558000087738037, -4.585599899291992, -4.637199878692627, -4.55019998550415, -5.461400032043457, -5.6585001945495605, -5.842400074005127, -5.843800067901611, -6.366199970245361, -6.484300136566162, -6.723700046539307, -6.825799942016602, -6.856800079345703, -6.895100116729736, -6.96750020980835, -7.079899787902832, -7.1844000816345215, -7.337399959564209, -7.43209981918335, -7.432300090789795, -7.448800086975098, -7.479899883270264, -7.498000144958496, -7.543099880218506, -7.559000015258789, -7.644100189208984, -6.3180999755859375, -4.087600231170654, -3.9042000770568848, -6.298099994659424, -5.24459981918335, -5.736199855804443, -5.203800201416016, -4.601099967956543, -4.894899845123291, -3.480600118637085, -3.851099967956543, -4.719299793243408, -5.000899791717529, -5.3302998542785645, -6.121300220489502, -4.466599941253662, -4.47160005569458, -5.7600998878479, -4.560800075531006, -3.421299934387207, -3.409899950027466, -3.6475000381469727, -5.242700099945068, -4.815800189971924, -5.144100189208984, -5.2108001708984375, -4.594299793243408, -4.652599811553955, -4.376299858093262, -4.890100002288818, -4.867499828338623, -4.961100101470947, -5.104899883270264, -5.094600200653076, -5.273099899291992, -5.388400077819824, -5.4344000816345215, -5.7017998695373535, -5.770299911499023, -5.801300048828125, -5.842100143432617, -5.928599834442139, -6.174200057983398, -6.282599925994873, -6.314300060272217, -6.341700077056885, -6.487599849700928, -6.4944000244140625, -6.523900032043457, -6.539299964904785, -6.544600009918213, -6.649099826812744, -6.667500019073486, -6.718999862670898, -6.738999843597412, -6.758200168609619, -6.798999786376953, -6.800899982452393, -6.8420000076293945, -6.843299865722656, -6.8618998527526855, -6.904799938201904, -6.909599781036377, -6.968699932098389, -5.658699989318848, -6.057600021362305, -3.454200029373169, -4.2870001792907715, -5.172599792480469, -5.951399803161621, -4.058300018310547, -3.3907999992370605, -5.033100128173828, -4.068399906158447, -5.563499927520752, -5.211999893188477, -5.33620023727417, -4.232399940490723, -4.406199932098389, -4.459799766540527, -3.6491000652313232, -4.988399982452393, -5.661600112915039, -5.781000137329102, -5.6194000244140625, -5.74370002746582, -4.64870023727417, -4.593200206756592, -4.674799919128418, -4.835400104522705, -5.005300045013428, -4.335400104522705, -4.795400142669678, -3.841200113296509, -4.866399765014648, -4.862400054931641, -5.277299880981445, -4.412799835205078, -5.197700023651123, -5.1209001541137695, -4.969799995422363, -5.2494001388549805, -5.148499965667725, -5.253699779510498, -4.209000110626221, -4.653900146484375, -4.746200084686279, -4.749000072479248, -5.332699775695801, -6.174499988555908, -6.293000221252441, -6.366600036621094, -6.6427001953125, -6.660900115966797, -6.6809000968933105, -6.695199966430664, -6.738800048828125, -6.7652997970581055, -6.7779998779296875, -6.793900012969971, -6.867700099945068, -7.040599822998047, -7.066199779510498, -7.213500022888184, -6.127600193023682, -7.230800151824951, -7.31850004196167, -7.317800045013428, -7.343800067901611, -7.348199844360352, -7.378499984741211, -7.393099784851074, -7.400199890136719, -7.409200191497803, -5.963500022888184, -4.05049991607666, -3.1953999996185303, -5.089900016784668, -5.759300231933594, -3.192199945449829, -4.410600185394287, -4.681600093841553, -5.670599937438965, -4.9303998947143555, -6.113100051879883, -5.0183000564575195, -4.122399806976318, -5.681399822235107, -5.056000232696533, -6.34119987487793, -5.6392998695373535, -4.720699787139893, -5.668099880218506, -6.365099906921387, -4.719799995422363, -4.950399875640869, -4.902900218963623, -5.165599822998047, -4.3933000564575195, -4.977399826049805, -4.378300189971924, -5.321000099182129, -3.8187999725341797, -4.905700206756592, -3.8796000480651855, -4.867199897766113, -5.213900089263916, -4.659900188446045, -4.8850998878479, -4.588600158691406, -4.619100093841553, -4.951000213623047, -4.933300018310547, -3.11680006980896, -3.799799919128418, -3.8501999378204346, -4.7895002365112305, -4.981599807739258, -5.012499809265137, -5.567200183868408, -5.613800048828125, -5.964399814605713, -5.990200042724609, -5.998000144958496, -6.028200149536133, -6.0518999099731445, -6.002799987792969, -6.087800025939941, -6.099299907684326, -6.120699882507324, -6.12529993057251, -6.143599987030029, -6.162799835205078, -6.17519998550415, -6.2032999992370605, -6.292099952697754, -6.479599952697754, -6.507800102233887, -6.5320000648498535, -6.595099925994873, -6.604000091552734, -6.659999847412109, -6.741700172424316, -3.793100118637085, -4.8043999671936035, -5.394000053405762, -3.820199966430664, -3.9576001167297363, -3.630199909210205, -2.9590001106262207, -2.83489990234375, -4.320000171661377, -4.4369001388549805, -5.651400089263916, -3.9244000911712646, -5.205100059509277, -4.05109977722168, -4.84630012512207, -4.300300121307373, -4.5625, -4.9278998374938965, -3.365000009536743, -5.492000102996826, -5.021299839019775, -5.237100124359131, -4.401299953460693, -4.5467000007629395, -4.703199863433838, -5.071800231933594, -4.865499973297119, -4.4527997970581055, -4.881499767303467, -4.841100215911865, -4.912399768829346, -4.99399995803833, -3.4623000621795654, -3.756500005722046, -3.847899913787842, -4.078700065612793, -4.2754998207092285, -4.293399810791016, -4.478600025177002, -4.6921000480651855, -4.692299842834473, -4.8084001541137695, -5.004300117492676, -5.026500225067139, -5.041399955749512, -5.070799827575684, -5.1203999519348145, -5.214900016784668, -5.214900016784668, -5.228600025177002, -5.2846999168396, -5.381899833679199, -5.47599983215332, -5.547500133514404, -5.5980000495910645, -5.613900184631348, -5.628799915313721, -5.701399803161621, -5.845600128173828, -6.007599830627441, -6.021699905395508, -6.062300205230713, -2.387700080871582, -2.4328999519348145, -4.101500034332275, -4.123700141906738, -2.7362000942230225, -4.408299922943115, -3.9927000999450684, -4.422500133514404, -4.696300029754639, -4.50629997253418, -4.61359977722168, -4.769400119781494, -4.996500015258789, -5.131499767303467, -5.174600124359131, -5.153800010681152, -1.9364999532699585, -2.6649999618530273, -3.375499963760376, -3.52020001411438, -3.705399990081787, -3.766400098800659, -3.973299980163574, -4.125899791717529, -4.1346001625061035, -4.2758002281188965, -4.292099952697754, -4.449399948120117, -4.532100200653076, -4.566500186920166, -4.707600116729736, -4.863399982452393, -4.888400077819824, -4.933000087738037, -5.087699890136719, -5.128600120544434, -5.417200088500977, -5.67110013961792, -5.77269983291626, -6.018599987030029, -6.246399879455566, -6.337600231170654, -6.365799903869629, -6.373000144958496, -6.530700206756592, -6.59630012512207, -5.214600086212158, -3.5910000801086426, -5.440800189971924, -2.8643999099731445, -3.971100091934204, -4.3206000328063965, -4.973400115966797, -4.143099784851074, -4.466899871826172, -4.402100086212158, -4.042200088500977, -3.8464999198913574, -3.927000045776367, -4.61959981918335, -4.452899932861328, -4.733500003814697, -4.788400173187256, -2.8838999271392822, -2.9042999744415283, -3.056999921798706, -3.6347999572753906, -3.691699981689453, -3.8935999870300293, -3.901599884033203, -4.019800186157227, -4.118199825286865, -4.219600200653076, -4.264699935913086, -4.3520002365112305, -4.518199920654297, -4.727399826049805, -4.731500148773193, -4.833700180053711, -5.060299873352051, -5.218699932098389, -5.315800189971924, -5.349999904632568, -5.476399898529053, -5.514599800109863, -5.523399829864502, -5.5295000076293945, -5.578199863433838, -5.598899841308594, -5.661200046539307, -5.77839994430542, -5.944399833679199, -5.945499897003174, -4.476600170135498, -2.434299945831299, -3.810699939727783, -3.967400074005127, -4.558700084686279, -4.336599826812744, -4.903900146484375, -4.315100193023682, -4.939000129699707, -4.6768999099731445, -4.210400104522705, -4.633699893951416, -4.605800151824951, -4.791999816894531, -4.8902997970581055, -2.388200044631958, -2.653899908065796, -3.1310999393463135, -3.351599931716919, -3.530600070953369, -4.176300048828125, -4.202099800109863, -4.2052001953125, -4.21560001373291, -4.258999824523926, -4.27400016784668, -4.389900207519531, -4.445700168609619, -4.517899990081787, -4.719799995422363, -4.823699951171875, -4.988500118255615, -5.196899890899658, -5.237299919128418, -5.355599880218506, -5.361999988555908, -5.453000068664551, -5.454899787902832, -5.527200222015381, -5.612400054931641, -5.645100116729736, -5.657199859619141, -5.733099937438965, -5.831900119781494, -5.925000190734863, -3.615000009536743, -4.686200141906738, -4.773600101470947, -4.9532999992370605, -2.887399911880493, -3.5441999435424805, -4.68209981918335, -3.222899913787842, -5.117099761962891, -4.178400039672852, -3.8506999015808105, -4.5640997886657715, -4.553100109100342, -4.887199878692627], \"loglift\": [30.0, 29.0, 28.0, 27.0, 26.0, 25.0, 24.0, 23.0, 22.0, 21.0, 20.0, 19.0, 18.0, 17.0, 16.0, 15.0, 14.0, 13.0, 12.0, 11.0, 10.0, 9.0, 8.0, 7.0, 6.0, 5.0, 4.0, 3.0, 2.0, 1.0, 1.9304, 1.9302, 1.9301, 1.93, 1.9298, 1.9294, 1.9294, 1.9293, 1.9293, 1.9292, 1.9277, 1.9275, 1.9275, 1.9275, 1.9273, 1.9272, 1.927, 1.927, 1.9268, 1.9266, 1.9265, 1.9263, 1.9259, 1.9256, 1.9255, 1.9253, 1.9253, 1.9252, 1.9249, 1.9249, 1.9175, 1.8749, 1.911, 1.9122, 1.8648, 1.8888, 1.8185, 1.7052, 1.8303, 1.7095, 1.8863, 1.5875, 1.6925, 1.8051, 1.2495, 1.3229, 1.409, 1.728, 1.2568, 1.5123, 1.5004, 1.3692, 1.3387, 0.6942, 1.4257, 1.3812, 1.1365, 0.5517, 0.9893, 0.839, 0.5039, 0.8464, 0.4485, 0.7136, 0.7838, -0.444, 1.063, 0.7422, 0.055, -0.5285, 0.8528, 0.537, 0.6907, 1.9585, 1.9576, 1.9575, 1.9574, 1.9571, 1.9566, 1.9563, 1.9561, 1.9561, 1.9559, 1.9559, 1.9558, 1.9555, 1.9552, 1.9546, 1.9545, 1.9545, 1.9544, 1.9538, 1.9528, 1.9525, 1.9521, 1.952, 1.952, 1.9518, 1.9509, 1.9506, 1.9503, 1.9502, 1.9501, 1.9487, 1.9312, 1.9472, 1.9492, 1.9434, 1.8565, 1.8347, 1.8926, 1.7464, 1.8494, 1.7445, 1.709, 1.5359, 1.7062, 1.74, 1.7064, 1.528, 1.8238, 1.3335, 1.2584, 1.5034, 1.0981, 1.5496, 1.4025, 1.0507, 0.6954, 0.8607, 1.0535, 0.9678, 0.7409, 0.8085, 1.0302, 0.8431, 0.2014, 0.3179, 0.2723, 1.9658, 1.9656, 1.9656, 1.9655, 1.9654, 1.9654, 1.9654, 1.9651, 1.9647, 1.9645, 1.9642, 1.9642, 1.9631, 1.9627, 1.9619, 1.9614, 1.9613, 1.9611, 1.9608, 1.9602, 1.9595, 1.9585, 1.9578, 1.9578, 1.9576, 1.9574, 1.9572, 1.9568, 1.9567, 1.9559, 1.9449, 1.9199, 1.8923, 1.9234, 1.8798, 1.8974, 1.865, 1.8154, 1.823, 1.6781, 1.681, 1.753, 1.763, 1.7737, 1.8669, 1.5968, 1.5548, 1.7883, 1.4634, 1.0065, 0.8209, 0.8927, 1.4866, 0.9623, 1.1997, 1.2773, 0.2279, 0.1779, -0.4923, 0.1295, -0.1415, -0.1828, 0.5983, -0.1002, 2.0401, 2.04, 2.04, 2.0396, 2.0395, 2.0394, 2.0394, 2.0392, 2.0386, 2.0383, 2.0383, 2.0382, 2.0377, 2.0377, 2.0376, 2.0375, 2.0375, 2.0371, 2.037, 2.0368, 2.0367, 2.0366, 2.0364, 2.0364, 2.0362, 2.0362, 2.0361, 2.0359, 2.0359, 2.0356, 2.0261, 2.0259, 1.883, 1.8797, 1.9289, 1.9728, 1.7834, 1.6825, 1.8494, 1.6844, 1.8674, 1.8086, 1.823, 1.5949, 1.6056, 1.5962, 1.3454, 1.6773, 1.8348, 1.8648, 1.8054, 1.8429, 1.313, 1.185, 1.1893, 1.2778, 1.3328, 0.6842, 1.0166, 0.0428, 0.99, 0.9621, 1.4269, 0.0151, 1.0848, 0.6626, -0.0294, 1.1884, 0.4158, 0.4495, 2.0962, 2.096, 2.0959, 2.0959, 2.0954, 2.0939, 2.0935, 2.0933, 2.0923, 2.0922, 2.0921, 2.092, 2.0918, 2.0917, 2.0917, 2.0916, 2.0912, 2.0902, 2.09, 2.089, 2.0889, 2.0889, 2.0882, 2.0882, 2.0879, 2.0879, 2.0876, 2.0875, 2.0874, 2.0874, 2.0849, 2.0505, 2.0209, 2.033, 2.047, 1.9432, 1.9926, 2.0008, 2.0323, 1.9865, 2.0405, 1.9704, 1.8827, 1.9922, 1.9222, 2.0438, 1.9516, 1.8195, 1.9316, 2.0425, 1.7429, 1.6665, 1.6399, 1.6782, 1.3793, 1.6025, 1.186, 1.6633, 0.609, 1.3309, 0.3512, 1.0945, 1.4186, 0.6552, 0.9395, 0.3517, 0.1593, 0.859, 0.5091, 2.4069, 2.4068, 2.4067, 2.4062, 2.406, 2.406, 2.4051, 2.405, 2.4042, 2.4041, 2.4041, 2.404, 2.4039, 2.4039, 2.4038, 2.4037, 2.4037, 2.4037, 2.4036, 2.4035, 2.4035, 2.4034, 2.403, 2.4022, 2.4021, 2.4019, 2.4016, 2.4016, 2.4012, 2.4007, 2.3987, 2.3807, 2.3536, 2.2356, 2.1929, 2.1638, 2.0141, 1.9873, 2.1591, 2.0667, 2.2877, 1.8602, 2.1799, 1.8129, 1.9597, 1.7575, 1.7813, 1.9153, 1.1753, 2.1471, 1.8929, 1.9318, 0.9953, 1.0371, 1.1422, 1.5133, 0.9706, -0.222, 0.8911, -0.0628, -0.0282, 0.4484, 2.5805, 2.5804, 2.5804, 2.5803, 2.5802, 2.5802, 2.58, 2.5798, 2.5798, 2.5797, 2.5795, 2.5794, 2.5794, 2.5794, 2.5793, 2.5792, 2.5792, 2.5791, 2.579, 2.5789, 2.5787, 2.5785, 2.5784, 2.5784, 2.5783, 2.5781, 2.5777, 2.5772, 2.5771, 2.577, 2.5224, 2.3976, 2.4324, 2.4134, 2.148, 1.6803, 0.9804, 1.3502, 1.1346, 0.6292, -0.3828, 0.171, -0.2705, 1.105, 1.4423, 0.5048, 2.6868, 2.6868, 2.6866, 2.6866, 2.6865, 2.6865, 2.6864, 2.6863, 2.6863, 2.6862, 2.6862, 2.6861, 2.686, 2.6859, 2.6858, 2.6856, 2.6856, 2.6855, 2.6853, 2.6852, 2.6847, 2.684, 2.6837, 2.6828, 2.6818, 2.6813, 2.6811, 2.6811, 2.6801, 2.6796, 2.6674, 2.6354, 2.6578, 2.4856, 2.543, 2.4794, 2.5287, 2.3608, 2.0202, 1.951, 1.667, 1.0939, 1.1462, 1.9787, 1.3745, 1.5031, 0.7678, 3.036, 3.036, 3.036, 3.0357, 3.0357, 3.0356, 3.0356, 3.0355, 3.0354, 3.0353, 3.0353, 3.0352, 3.035, 3.0347, 3.0347, 3.0345, 3.034, 3.0336, 3.0334, 3.0333, 3.0329, 3.0327, 3.0327, 3.0327, 3.0325, 3.0324, 3.0322, 3.0317, 3.0309, 3.0308, 2.9632, 2.7206, 2.6908, 2.704, 2.805, 2.7121, 2.8207, 2.4035, 2.6205, 2.1606, 1.1396, 1.4795, 1.3937, 1.6895, 0.9662, 3.2389, 3.2388, 3.2387, 3.2386, 3.2385, 3.2379, 3.2379, 3.2379, 3.2379, 3.2378, 3.2378, 3.2377, 3.2376, 3.2375, 3.2371, 3.2369, 3.2365, 3.2359, 3.2358, 3.2354, 3.2354, 3.235, 3.235, 3.2347, 3.2343, 3.2342, 3.2341, 3.2337, 3.2331, 3.2326, 3.2046, 3.1874, 3.1903, 3.1719, 2.8962, 2.9373, 3.0671, 1.932, 3.0117, 2.3464, 2.0791, 2.4103, 1.9484, 0.3291]}, \"token.table\": {\"Topic\": [4, 5, 1, 7, 6, 1, 5, 6, 8, 10, 1, 4, 6, 8, 10, 3, 10, 5, 10, 5, 6, 2, 4, 6, 4, 1, 2, 3, 4, 5, 6, 7, 8, 10, 1, 1, 2, 4, 5, 7, 8, 9, 10, 1, 8, 9, 1, 6, 4, 8, 1, 6, 1, 2, 3, 4, 5, 6, 7, 9, 2, 3, 4, 5, 6, 2, 3, 4, 2, 4, 10, 1, 3, 5, 7, 9, 4, 4, 1, 2, 3, 5, 6, 7, 6, 6, 8, 1, 7, 3, 1, 10, 6, 2, 7, 3, 4, 3, 8, 1, 3, 6, 7, 2, 2, 3, 5, 6, 7, 4, 8, 6, 6, 7, 1, 2, 3, 4, 5, 6, 7, 1, 6, 3, 1, 2, 3, 6, 3, 4, 8, 9, 1, 2, 3, 4, 5, 7, 9, 5, 7, 10, 1, 1, 7, 7, 10, 2, 3, 6, 8, 9, 10, 8, 3, 5, 4, 2, 5, 1, 3, 4, 5, 3, 4, 1, 2, 4, 5, 6, 7, 9, 7, 5, 5, 9, 2, 3, 3, 2, 3, 4, 6, 8, 2, 7, 8, 9, 8, 9, 8, 5, 7, 1, 2, 3, 4, 5, 6, 7, 8, 1, 2, 3, 4, 5, 6, 7, 8, 3, 5, 6, 6, 5, 1, 4, 5, 6, 5, 6, 6, 1, 3, 5, 7, 9, 4, 9, 1, 2, 3, 4, 5, 6, 7, 8, 10, 1, 1, 2, 3, 4, 5, 6, 9, 1, 2, 3, 4, 5, 6, 7, 9, 10, 1, 3, 9, 4, 9, 5, 7, 5, 9, 10, 10, 10, 10, 10, 1, 2, 3, 4, 5, 6, 3, 4, 5, 6, 5, 8, 3, 3, 4, 4, 5, 5, 2, 3, 4, 6, 7, 10, 3, 1, 8, 3, 4, 5, 8, 9, 9, 4, 2, 4, 1, 2, 3, 6, 1, 3, 6, 8, 3, 1, 2, 3, 4, 5, 6, 7, 1, 7, 2, 3, 4, 8, 6, 9, 1, 2, 6, 7, 7, 7, 5, 7, 8, 1, 2, 4, 5, 1, 2, 3, 4, 5, 6, 7, 1, 2, 3, 6, 7, 10, 2, 4, 9, 1, 2, 3, 4, 7, 8, 9, 10, 8, 1, 1, 9, 5, 6, 8, 5, 6, 1, 2, 3, 4, 6, 6, 1, 5, 10, 4, 3, 4, 1, 2, 5, 1, 5, 7, 9, 1, 2, 3, 4, 5, 6, 7, 7, 8, 9, 10, 2, 5, 6, 7, 8, 9, 1, 2, 3, 6, 7, 10, 1, 2, 3, 5, 6, 7, 1, 2, 3, 3, 4, 6, 10, 10, 4, 6, 8, 6, 3, 5, 8, 4, 8, 9, 3, 2, 4, 4, 2, 5, 3, 5, 6, 9, 1, 2, 3, 3, 1, 2, 3, 4, 5, 6, 7, 8, 9, 10, 1, 4, 8, 4, 4, 5, 8, 9, 2, 2, 10, 2, 7, 7, 8, 1, 2, 4, 5, 7, 8, 9, 7, 5, 6, 9, 1, 2, 3, 5, 7, 8, 9, 10, 1, 2, 1, 3, 5, 9, 4, 1, 5, 1, 2, 4, 5, 9, 4, 5, 7, 4, 5, 7, 3, 7, 1, 2, 3, 4, 5, 6, 7, 3, 9, 2, 2, 1, 2, 3, 4, 5, 6, 7, 9, 10, 5, 7, 2, 4, 8, 2, 8, 2, 4, 2, 4, 5, 10, 5, 1, 2, 3, 4, 5, 6, 7, 8, 4, 5, 2, 3, 5, 8, 1, 2, 3, 5, 6, 7, 8, 9, 10, 5, 7, 6, 5, 8, 8, 9, 2, 9, 9, 8, 8, 8, 3, 7, 10, 10, 4, 6, 1, 1, 4, 2, 3, 6, 8, 10, 1, 7, 10, 7, 9, 9, 10, 7, 9, 4, 8, 9, 10, 4, 7, 5, 7, 5, 7, 9, 5, 7, 1, 2, 3, 4, 6, 7, 4, 10, 10, 10, 10, 4, 2, 2, 5, 9, 4, 7, 4, 1, 10, 10, 1, 9, 10, 7, 8, 5, 5, 7, 10, 10, 5, 8, 1, 2, 4, 9, 1, 2, 6, 6, 3, 9, 10, 9, 2, 1, 7, 9, 10, 1, 3, 5, 2, 3, 1, 8, 1, 2, 3, 4, 5, 6, 7, 5, 7, 9, 9, 5, 9, 2, 2, 3, 5, 6, 9, 5, 4, 4, 8, 8, 8, 8, 8, 8, 1, 8, 8, 1, 2, 3, 7, 9, 5, 7, 3, 4, 5, 7, 8, 2, 5, 3, 5, 6, 7, 10, 5, 3, 6, 1, 3, 4, 5, 10, 10, 1, 2, 4, 7, 8, 2, 4, 6, 8, 2, 4, 8, 1, 5, 7, 1, 6, 1, 2, 3, 6, 8, 5, 7, 1, 2, 3, 4, 5, 6, 7, 8, 10, 4, 5, 9, 1, 2, 3, 4, 5, 6, 7, 8, 3, 4, 4, 10, 1, 2, 7, 9, 10, 3, 6, 9, 3, 4, 2, 3, 5, 1, 1, 2, 3, 4, 5, 6, 4, 5, 5, 3, 10, 7, 5, 7, 4, 10, 7, 3, 4, 5, 6, 9, 3, 5, 5, 6, 8, 9, 10, 3, 1, 2, 3, 4, 7, 9, 4, 1, 2, 3, 4, 5, 6, 7, 3, 4, 5, 1, 7, 10, 1, 2, 3, 4, 5, 7, 8, 9, 10, 3, 3, 1, 2, 3, 5, 6, 7, 8, 9, 10, 1, 2, 3, 5, 7, 9, 10, 1, 2, 3, 4, 5, 9, 4, 5, 8, 1, 7, 8, 3, 5, 8, 10, 3, 4, 5, 8, 6, 1, 2, 3, 8, 10, 1, 3, 6, 8, 1, 2, 3, 5, 6, 7, 10, 5, 7, 3, 5, 3, 8, 9, 2, 10, 4, 8, 4, 5, 4, 1, 1, 2, 6, 1, 6, 7, 9, 2, 4, 1, 7, 1, 7, 2, 1, 4, 6, 2, 4, 1, 2, 3, 6, 7, 10, 1, 3, 5, 6, 7, 6, 2, 3, 9, 8, 10, 7, 7, 7, 7, 7, 7, 8, 9, 7, 6, 10, 7, 1, 3, 4, 5, 7, 2, 2, 2, 7, 2, 3, 5, 6, 9, 3, 4, 9, 5, 6, 7, 5, 5, 8, 6, 3, 1, 4, 5, 9, 10, 1, 2, 3, 7, 10, 9, 3, 8, 3, 6, 7, 7, 2, 3, 4, 5, 9, 9, 6, 2, 9, 10, 9, 9, 9, 1, 6, 6, 5, 6, 7, 6, 5, 6, 6, 7, 2, 2, 2, 8, 9, 1, 9, 8, 1, 2, 8, 9, 3, 8, 2, 3, 4, 5, 8, 8, 9, 10, 9, 10, 1, 2, 3, 4, 7, 8, 9, 10, 1, 7, 5, 5, 7, 9, 1, 3, 6, 7, 10, 6, 2, 9, 1, 1, 7, 8, 7, 1, 2, 7, 10, 1, 2, 7, 8, 9, 3, 6, 6, 1, 2, 3, 4, 5, 6, 8, 10, 5, 10, 10, 9, 2, 3, 8, 9, 3, 2, 9], \"Freq\": [0.9943025975850395, 0.9965876480246724, 0.9599939835694116, 0.037953250513209295, 0.9998730759625861, 0.6035952656140048, 0.047136749951600776, 0.1775280192982367, 0.14202241543858934, 0.02999611360556413, 0.570670773160894, 0.15741040854478688, 0.14905233375479818, 0.11329834715317993, 0.009286749766654093, 0.9966054569091481, 0.9970317987961144, 0.993143472191633, 0.005548287554143202, 0.9890186560173603, 0.9928921443405208, 0.9953928526101756, 0.11141585535091678, 0.8871224709072996, 0.9942159170130658, 0.33571110762374085, 0.19630004174846324, 0.17149380226887648, 0.013726119178704674, 0.00760724677373994, 0.24376264661940591, 0.025136989339314585, 0.004465123106325617, 0.001819124228503029, 0.9970930815614021, 0.0692640030933509, 0.6499563315482507, 0.04268369938525826, 0.008924773507826727, 0.05762299417009865, 0.1466767124329784, 0.024252101923442192, 0.00019401681538753755, 0.998448873197708, 0.9499116320682117, 0.050055223725750074, 0.9968754687246746, 0.9958753364561839, 0.9942794783933038, 0.9990568485428226, 0.9993574714068207, 0.9963293437542309, 0.24828576070903205, 0.4044335230721561, 0.021096175746519064, 0.09015459720734642, 0.08005728232012363, 0.11900406831369728, 0.026144833190130463, 0.01081855166488157, 0.9974950538755366, 0.002279988694572655, 0.6948759563742141, 0.22652603150217818, 0.078254447246207, 0.9868363220466305, 0.9978568609092836, 0.9944609272630017, 0.03823420171560934, 0.2520534953863418, 0.7096462662374879, 0.8019373956131809, 0.07184314073556129, 0.03498854256602011, 0.08210644655492719, 0.008863764116725095, 0.9963421757358015, 0.9973537962227149, 0.5534473529690218, 0.14085280423352356, 0.10145025128073723, 0.17300891066625723, 0.004529029075032912, 0.02626836863519089, 0.9982581154769465, 0.9954283496858288, 0.9991406677279252, 0.8825960176821916, 0.11587693886418271, 0.9992921474215665, 0.9935231232905606, 0.9994261003768845, 0.999567011435872, 0.9901110110547867, 0.009495716077987626, 0.9177465124541114, 0.08190841084783144, 0.9956410962516102, 0.9998832677478885, 0.12279814600396519, 0.00032486282011631, 0.6750649402016923, 0.20184809889893396, 0.994466245084345, 0.09134491703481099, 0.2705214850646325, 0.02599816869452313, 0.6113082909252735, 0.9990968290488612, 0.9943150454481826, 0.9981233764176877, 0.9958777229271425, 0.9992375323444149, 0.9965325990747472, 0.2518971201232731, 0.0009415541494764756, 0.3831497685602938, 0.1318175809267066, 0.2259102255977224, 0.0018203380223211863, 0.004393919364223553, 0.9995939864104861, 0.9927074910388687, 0.9991855083149717, 0.1399110955528798, 0.14582283198469165, 0.502497596704005, 0.21134457743727267, 0.11061482147134431, 0.7893875895909571, 0.08547508931876606, 0.012569866076289127, 0.0055827744675443864, 0.1619004595587872, 0.055827744675443866, 0.07381668462642021, 0.15073491062369843, 0.01984986477349115, 0.5309838826908884, 0.9987655803595019, 0.04922328389452981, 0.9490249134865348, 0.9959600735948179, 0.13769887778583076, 0.8622940960970377, 0.9984337892486314, 0.9947387698394278, 0.3276627342394194, 0.061924356024414075, 0.5787733118187363, 0.006582510286059764, 0.00024379667726147274, 0.024623464403408745, 0.9993300288190388, 0.9993900402632514, 0.9913445271515302, 0.995911378641342, 0.9945462771705683, 0.9963683481753808, 0.2239124245282918, 0.691390018759301, 0.024163211280031488, 0.06024694012487851, 0.10553242785414936, 0.8933865875239196, 0.014776393091223725, 0.004432917927367118, 0.8200898165629167, 0.03694098272805931, 0.0694490475287515, 0.04580681858279355, 0.008865835854734236, 0.9993554380807371, 0.9956866233250228, 0.20575122165521167, 0.7934429294864772, 0.8971669311005198, 0.1022282047342429, 0.994915636465794, 0.9729130958784273, 0.0010762313007504727, 0.008609850406003781, 0.005022412736835539, 0.012197288075172024, 0.9026577994790126, 0.012149431996975742, 0.077396381610364, 0.007199663405615255, 0.9715109957737822, 0.02712340343530864, 0.999463556771837, 0.9378703608693099, 0.061418059030379585, 0.10809564184359391, 0.15821066914322268, 0.254620295652374, 0.20360634409624964, 0.1404569150774349, 0.08831930820069107, 0.017978485129911667, 0.02876557620785867, 0.2962436404462879, 0.10284554203687611, 0.17729601859555746, 0.07479675784500081, 0.20447909957163415, 0.14110962417517514, 0.0027702502905555854, 0.0005194219294791723, 0.09818571123045373, 0.11762598989513004, 0.7840092129830215, 0.9976332985802044, 0.9879334289318902, 0.9979570408459274, 0.3727257900683805, 0.004865871933007578, 0.6218584330383685, 0.05033891021555425, 0.947760171644573, 0.9980868490072692, 0.5446498383386271, 0.051579590878763557, 0.16571858653622548, 0.23542763757534654, 0.002553445093008097, 0.9965492924109989, 0.9990208755400224, 0.08551523144171572, 0.2827311901493736, 0.31824655751727116, 0.008041215253108892, 0.17458715424538346, 0.07216475227149007, 0.051649344125737885, 0.006855651465791555, 0.0002577312581124645, 0.9942369853092146, 0.23547736150035645, 0.0028812580383803348, 0.08041329252570571, 0.3494180202908515, 0.16475557328556642, 0.04086147763521202, 0.1262514885908474, 0.12076418639704, 0.000761118821830084, 0.07484335081329159, 0.3399664070841042, 0.3143420734158247, 0.10021397820762773, 0.0010148250957734454, 0.047443073227408566, 0.0005074125478867227, 0.999715557613888, 0.9961297615043906, 0.9997231338153433, 0.9981576227249183, 0.9998292623502689, 0.996796554433939, 0.9983308610639035, 0.1408381046389419, 0.017387420325795294, 0.8415511437684923, 0.9953668019990616, 0.9957648865003944, 0.996887736855619, 0.9953813186046967, 0.3176831924735714, 0.12384260045579902, 0.10669209540072863, 0.052648062029518425, 0.1449815950585602, 0.2540667841879033, 0.020351745884600928, 0.49225785358378493, 0.2391330141440609, 0.24761290826264462, 0.9873020436675675, 0.009380541982589715, 0.9997158837389892, 0.9941589952286572, 0.9994938359207304, 0.15121614002680844, 0.8474092599522137, 0.9968819310551331, 0.001464674989900351, 0.08690404940075415, 0.09715677433005661, 0.7801835446202535, 0.01952899986533801, 0.014646749899003508, 0.997485541498521, 0.9797071510031747, 0.01731805569955107, 0.04832417926452287, 0.2234993290984183, 0.0017258635451615312, 0.0034517270903230623, 0.7231368254226815, 0.994540925090119, 0.9988864921615426, 0.19564740555654045, 0.8037927893308116, 0.05344643435574981, 0.11350383881473697, 0.17588904964810348, 0.6571862956147773, 0.1884330484800451, 0.008455329098463561, 0.7972167435694215, 0.004831616627693464, 0.9848819627062653, 0.2585549196837805, 0.08067314354474547, 0.1618473625152347, 0.35902054254540455, 0.09896239658439274, 0.024803233574316155, 0.016034413623800342, 0.9827117855009866, 0.01600507793975548, 0.25116413271721094, 0.6628373589014157, 0.07823654072279006, 0.0074510991164561955, 0.999576700920257, 0.9986708767799418, 0.15326689150388015, 0.11036801366213476, 0.08758108085936009, 0.648734069532907, 0.9988493965942791, 0.9995729290960175, 0.465063659812286, 0.22870099251065465, 0.30608390789951934, 0.1663235694264352, 0.06534140227467097, 0.1576833840016853, 0.6102130956229603, 0.28939296544750837, 0.1693619475714012, 0.1452648114068797, 0.05910618304505277, 0.18118318418041174, 0.11184708483909984, 0.043647642864038966, 0.7884134496298414, 0.09770522504615213, 0.055140572550798725, 0.026119218576694133, 0.030956110905711567, 0.0009673784658034865, 0.5734383933487567, 0.42633083165634683, 0.9985480857942587, 0.09306800785350172, 0.6551565047760797, 0.08559778795923083, 0.13555716100823273, 3.644009704522385e-05, 0.01975053259851133, 0.008854943581989396, 0.0020042053374873118, 0.9993966640737922, 0.9999049117122935, 0.9998312267228402, 0.995381534424537, 0.7021478755508229, 0.29440263181440113, 0.002881591828525949, 0.840382061920375, 0.1592302854164921, 0.10807590834597479, 0.001279004832496743, 0.04796268121862786, 0.00031975120812418575, 0.8425444334072294, 0.9975012127726081, 0.9873787598881749, 0.007154918549914311, 0.005110656107081651, 0.9947412836227404, 0.9957381846395551, 0.9985359608862658, 0.996204265651654, 0.9927657529242119, 0.9946543215148934, 0.10194346712470757, 0.6580626567498364, 0.23552456197777266, 0.003515291969817502, 0.30476000232949924, 0.03524727812555562, 0.05544998631947165, 0.1869825120075207, 0.16978871779993257, 0.12229086130147042, 0.1255146977153932, 0.016416769002790363, 0.817681379177443, 0.15011872424666955, 0.015785354810375348, 0.17733357801781158, 0.2582527835210848, 0.068006566327219, 0.008608426117369495, 0.47905891343161233, 0.008608426117369495, 0.14308913677863142, 0.003577228419465786, 0.1865269104435731, 0.21616680306200392, 0.041393643139532664, 0.40933713771315633, 0.3902550634716371, 0.23820204205277626, 0.16325239410126982, 0.08119545194746533, 0.09433317759413744, 0.03273662784088788, 0.01157775045611756, 0.03320986315044248, 0.9551644126296986, 0.8165441665374079, 0.17460284642175097, 0.008438055775028859, 0.9993046373348328, 0.9972796672428792, 0.426521082063767, 0.5518908308139461, 0.021114905052661732, 0.9944803466007975, 0.995561927692321, 0.9470427399750095, 0.050374613828457954, 0.9836955642572348, 0.012144389682188084, 0.9974232059825278, 0.9912129448411054, 0.1461729996791354, 0.8536627849065072, 0.9974315976035095, 0.9951454014361225, 0.9970157846380405, 0.00036630483643174995, 0.007692401565066749, 0.9915871922207471, 0.9964970584513542, 0.9948093010154557, 0.9987884250179306, 0.9997319493440239, 0.9993711101115516, 0.07021525675706644, 0.17249897406288264, 0.10595167847969279, 0.12607306549067304, 0.1746997507672086, 0.045587517446752095, 0.08981264931463574, 0.2033098479234461, 0.010479889068218872, 0.0012575866881862647, 0.15050457639360235, 0.8410549857289542, 0.007588466036652219, 0.9991213019556184, 0.22550672085802193, 0.10010298340526827, 0.4922646711412918, 0.1809553930787542, 0.9936468856203746, 0.9932806112254295, 0.9982326432428111, 0.9956628830215416, 0.9982244535302209, 0.9968407148576875, 0.9947898207311365, 0.11134681401712576, 0.04474685049286363, 0.053071845933396394, 0.6332199656955236, 0.016649990881065536, 0.13580148812369078, 0.00520312215033298, 0.9985081850928351, 0.2682850411136594, 0.31439653255506966, 0.4164007408951589, 0.33822396371535796, 0.31658490367120334, 0.1671117326099, 0.06037115911478433, 0.032731351327292706, 0.03618632730072916, 0.028367171150320347, 0.020366174159204352, 0.9973611423941872, 0.9956422828123191, 0.9994139912703008, 0.9992284208945841, 0.0005061947420945208, 0.9995698468052162, 0.9948817846523342, 0.9959884841334146, 0.987365140203254, 0.10701058706406084, 0.7789478983371428, 0.0028982033996516475, 0.09006724411225121, 0.020733301243661788, 0.05792316914480778, 0.9014293198160711, 0.04072722830494297, 0.08854520081996707, 0.9087848651724998, 0.0023931135356747854, 0.1673255337162588, 0.8325900715275346, 0.042837256775929436, 0.10801108315645065, 0.06364392435280945, 0.6468425773165345, 0.09577186693475653, 0.031821962176404726, 0.011015294599524713, 0.9794843446267195, 0.017438890408784324, 0.9977987130264042, 0.996082211609926, 0.11549236437016254, 0.4228728205148753, 0.13451639844929436, 0.051529667111979136, 0.12537887026955388, 0.06665901704892649, 0.029509722154243863, 0.05362680472700154, 0.0002995910878603438, 0.9488718626585398, 0.04924940463625639, 0.8072386208628185, 0.16494552958156997, 0.027776690012696812, 0.8834404434205537, 0.11623349851936468, 0.8734749083756745, 0.12503370664248567, 0.23925330842849446, 0.0005189876538579056, 0.7582409622864, 0.0020759506154316223, 0.9949503682981131, 0.18703625646420663, 0.08451638326858535, 0.1397770954057373, 0.11027137580309508, 0.29005622660224556, 0.10251987319562128, 0.021754216995168416, 0.06426245710066993, 0.06041266649697294, 0.938719894799118, 0.9941876917798254, 0.07739268864250774, 0.10969572390198924, 0.8129597206969509, 0.09350073239318586, 0.000492109117858873, 0.07578480415026644, 0.19044622861138383, 0.10777189681109317, 0.014271164417907316, 0.5132698099268045, 0.002460545589294365, 0.001968436471435492, 0.9965725546981986, 0.998507648521553, 0.9939701406373426, 0.9996993055235532, 0.992978974523916, 0.9808503993606398, 0.017869744117906393, 0.986561657873138, 0.009531996694426453, 0.9997687667584868, 0.9898292096673336, 0.9987571897713011, 0.9988942058463122, 0.9976040962388077, 0.9983151757412136, 0.9989043458104909, 0.9961182488070026, 0.9983463672502648, 0.996499159528855, 0.995919187047658, 0.9988992269408316, 0.9981110814766511, 0.9922463862193376, 0.00021215445503941364, 0.00233369900543355, 0.0014850811852758954, 0.003606625735670032, 0.658432171902052, 0.2759496630555791, 0.06510340576110177, 0.9995053888681862, 0.9968794172938723, 0.9978106831651732, 0.9998294164323922, 0.9988563986280471, 0.9957791481146355, 0.8129266706413557, 0.08912485093410212, 0.09722711010992958, 0.9996322568911632, 0.9341447382484405, 0.06420950528980411, 0.9457158903048898, 0.052105558694484286, 0.6505363750763308, 0.32050543199281756, 0.028576533272086882, 0.9011318267203621, 0.09833460005356366, 0.0833300683607161, 0.21436582641492766, 0.604994882931147, 0.07279764336345088, 0.006195544116038372, 0.01796707793651128, 0.9943131975616076, 0.9991528106287607, 0.9983065429399746, 0.9958022415417604, 0.9951729374650586, 0.9949797443280646, 0.9979421619860057, 0.6645862097246847, 0.17080835244326914, 0.16484124842778375, 0.9846028160253664, 0.01304109690099823, 0.9940207279052616, 0.9959043020177499, 0.9986027569590857, 0.997788994719685, 0.9982911149062467, 0.2598560291906186, 0.7394396612185024, 0.9981530090542955, 0.9999543293957767, 0.9919567754928353, 0.9271628366664907, 0.018366496466583743, 0.054547113566169765, 0.9976610546433712, 0.9994358614824149, 0.9995053038310627, 0.9578391537928109, 0.04029744012720564, 0.9960870476558912, 0.9964653440413581, 0.9994567197758731, 0.9989091964391223, 0.9953365505270396, 0.9948764940095058, 0.9052937737716534, 0.0772811758097753, 0.01545623516195506, 0.9996132078616251, 0.9993112321818493, 0.0004992873250504325, 0.01597719440161384, 0.7079894269215133, 0.2751073161027883, 0.08244365202881593, 0.8665881619269523, 0.05021004371679767, 0.9353332418536898, 0.06153508170090065, 0.9972506335842358, 0.9988518911803522, 0.36580859814164274, 0.029681838007106977, 0.0637758411233785, 0.38425947041633085, 0.07982007788397687, 0.05775925233815412, 0.01925308411271804, 0.9550509175752935, 0.0143843045379116, 0.030441202626743154, 0.9989447122715882, 0.9967610587241877, 0.9967203229384944, 0.988451556521076, 0.06708633590505235, 0.6194514006933806, 0.20313993302090616, 0.10595879222386773, 0.00438882571341464, 0.9944611757525941, 0.9978739166304968, 0.996219631581364, 0.9956961719912103, 0.9989119330196391, 0.9994911757222235, 0.9964719787636488, 0.9996856467939623, 0.9980365065301735, 0.9940899155940187, 0.9969974807050744, 0.993643533962555, 0.9987967682680986, 0.8039171352146852, 0.07612534787152586, 0.07612534787152586, 0.044336741068031545, 0.8955669693114717, 0.10362556992877671, 0.752179157591254, 0.11381159962546417, 0.011740963688483824, 0.09317022797958131, 0.02916303883913724, 0.13356276599398603, 0.8651899174943762, 0.1001687769947519, 0.5076735743143108, 0.054068373946030854, 0.24074654925443212, 0.09675393232447627, 0.9940093432354278, 0.837696978354835, 0.1621348990364197, 0.10034247664451253, 0.032924875148980674, 0.8388003907002218, 0.028221321556269146, 0.9997514589127847, 0.9987433266684937, 0.07060426910036124, 0.20992372986696034, 0.6999031893427115, 0.005667232302370133, 0.013695811397394488, 0.062122494931535675, 0.6985489025442047, 0.025016573103450783, 0.21425677442668373, 0.13967185016737516, 0.8508909132958763, 0.009287642210618298, 0.9360762388711316, 0.03019600770552037, 0.0327123416809804, 0.1926142591698666, 0.8070115676168134, 0.253083958560447, 0.11661083660253509, 0.10796113168970968, 0.5221858891816819, 0.9924269101901645, 0.15366525463409073, 0.8459349876321157, 0.2271689426772728, 0.3335791888744732, 0.1166591392563947, 0.04482776703282394, 0.14410834849319346, 0.0845756479406559, 0.041530297092039675, 0.0071296647368308454, 0.00044560404605192784, 0.09500103948394792, 0.09839393375123177, 0.8058123884799154, 0.14694472545363876, 0.07912408293657472, 0.1745251200772448, 0.09042752335608539, 0.05154368831296867, 0.09381855548193858, 0.0029388945090727753, 0.36057974938239046, 0.9939170201031351, 0.9956838013427513, 0.045254315615894936, 0.9524955953440744, 0.005391654027797137, 0.7770721367562623, 0.14018300472272555, 0.0026958270138985685, 0.07413524288221063, 0.24416707806145133, 0.7114868545151307, 0.044030128830753516, 0.9999708877168318, 0.9927538719910175, 0.174189795208482, 0.8253495532129644, 0.9994750977675114, 0.9948063393352519, 0.020371206522616057, 0.01949815481450394, 0.011058654969420146, 0.4827975945860006, 0.36726375187916377, 0.09923687748874394, 0.11784662172353422, 0.8818178246209284, 0.9979331274056756, 0.9957532688697888, 0.9985866727628067, 0.996220559561037, 0.05672817271301283, 0.9432329505937868, 0.9949858468640501, 0.9964933533801518, 0.999148457746783, 0.0003385927610742683, 0.46624223199926745, 0.29118977452387074, 0.03148912677990695, 0.21094329014926913, 0.8603434170208579, 0.1394159908178789, 0.6481460048531671, 0.11490228800143536, 0.029130157521490656, 0.15374249803008957, 0.053405288789399534, 0.9874665991701993, 0.10329463854333167, 0.1084114008241159, 0.08986313755627306, 0.640874475668225, 0.020467049123136925, 0.03677672889313666, 0.9975270012431467, 0.022294828227196525, 0.061212993290460635, 0.18520352922065886, 0.19674208067157636, 0.40228475143283554, 0.119492456551027, 0.012711963462875212, 0.9042398789218695, 0.06251317566061611, 0.03257728872454642, 0.5087822977157516, 0.054483773613655286, 0.43667142087414895, 0.04805375020778229, 0.3950078712048519, 0.13086335748408637, 0.12421441091445612, 0.05772494521815357, 0.015111242203705124, 0.010577869542593587, 0.1934239002074256, 0.025084662058150506, 0.9980637448841062, 0.9997102828325627, 0.24009497388068093, 0.5351606180757129, 0.12152746652572685, 0.014292374281731272, 0.021734557339674183, 0.05776148896107964, 0.004059372577059769, 0.002367967336618199, 0.0029599591707727487, 0.14842227669866404, 0.8086379365106208, 0.0002195595809151835, 0.036227330851005275, 0.0010977979045759174, 0.00439119161830367, 0.000878238323660734, 0.008559812991640369, 0.15163097299477224, 0.03240500632549568, 0.541102464114409, 0.25679438974921104, 0.009171228205328966, 0.6401463549958055, 0.09057714720926342, 0.2691871397398896, 0.8939691170066386, 0.10552755175457791, 0.9997109814047699, 0.929048164738746, 0.013074761744862861, 0.0034537106495864164, 0.05427259592207226, 0.808365804127053, 0.14062752441322457, 0.04461286981385055, 0.006303992473696274, 0.9991324700922524, 0.041418078040149596, 0.7768688151314547, 0.09962726879927876, 0.053731560700734614, 0.028544891622265263, 0.650135848340857, 0.16559384841461475, 0.14831449031917668, 0.035278689444852705, 0.18718420064491847, 0.4033301261453211, 0.10913997366592967, 0.23657156303005983, 0.03429677943412594, 0.02941901524793914, 0.995616869593867, 0.8578736397969406, 0.14202362410892186, 0.9339884764411982, 0.06505392373222275, 0.9925179751786677, 0.2822410696651835, 0.7171408310989568, 0.9971595872413155, 0.9968966756391888, 0.1453097263962521, 0.8542039056377809, 0.046020898695102924, 0.9517121850147285, 0.997822633134705, 0.9958890479993602, 0.5935576589602063, 0.40174640530131006, 0.004530974495879437, 0.577556052284756, 0.40928314231457336, 0.01302758012672382, 0.9979220911019011, 0.17393122768131145, 0.825807929747403, 0.9459144279624826, 0.053718597143548395, 0.8167036036482778, 0.18165930623204682, 0.9997703494610584, 0.20895615282682548, 0.19236035729545306, 0.5982029934717422, 0.9910583695942585, 0.005795662980083383, 0.29043119841038145, 0.06574210440438139, 0.3419151327356075, 0.29176570693995757, 0.00955227158012379, 0.0004916610372122539, 0.5097343090944492, 0.01693981087625058, 0.17478804858676733, 0.2376706798698187, 0.060572657072653587, 0.9973704055216351, 0.6340918492666842, 0.3096727635953574, 0.05585728059079318, 0.866082040216679, 0.13347674174968083, 0.9983502156607131, 0.9995799357873151, 0.9987003636407014, 0.9989504699201751, 0.9989056845901214, 0.9949817818801991, 0.997798690678952, 0.9990997777750671, 0.996268406607939, 0.0633076133035921, 0.9344203723610194, 0.999537471250528, 0.12812730986256657, 0.36645863860503447, 0.424830437616147, 0.06830227104204872, 0.0121103317450441, 0.9988528053730286, 0.9960649159825216, 0.9922597655345424, 0.9998282218107899, 0.058222415037506435, 0.16789719685234414, 0.13201594107341574, 0.6390925557605357, 0.0027080193040700667, 0.1191358951520051, 0.7928409923848226, 0.08809344359831363, 0.48803578419001886, 0.21968836879629675, 0.2921951659538464, 0.996380403590107, 0.9948988324654371, 0.9995918489714151, 0.996274074641241, 0.9865938351531313, 0.016776484328824993, 0.7727506781615697, 0.2100932037486699, 0.20077908077386916, 0.7954918010407728, 0.45214118719491564, 0.09104838121194374, 0.1400961159824645, 0.0031007188648030375, 0.31345448887827065, 0.9993108439827645, 0.9591912195616545, 0.03903685195890454, 0.9997233289040945, 0.9934125015296056, 0.9982942102471875, 0.9977819659044969, 0.001215692563098028, 0.0957357893439697, 0.09178478851390111, 0.807523785037865, 0.003951000830068591, 0.9955652985709907, 0.9975902116128912, 0.993181002062565, 0.729341722580063, 0.27064603807992366, 0.9998491419153922, 0.9987686763356658, 0.9957195070217624, 0.2273876858869875, 0.7709377021510877, 0.9996428538688659, 0.9964179215805056, 0.9741577644915023, 0.025713809011958435, 0.9972458309463411, 0.9941967100973776, 0.9972008081435467, 0.9972904631644667, 0.999140982274931, 0.9941165774381472, 0.9976095610877429, 0.24423484826453226, 0.7216939573718352, 0.03403272475817253, 0.9939190948876067, 0.9989786183599721, 0.9986982945534361, 0.9930393966287057, 0.9904174492036729, 0.33943393472636746, 0.6601702374550961, 0.9959128000899978, 0.9975044580483824, 0.4964122130380686, 0.15938280605998317, 0.2573947238079017, 0.07611805186209873, 0.010549893924255115, 0.9992744789775191, 0.9985628047105917, 0.9994991101915084, 0.03362536286446432, 0.9662145084319543, 0.00033187114770578523, 0.2959184400376585, 0.12666415470770803, 0.4986917112858933, 0.015929815089877692, 0.004756819783782922, 0.024115970066620394, 0.03374023335008817, 0.9050190401070968, 0.09398857702954774, 0.9995228219787596, 0.9971092396498815, 0.06890467472362488, 0.928937096274054, 0.7097752903866922, 0.030899308416322067, 0.13086765917501111, 0.0663426327762209, 0.062253018427001816, 0.9943740395241605, 0.99812981776028, 0.9964354625045284, 0.9972586987081575, 0.4198921624505395, 0.4063472539843931, 0.17344090109089946, 0.9976229037038938, 0.7983145001263735, 0.18519321579183512, 0.01287115563557317, 0.003634208650044189, 0.5061025033883362, 0.371164495433219, 0.08599323932656082, 0.007137778758331135, 0.029400850599792534, 0.4648142255109117, 0.5347495768721865, 0.9965533712663164, 0.34037527005247564, 0.20360347204052198, 0.0132109123079728, 0.009584387360686149, 0.010620537345625193, 0.2823508708958892, 0.08470526126876678, 0.05569306169047357, 0.993518702726204, 0.9928592520884234, 0.9917112976756679, 0.9994037610289686, 0.1938632960336325, 0.7499002547313074, 0.05306144013832443, 0.003128930131006846, 0.9968446116225169, 0.997210037325096, 0.9964322823096435], \"Term\": [\"abouthtml\", \"abstract\", \"accessibility\", \"accessibility\", \"action\", \"activate\", \"activate\", \"activate\", \"activate\", \"activate\", \"active\", \"active\", \"active\", \"active\", \"active\", \"activities\", \"activity\", \"adapter\", \"adapter\", \"adapters\", \"anchor\", \"android\", \"annotation\", \"annotation\", \"apache\", \"appear\", \"appear\", \"appear\", \"appear\", \"appear\", \"appear\", \"appear\", \"appear\", \"appear\", \"appearance\", \"application\", \"application\", \"application\", \"application\", \"application\", \"application\", \"application\", \"application\", \"arabic\", \"arguments\", \"arguments\", \"arrows\", \"artifact\", \"artifacts\", \"assertion\", \"assist\", \"assistance\", \"attach\", \"attach\", \"attach\", \"attach\", \"attach\", \"attach\", \"attach\", \"attach\", \"attachment\", \"attachment\", \"attribute\", \"attribute\", \"attribute\", \"authentication\", \"autobuild\", \"automate\", \"available\", \"available\", \"available\", \"background\", \"background\", \"background\", \"background\", \"background\", \"backport\", \"baseline\", \"behavior\", \"behavior\", \"behavior\", \"behavior\", \"behavior\", \"behavior\", \"bookmark\", \"bookmarks\", \"bootloader\", \"border\", \"border\", \"branch\", \"breadcrumb\", \"breakpoint\", \"breakpoints\", \"browser\", \"browser\", \"builder\", \"builder\", \"builders\", \"bundle\", \"button\", \"button\", \"button\", \"button\", \"callisto\", \"cancel\", \"cancel\", \"cancel\", \"cancel\", \"canvas\", \"capabilities\", \"carbon\", \"categories\", \"category\", \"ccombo\", \"change\", \"change\", \"change\", \"change\", \"change\", \"change\", \"change\", \"character\", \"cheatsheet\", \"checkout\", \"choose\", \"choose\", \"choose\", \"choose\", \"classpath\", \"classpath\", \"classpath\", \"classpath\", \"client\", \"client\", \"client\", \"client\", \"client\", \"client\", \"client\", \"clients\", \"collapse\", \"collapse\", \"colour\", \"column\", \"column\", \"columns\", \"comappleappkit\", \"command\", \"command\", \"command\", \"command\", \"command\", \"command\", \"commandline\", \"commit\", \"commitpatch\", \"community\", \"compact\", \"comparator\", \"compare\", \"compare\", \"compare\", \"compare\", \"compile\", \"compile\", \"components\", \"components\", \"components\", \"components\", \"components\", \"components\", \"components\", \"composite\", \"concrete\", \"condition\", \"condition\", \"config\", \"config\", \"configs\", \"configuration\", \"configuration\", \"configuration\", \"configuration\", \"configuration\", \"console\", \"console\", \"console\", \"console\", \"consolelog\", \"consolelog\", \"constants\", \"constructor\", \"constructor\", \"contain\", \"contain\", \"contain\", \"contain\", \"contain\", \"contain\", \"contain\", \"contain\", \"content\", \"content\", \"content\", \"content\", \"content\", \"content\", \"content\", \"content\", \"context\", \"context\", \"context\", \"contexts\", \"contract\", \"contrast\", \"contribute\", \"contribute\", \"contribute\", \"contribution\", \"contribution\", \"contributions\", \"control\", \"control\", \"control\", \"control\", \"control\", \"corporation\", \"cprogram\", \"create\", \"create\", \"create\", \"create\", \"create\", \"create\", \"create\", \"create\", \"create\", \"ctrlspace\", \"current\", \"current\", \"current\", \"current\", \"current\", \"current\", \"current\", \"currently\", \"currently\", \"currently\", \"currently\", \"currently\", \"currently\", \"currently\", \"currently\", \"currently\", \"cursor\", \"cvsignore\", \"cwindowsdll\", \"cwinntdll\", \"daemon\", \"databinding\", \"datetime\", \"debugger\", \"debugger\", \"debugger\", \"decoration\", \"decorations\", \"decorator\", \"decorators\", \"default\", \"default\", \"default\", \"default\", \"default\", \"default\", \"define\", \"define\", \"define\", \"define\", \"delegate\", \"delegate\", \"delete\", \"deletion\", \"dependency\", \"deprecate\", \"deprecate\", \"derive\", \"description\", \"description\", \"description\", \"description\", \"description\", \"description\", \"destination\", \"detach\", \"detach\", \"detect\", \"detect\", \"detect\", \"detect\", \"detect\", \"detector\", \"developer\", \"development\", \"development\", \"dialog\", \"dialog\", \"dialog\", \"dialog\", \"dialogs\", \"dialogs\", \"dialogs\", \"dialogs\", \"dialogue\", \"different\", \"different\", \"different\", \"different\", \"different\", \"different\", \"different\", \"direction\", \"direction\", \"directory\", \"directory\", \"directory\", \"directory\", \"disable\", \"dispatcher\", \"display\", \"display\", \"display\", \"display\", \"displaydispose\", \"displaysleep\", \"dispose\", \"dispose\", \"dispose\", \"document\", \"document\", \"document\", \"document\", \"doesnt\", \"doesnt\", \"doesnt\", \"doesnt\", \"doesnt\", \"doesnt\", \"doesnt\", \"double\", \"double\", \"double\", \"double\", \"double\", \"double\", \"download\", \"download\", \"dynamic\", \"eclipse\", \"eclipse\", \"eclipse\", \"eclipse\", \"eclipse\", \"eclipse\", \"eclipse\", \"eclipse\", \"eclipsebuildid\", \"editor\", \"editors\", \"elapse\", \"element\", \"element\", \"element\", \"elements\", \"elements\", \"enable\", \"enable\", \"enable\", \"enable\", \"enable\", \"enablement\", \"encode\", \"encode\", \"encode\", \"encodingutf\", \"entity\", \"equinox\", \"escape\", \"europa\", \"evaluate\", \"events\", \"events\", \"events\", \"events\", \"example\", \"example\", \"example\", \"example\", \"example\", \"example\", \"example\", \"exception\", \"exception\", \"exception\", \"exception\", \"execute\", \"execute\", \"execute\", \"execute\", \"execute\", \"execute\", \"expand\", \"expand\", \"expand\", \"expand\", \"expand\", \"expand\", \"expect\", \"expect\", \"expect\", \"expect\", \"expect\", \"expect\", \"explorer\", \"explorer\", \"explorer\", \"export\", \"export\", \"export\", \"expression\", \"expressions\", \"extension\", \"extension\", \"extension\", \"externalize\", \"extssh\", \"factory\", \"factory\", \"failures\", \"failures\", \"family\", \"favorites\", \"feature\", \"feature\", \"featurexml\", \"filedialog\", \"fileset\", \"filter\", \"filter\", \"filter\", \"finalizer\", \"findreplace\", \"firefox\", \"folder\", \"folders\", \"follow\", \"follow\", \"follow\", \"follow\", \"follow\", \"follow\", \"follow\", \"follow\", \"follow\", \"follow\", \"format\", \"format\", \"format\", \"fragment\", \"framework\", \"framework\", \"framework\", \"framework\", \"galileo\", \"ganymede\", \"generation\", \"google\", \"griddata\", \"gridlayout\", \"gtkcritical\", \"handle\", \"handle\", \"handle\", \"handle\", \"handle\", \"handle\", \"handle\", \"handleevent\", \"handler\", \"handler\", \"handler\", \"happen\", \"happen\", \"happen\", \"happen\", \"happen\", \"happen\", \"happen\", \"happen\", \"hebrew\", \"helios\", \"highlight\", \"history\", \"history\", \"hotspot\", \"hudson\", \"hyperlink\", \"iadaptable\", \"identifier\", \"identifier\", \"identifier\", \"identifier\", \"identifier\", \"implement\", \"implement\", \"implement\", \"implementation\", \"implementation\", \"implementation\", \"import\", \"import\", \"include\", \"include\", \"include\", \"include\", \"include\", \"include\", \"include\", \"incoming\", \"incoming\", \"indigo\", \"infocenter\", \"information\", \"information\", \"information\", \"information\", \"information\", \"information\", \"information\", \"information\", \"information\", \"inherit\", \"inherit\", \"instal\", \"instal\", \"instal\", \"install\", \"install\", \"installation\", \"installation\", \"instance\", \"instance\", \"instance\", \"instance\", \"instanceof\", \"instead\", \"instead\", \"instead\", \"instead\", \"instead\", \"instead\", \"instead\", \"instead\", \"interface\", \"interface\", \"internet\", \"invalid\", \"invalid\", \"invalid\", \"invoke\", \"invoke\", \"invoke\", \"invoke\", \"invoke\", \"invoke\", \"invoke\", \"invoke\", \"invoke\", \"iresource\", \"itemsettext\", \"iterate\", \"javadoc\", \"javafullversion\", \"javalangclass\", \"javalangclass\", \"javascript\", \"javascript\", \"javathread\", \"javavendorapple\", \"javavendorsun\", \"javaversion\", \"jvmdll\", \"jvmmonitorwait\", \"jvmraisesignal\", \"jvmstartthread\", \"kepler\", \"keybinding\", \"keybindings\", \"keyboard\", \"keyring\", \"launch\", \"launch\", \"launch\", \"launch\", \"launch\", \"layout\", \"layout\", \"layout\", \"libclientdylib\", \"libgobjectso\", \"libgtkso\", \"libjvmdylib\", \"libjvmso\", \"liblibpthreadso\", \"library\", \"library\", \"library\", \"libsystembdylib\", \"license\", \"license\", \"listen\", \"listen\", \"listener\", \"listener\", \"listener\", \"listeners\", \"listeners\", \"location\", \"location\", \"location\", \"location\", \"location\", \"location\", \"lucene\", \"machmsg\", \"machmsgtrap\", \"mainbasicrun\", \"mainmain\", \"mainrun\", \"maintenance\", \"manager\", \"manager\", \"manager\", \"manifest\", \"manifest\", \"manifestmf\", \"margin\", \"marker\", \"markers\", \"maximize\", \"memory\", \"memory\", \"menuitem\", \"message\", \"messagebox\", \"method\", \"method\", \"method\", \"methodinvoke\", \"methods\", \"microsystems\", \"middle\", \"middle\", \"migration\", \"milestone\", \"minimize\", \"mirror\", \"mnemonic\", \"mnemonics\", \"module\", \"module\", \"module\", \"monitor\", \"mozilla\", \"native\", \"native\", \"native\", \"native\", \"navigator\", \"navigator\", \"navigator\", \"network\", \"network\", \"newline\", \"nlenus\", \"number\", \"number\", \"number\", \"number\", \"number\", \"number\", \"number\", \"object\", \"object\", \"object\", \"objectwait\", \"observable\", \"official\", \"online\", \"operation\", \"operation\", \"operation\", \"operation\", \"operation\", \"optimize\", \"optional\", \"orgeclipsejdt\", \"orgeclipsejdtui\", \"orgeclipsejface\", \"orgeclipseosgi\", \"orgeclipsepdeui\", \"orgeclipseui\", \"orgeclipseuiide\", \"orientation\", \"oslinux\", \"osmacosx\", \"outline\", \"output\", \"output\", \"output\", \"output\", \"override\", \"override\", \"package\", \"package\", \"package\", \"package\", \"package\", \"parameter\", \"parameter\", \"parent\", \"parent\", \"parent\", \"parent\", \"parent\", \"partition\", \"password\", \"password\", \"people\", \"people\", \"people\", \"people\", \"perspective\", \"perspectives\", \"platform\", \"platform\", \"platform\", \"platform\", \"platform\", \"plugin\", \"plugin\", \"plugin\", \"plugin\", \"plugins\", \"plugins\", \"plugins\", \"position\", \"position\", \"position\", \"preference\", \"preference\", \"preferences\", \"preferences\", \"preferences\", \"preferences\", \"prerequisite\", \"private\", \"private\", \"problem\", \"problem\", \"problem\", \"problem\", \"problem\", \"problem\", \"problem\", \"problem\", \"problem\", \"problematic\", \"problematic\", \"problematic\", \"problems\", \"problems\", \"problems\", \"problems\", \"problems\", \"problems\", \"problems\", \"problems\", \"production\", \"products\", \"profile\", \"profile\", \"program\", \"program\", \"program\", \"program\", \"program\", \"progress\", \"progress\", \"progress\", \"project\", \"promote\", \"prompt\", \"prompt\", \"property\", \"proposals\", \"provide\", \"provide\", \"provide\", \"provide\", \"provide\", \"provide\", \"provider\", \"provider\", \"providers\", \"pserver\", \"pthreadbody\", \"pthreadcondwait\", \"public\", \"public\", \"qualifier\", \"reassign\", \"rectangle\", \"reference\", \"reference\", \"reference\", \"reference\", \"reference\", \"refresh\", \"refresh\", \"register\", \"register\", \"register\", \"register\", \"register\", \"relaunch\", \"release\", \"release\", \"release\", \"release\", \"release\", \"release\", \"releng\", \"remove\", \"remove\", \"remove\", \"remove\", \"remove\", \"remove\", \"remove\", \"rename\", \"rename\", \"rename\", \"render\", \"render\", \"render\", \"report\", \"report\", \"report\", \"report\", \"report\", \"report\", \"report\", \"report\", \"report\", \"repositories\", \"repository\", \"reproduce\", \"reproduce\", \"reproduce\", \"reproduce\", \"reproduce\", \"reproduce\", \"reproduce\", \"reproduce\", \"reproduce\", \"reproducible\", \"reproducible\", \"reproducible\", \"reproducible\", \"reproducible\", \"reproducible\", \"reproducible\", \"request\", \"request\", \"request\", \"request\", \"request\", \"request\", \"require\", \"require\", \"require\", \"resize\", \"resize\", \"resolve\", \"resource\", \"resource\", \"resource\", \"resource\", \"resources\", \"resources\", \"resources\", \"resources\", \"responseby\", \"restart\", \"restart\", \"restart\", \"restart\", \"restart\", \"restore\", \"restore\", \"restore\", \"restore\", \"result\", \"result\", \"result\", \"result\", \"result\", \"result\", \"resume\", \"return\", \"return\", \"revision\", \"revision\", \"revisions\", \"runnable\", \"runnable\", \"safari\", \"saferunnerrun\", \"satisfy\", \"satisfy\", \"schedule\", \"schedule\", \"schema\", \"scheme\", \"screen\", \"screen\", \"screen\", \"screenshot\", \"screenshot\", \"screenshot\", \"screenshots\", \"script\", \"script\", \"scroll\", \"scroll\", \"scrollbar\", \"scrollbar\", \"search\", \"section\", \"section\", \"section\", \"security\", \"security\", \"select\", \"select\", \"select\", \"select\", \"select\", \"select\", \"selection\", \"selection\", \"selection\", \"selection\", \"selection\", \"sentence\", \"server\", \"server\", \"server\", \"session\", \"session\", \"settext\", \"shellopen\", \"shellpack\", \"shellsetlayout\", \"shellsetsize\", \"shellsettext\", \"showlocation\", \"signal\", \"sigsegv\", \"snapshot\", \"snapshot\", \"snippet\", \"source\", \"source\", \"source\", \"source\", \"source\", \"splash\", \"standalone\", \"statemask\", \"static\", \"status\", \"status\", \"status\", \"status\", \"status\", \"stream\", \"stream\", \"stream\", \"string\", \"string\", \"string\", \"subclass\", \"subclasses\", \"subentry\", \"submenu\", \"subversive\", \"support\", \"support\", \"support\", \"suspend\", \"suspend\", \"switch\", \"switch\", \"switch\", \"switch\", \"switch\", \"symbol\", \"synchronization\", \"synchronization\", \"synchronize\", \"tabitem\", \"tablecolumn\", \"tableitem\", \"target\", \"target\", \"target\", \"target\", \"target\", \"tenure\", \"tester\", \"textlayout\", \"thread\", \"thread\", \"threadblocked\", \"threadinnative\", \"timedwaiting\", \"toggle\", \"toggle\", \"toolbar\", \"toolitem\", \"tooltip\", \"tooltip\", \"tooltips\", \"tostring\", \"translate\", \"translation\", \"treeitem\", \"tutorial\", \"ubuntu\", \"unable\", \"unable\", \"unable\", \"underline\", \"unexpected\", \"unhandled\", \"unicode\", \"uninstall\", \"unknown\", \"unknown\", \"unsaved\", \"unused\", \"update\", \"update\", \"update\", \"update\", \"update\", \"useragent\", \"usrlibso\", \"variable\", \"variables\", \"variables\", \"version\", \"version\", \"version\", \"version\", \"version\", \"version\", \"version\", \"version\", \"vertical\", \"vertical\", \"viewer\", \"viewers\", \"virtual\", \"virtual\", \"visible\", \"visible\", \"visible\", \"visible\", \"visible\", \"visiblewhen\", \"vmargs\", \"vmthread\", \"whitespace\", \"widget\", \"widget\", \"widget\", \"widgetselected\", \"window\", \"window\", \"window\", \"window\", \"windows\", \"windows\", \"windows\", \"windows\", \"windows\", \"wizard\", \"wizard\", \"wizards\", \"workbench\", \"workbench\", \"workbench\", \"workbench\", \"workbench\", \"workbench\", \"workbench\", \"workbench\", \"workbenchaccess\", \"workbenchrun\", \"workbenchrunui\", \"worker\", \"workspace\", \"workspace\", \"workspace\", \"workspace\", \"workspaces\", \"xulrunner\", \"xxmaxpermsize\"]}, \"R\": 30, \"lambda.step\": 0.01, \"plot.opts\": {\"xlab\": \"PC1\", \"ylab\": \"PC2\"}, \"topic.order\": [3, 7, 8, 9, 5, 2, 4, 10, 1, 6]};\n",
       "\n",
       "function LDAvis_load_lib(url, callback){\n",
       "  var s = document.createElement('script');\n",
       "  s.src = url;\n",
       "  s.async = true;\n",
       "  s.onreadystatechange = s.onload = callback;\n",
       "  s.onerror = function(){console.warn(\"failed to load library \" + url);};\n",
       "  document.getElementsByTagName(\"head\")[0].appendChild(s);\n",
       "}\n",
       "\n",
       "if(typeof(LDAvis) !== \"undefined\"){\n",
       "   // already loaded: just create the visualization\n",
       "   !function(LDAvis){\n",
       "       new LDAvis(\"#\" + \"ldavis_el1421613710945057281637772354\", ldavis_el1421613710945057281637772354_data);\n",
       "   }(LDAvis);\n",
       "}else if(typeof define === \"function\" && define.amd){\n",
       "   // require.js is available: use it to load d3/LDAvis\n",
       "   require.config({paths: {d3: \"https://cdnjs.cloudflare.com/ajax/libs/d3/3.5.5/d3.min\"}});\n",
       "   require([\"d3\"], function(d3){\n",
       "      window.d3 = d3;\n",
       "      LDAvis_load_lib(\"https://cdn.rawgit.com/bmabey/pyLDAvis/files/ldavis.v1.0.0.js\", function(){\n",
       "        new LDAvis(\"#\" + \"ldavis_el1421613710945057281637772354\", ldavis_el1421613710945057281637772354_data);\n",
       "      });\n",
       "    });\n",
       "}else{\n",
       "    // require.js not available: dynamically load d3 & LDAvis\n",
       "    LDAvis_load_lib(\"https://cdnjs.cloudflare.com/ajax/libs/d3/3.5.5/d3.min.js\", function(){\n",
       "         LDAvis_load_lib(\"https://cdn.rawgit.com/bmabey/pyLDAvis/files/ldavis.v1.0.0.js\", function(){\n",
       "                 new LDAvis(\"#\" + \"ldavis_el1421613710945057281637772354\", ldavis_el1421613710945057281637772354_data);\n",
       "            })\n",
       "         });\n",
       "}\n",
       "</script>"
      ],
      "text/plain": [
       "PreparedData(topic_coordinates=              x         y  topics  cluster       Freq\n",
       "topic                                                \n",
       "2      0.171064 -0.072706       1        1  14.508000\n",
       "6      0.091842  0.089705       2        1  14.103856\n",
       "7      0.159283  0.034550       3        1  14.003382\n",
       "8      0.094327  0.158672       4        1  12.987577\n",
       "4      0.128266  0.014705       5        1  12.287866\n",
       "1      0.155948 -0.075773       6        1   9.007591\n",
       "3      0.022381 -0.255683       7        1   7.571185\n",
       "9     -0.189315  0.264699       8        1   6.809114\n",
       "0     -0.319357  0.049071       9        1   4.801345\n",
       "5     -0.314438 -0.207240      10        1   3.920084, topic_info=         Term          Freq         Total Category  logprob  loglift\n",
       "26    project  22056.000000  22056.000000  Default  30.0000  30.0000\n",
       "488   message  13101.000000  13101.000000  Default  29.0000  29.0000\n",
       "12     editor  12484.000000  12484.000000  Default  28.0000  28.0000\n",
       "298    public   9836.000000   9836.000000  Default  27.0000  27.0000\n",
       "621    import  10649.000000  10649.000000  Default  26.0000  26.0000\n",
       "...       ...           ...           ...      ...      ...      ...\n",
       "510    expand    801.445315   1956.822204  Topic10  -4.1784   2.3464\n",
       "411    switch   1112.180983   3547.564445  Topic10  -3.8507   2.0791\n",
       "1379   render    544.924666   1248.078015  Topic10  -4.5641   2.4103\n",
       "292    native    550.987958   2002.854769  Topic10  -4.5531   1.9484\n",
       "98     method    394.502154   7241.446415  Topic10  -4.8872   0.3291\n",
       "\n",
       "[616 rows x 6 columns], token_table=      Topic      Freq           Term\n",
       "term                                \n",
       "2831      4  0.994303      abouthtml\n",
       "860       5  0.996588       abstract\n",
       "669       1  0.959994  accessibility\n",
       "669       7  0.037953  accessibility\n",
       "379       6  0.999873         action\n",
       "...     ...       ...            ...\n",
       "36        8  0.053061      workspace\n",
       "36        9  0.003129      workspace\n",
       "37        3  0.996845     workspaces\n",
       "3904      2  0.997210      xulrunner\n",
       "3897      9  0.996432  xxmaxpermsize\n",
       "\n",
       "[1130 rows x 3 columns], R=30, lambda_step=0.01, plot_opts={'xlab': 'PC1', 'ylab': 'PC2'}, topic_order=[3, 7, 8, 9, 5, 2, 4, 10, 1, 6])"
      ]
     },
     "execution_count": 18,
     "metadata": {},
     "output_type": "execute_result"
    }
   ],
   "source": [
    "# Visualize the topics for LDA model\n",
    "pyLDAvis.enable_notebook()\n",
    "vis = pyLDAvis.gensim.prepare(lda_model, bow_corpus, dictionary)\n",
    "vis"
   ]
  },
  {
   "cell_type": "markdown",
   "metadata": {
    "colab_type": "text",
    "id": "xwDq4v6jODOd"
   },
   "source": [
    "### **Clustering premised on Topic Modeling**"
   ]
  },
  {
   "cell_type": "code",
   "execution_count": 19,
   "metadata": {
    "ExecuteTime": {
     "end_time": "2021-04-21T09:42:29.040688Z",
     "start_time": "2021-04-21T07:30:26.228887Z"
    },
    "colab": {},
    "colab_type": "code",
    "id": "DjlOxg-ay2yX",
    "scrolled": true
   },
   "outputs": [
    {
     "name": "stderr",
     "output_type": "stream",
     "text": [
      "C:\\Users\\abdul\\anaconda3\\lib\\site-packages\\ipykernel\\ipkernel.py:287: DeprecationWarning: `should_run_async` will not call `transform_cell` automatically in the future. Please pass the result to `transformed_cell` argument and any exception that happen during thetransform in `preprocessing_exc_tuple` in IPython 7.17 and above.\n",
      "  and should_run_async(code)\n"
     ]
    }
   ],
   "source": [
    "#Creating 10 empty clusters and pushing master reports in each of them based on topic modeling and saving them in individual csv file\n",
    "for c in range(10):\n",
    "    exec('topic_{} = pd.DataFrame()'.format(c))\n",
    "    for i in range(len(master_reports)):\n",
    "        topic=lda_model[dictionary.doc2bow(master_reports.Description[i])]\n",
    "        topic= np.asarray(topic)\n",
    "        if int(topic[np.argmax(topic[:,1]),0])== c:\n",
    "            exec('topic_{} = topic_{}.append(master_reports.loc[[i]])'.format(c,c))\n",
    "            exec('topic_{} = topic_{}.reset_index(drop=True)'.format(c,c))\n",
    "            exec('topic_{}.to_csv(\"CSV/topic_{}.csv\")'.format(c,c))"
   ]
  },
  {
   "cell_type": "code",
   "execution_count": null,
   "metadata": {},
   "outputs": [],
   "source": []
  }
 ],
 "metadata": {
  "accelerator": "TPU",
  "colab": {
   "collapsed_sections": [],
   "name": "clustering_based_on_topic_modeling.ipynb",
   "provenance": []
  },
  "kernelspec": {
   "display_name": "Python 3",
   "language": "python",
   "name": "python3"
  },
  "language_info": {
   "codemirror_mode": {
    "name": "ipython",
    "version": 3
   },
   "file_extension": ".py",
   "mimetype": "text/x-python",
   "name": "python",
   "nbconvert_exporter": "python",
   "pygments_lexer": "ipython3",
   "version": "3.8.5"
  },
  "toc": {
   "base_numbering": 1,
   "nav_menu": {},
   "number_sections": true,
   "sideBar": true,
   "skip_h1_title": false,
   "title_cell": "Table of Contents",
   "title_sidebar": "Contents",
   "toc_cell": false,
   "toc_position": {},
   "toc_section_display": true,
   "toc_window_display": true
  }
 },
 "nbformat": 4,
 "nbformat_minor": 1
}
